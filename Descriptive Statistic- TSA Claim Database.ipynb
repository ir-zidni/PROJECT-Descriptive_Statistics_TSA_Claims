{
 "cells": [
  {
   "attachments": {},
   "cell_type": "markdown",
   "metadata": {},
   "source": [
    "# Latar Belakang\n",
    "\n",
    "Sebagai tugas Capstone Project untuk Modul dua, kita coba untuk melakukan data analasis meggunakan *descriptive statistics* terhadap *TSA CLAIMS DATABASE*. TSA adalah agensi milik *USA* yang memiliki otoritas terhadap keamanan transportasi. Database ini berisi tentang *historical data* mengenai semua klaim dari 2002 sampai 2015 di semua bandara di Amerika. Kita mencoba melakukan *descriptive statistics* untuk mencari informasi yang bermanfaat untuk membantu *stakeholder* yang bersangkutan.   \n",
    "\n"
   ]
  },
  {
   "attachments": {},
   "cell_type": "markdown",
   "metadata": {},
   "source": [
    "# Pernyataan Masalah\n",
    "\n",
    "Kita ingin mengetahui bagaimana tren dari jumlah laporan klaim yang diajukan penumpang terhadap TSA setiap tahunnya. Kemudian, tipe klaim apa yang paling banyak diajukan oleh penumpang. Informasi ini nantinya bisa digunakan oleh pihak TSA, Airline, maupun Airport untuk meningkatkan kualitas pelayanan mereka sehingga jumlah klaim yang diajukan oleh penumpang bisa berkurang."
   ]
  },
  {
   "attachments": {},
   "cell_type": "markdown",
   "metadata": {},
   "source": [
    "> # Workflow\n",
    "\n",
    "* Read Data, menampilkan seluruh raw data yang akan di analysis\n",
    "* Data Cleaning, membersihkan data yang duplikat, missing values, atau format dan type yang tidak sesuai\n",
    "* Data Analysis, melakukan analisa data secara statistik untuk mendapatkan informasi yang   \n",
    "dapat digunakan perusahaan untuk mengambil keputusaan"
   ]
  },
  {
   "attachments": {},
   "cell_type": "markdown",
   "metadata": {},
   "source": [
    "# READ DATA"
   ]
  },
  {
   "cell_type": "code",
   "execution_count": 2,
   "metadata": {},
   "outputs": [],
   "source": [
    "import pandas as pd\n",
    "import numpy as np\n",
    "import missingno as msno\n",
    "import matplotlib.pyplot as plt\n",
    "import seaborn as sns\n",
    "import re"
   ]
  },
  {
   "cell_type": "code",
   "execution_count": 3,
   "metadata": {},
   "outputs": [
    {
     "name": "stderr",
     "output_type": "stream",
     "text": [
      "C:\\Users\\Irfan\\AppData\\Local\\Temp\\ipykernel_10444\\1799810038.py:1: DtypeWarning: Columns (0,11,12) have mixed types. Specify dtype option on import or set low_memory=False.\n",
      "  df = pd.read_csv(r'D:\\Dokumen\\Kerja\\File Capstone 2\\tsa_claims.csv')\n"
     ]
    },
    {
     "data": {
      "text/html": [
       "<div>\n",
       "<style scoped>\n",
       "    .dataframe tbody tr th:only-of-type {\n",
       "        vertical-align: middle;\n",
       "    }\n",
       "\n",
       "    .dataframe tbody tr th {\n",
       "        vertical-align: top;\n",
       "    }\n",
       "\n",
       "    .dataframe thead th {\n",
       "        text-align: right;\n",
       "    }\n",
       "</style>\n",
       "<table border=\"1\" class=\"dataframe\">\n",
       "  <thead>\n",
       "    <tr style=\"text-align: right;\">\n",
       "      <th></th>\n",
       "      <th>claim_number</th>\n",
       "      <th>date_received</th>\n",
       "      <th>incident_date</th>\n",
       "      <th>airport_code</th>\n",
       "      <th>airport_name</th>\n",
       "      <th>airline_name</th>\n",
       "      <th>claim_type</th>\n",
       "      <th>claim_site</th>\n",
       "      <th>item</th>\n",
       "      <th>claim_amount</th>\n",
       "      <th>status</th>\n",
       "      <th>close_amount</th>\n",
       "      <th>disposition</th>\n",
       "    </tr>\n",
       "  </thead>\n",
       "  <tbody>\n",
       "    <tr>\n",
       "      <th>0</th>\n",
       "      <td>0909802M</td>\n",
       "      <td>4-Jan-02</td>\n",
       "      <td>12/12/2002 0:00</td>\n",
       "      <td>EWR</td>\n",
       "      <td>Newark International Airport</td>\n",
       "      <td>Continental Airlines</td>\n",
       "      <td>Property Damage</td>\n",
       "      <td>Checkpoint</td>\n",
       "      <td>Other</td>\n",
       "      <td>$350.00</td>\n",
       "      <td>Approved</td>\n",
       "      <td>$350.00</td>\n",
       "      <td>Approve in Full</td>\n",
       "    </tr>\n",
       "    <tr>\n",
       "      <th>1</th>\n",
       "      <td>0202417M</td>\n",
       "      <td>2-Feb-02</td>\n",
       "      <td>1/16/2004 0:00</td>\n",
       "      <td>SEA</td>\n",
       "      <td>Seattle-Tacoma International</td>\n",
       "      <td>NaN</td>\n",
       "      <td>Property Damage</td>\n",
       "      <td>Checked Baggage</td>\n",
       "      <td>Luggage (all types including footlockers)</td>\n",
       "      <td>$100.00</td>\n",
       "      <td>Settled</td>\n",
       "      <td>$50.00</td>\n",
       "      <td>Settle</td>\n",
       "    </tr>\n",
       "    <tr>\n",
       "      <th>2</th>\n",
       "      <td>0202445M</td>\n",
       "      <td>4-Feb-02</td>\n",
       "      <td>11/26/2003 0:00</td>\n",
       "      <td>STL</td>\n",
       "      <td>Lambert St. Louis International</td>\n",
       "      <td>American Airlines</td>\n",
       "      <td>Property Damage</td>\n",
       "      <td>Checked Baggage</td>\n",
       "      <td>Cell Phones</td>\n",
       "      <td>$278.88</td>\n",
       "      <td>Settled</td>\n",
       "      <td>$227.92</td>\n",
       "      <td>Settle</td>\n",
       "    </tr>\n",
       "    <tr>\n",
       "      <th>3</th>\n",
       "      <td>0909816M</td>\n",
       "      <td>7-Feb-02</td>\n",
       "      <td>1/6/2003 0:00</td>\n",
       "      <td>MIA</td>\n",
       "      <td>Miami International Airport</td>\n",
       "      <td>American Airlines</td>\n",
       "      <td>Property Damage</td>\n",
       "      <td>Checkpoint</td>\n",
       "      <td>Luggage (all types including footlockers)</td>\n",
       "      <td>$50.00</td>\n",
       "      <td>Approved</td>\n",
       "      <td>$50.00</td>\n",
       "      <td>Approve in Full</td>\n",
       "    </tr>\n",
       "    <tr>\n",
       "      <th>4</th>\n",
       "      <td>2005032379513</td>\n",
       "      <td>18-Feb-02</td>\n",
       "      <td>2/5/2005 0:00</td>\n",
       "      <td>MCO</td>\n",
       "      <td>Orlando International Airport</td>\n",
       "      <td>Delta (Song)</td>\n",
       "      <td>Property Damage</td>\n",
       "      <td>Checkpoint</td>\n",
       "      <td>Baby - Strollers; car seats; playpen; etc.</td>\n",
       "      <td>$84.79</td>\n",
       "      <td>Approved</td>\n",
       "      <td>$84.79</td>\n",
       "      <td>Approve in Full</td>\n",
       "    </tr>\n",
       "  </tbody>\n",
       "</table>\n",
       "</div>"
      ],
      "text/plain": [
       "    claim_number date_received    incident_date airport_code  \\\n",
       "0       0909802M      4-Jan-02  12/12/2002 0:00          EWR   \n",
       "1       0202417M      2-Feb-02   1/16/2004 0:00          SEA   \n",
       "2       0202445M      4-Feb-02  11/26/2003 0:00          STL   \n",
       "3       0909816M      7-Feb-02    1/6/2003 0:00          MIA   \n",
       "4  2005032379513     18-Feb-02    2/5/2005 0:00          MCO   \n",
       "\n",
       "                      airport_name          airline_name       claim_type  \\\n",
       "0     Newark International Airport  Continental Airlines  Property Damage   \n",
       "1     Seattle-Tacoma International                   NaN  Property Damage   \n",
       "2  Lambert St. Louis International     American Airlines  Property Damage   \n",
       "3      Miami International Airport     American Airlines  Property Damage   \n",
       "4    Orlando International Airport          Delta (Song)  Property Damage   \n",
       "\n",
       "        claim_site                                        item claim_amount  \\\n",
       "0       Checkpoint                                       Other     $350.00    \n",
       "1  Checked Baggage   Luggage (all types including footlockers)     $100.00    \n",
       "2  Checked Baggage                                 Cell Phones     $278.88    \n",
       "3       Checkpoint   Luggage (all types including footlockers)      $50.00    \n",
       "4       Checkpoint  Baby - Strollers; car seats; playpen; etc.      $84.79    \n",
       "\n",
       "     status close_amount      disposition  \n",
       "0  Approved     $350.00   Approve in Full  \n",
       "1   Settled      $50.00            Settle  \n",
       "2   Settled     $227.92            Settle  \n",
       "3  Approved      $50.00   Approve in Full  \n",
       "4  Approved      $84.79   Approve in Full  "
      ]
     },
     "metadata": {},
     "output_type": "display_data"
    },
    {
     "data": {
      "text/html": [
       "<div>\n",
       "<style scoped>\n",
       "    .dataframe tbody tr th:only-of-type {\n",
       "        vertical-align: middle;\n",
       "    }\n",
       "\n",
       "    .dataframe tbody tr th {\n",
       "        vertical-align: top;\n",
       "    }\n",
       "\n",
       "    .dataframe thead th {\n",
       "        text-align: right;\n",
       "    }\n",
       "</style>\n",
       "<table border=\"1\" class=\"dataframe\">\n",
       "  <thead>\n",
       "    <tr style=\"text-align: right;\">\n",
       "      <th></th>\n",
       "      <th>claim_number</th>\n",
       "      <th>date_received</th>\n",
       "      <th>incident_date</th>\n",
       "      <th>airport_code</th>\n",
       "      <th>airport_name</th>\n",
       "      <th>airline_name</th>\n",
       "      <th>claim_type</th>\n",
       "      <th>claim_site</th>\n",
       "      <th>item</th>\n",
       "      <th>claim_amount</th>\n",
       "      <th>status</th>\n",
       "      <th>close_amount</th>\n",
       "      <th>disposition</th>\n",
       "    </tr>\n",
       "  </thead>\n",
       "  <tbody>\n",
       "    <tr>\n",
       "      <th>204262</th>\n",
       "      <td>2015120427297</td>\n",
       "      <td>20-Nov-15</td>\n",
       "      <td>16-Oct-15</td>\n",
       "      <td>-</td>\n",
       "      <td>-</td>\n",
       "      <td>-</td>\n",
       "      <td>Property Damage</td>\n",
       "      <td>Checked Baggage</td>\n",
       "      <td>Baggage/Cases/Purses; Books; Magazines &amp; Other...</td>\n",
       "      <td>-</td>\n",
       "      <td>-</td>\n",
       "      <td>NaN</td>\n",
       "      <td>NaN</td>\n",
       "    </tr>\n",
       "    <tr>\n",
       "      <th>204263</th>\n",
       "      <td>2015123027969</td>\n",
       "      <td>17-Dec-15</td>\n",
       "      <td>2-Dec-15</td>\n",
       "      <td>-</td>\n",
       "      <td>-</td>\n",
       "      <td>-</td>\n",
       "      <td>Property Damage</td>\n",
       "      <td>Checked Baggage</td>\n",
       "      <td>Audio/Video; Home Decor</td>\n",
       "      <td>-</td>\n",
       "      <td>-</td>\n",
       "      <td>NaN</td>\n",
       "      <td>NaN</td>\n",
       "    </tr>\n",
       "    <tr>\n",
       "      <th>204264</th>\n",
       "      <td>2016010428072</td>\n",
       "      <td>22-Dec-15</td>\n",
       "      <td>20-Dec-15</td>\n",
       "      <td>-</td>\n",
       "      <td>-</td>\n",
       "      <td>-</td>\n",
       "      <td>Passenger Property Loss</td>\n",
       "      <td>Checked Baggage</td>\n",
       "      <td>Clothing</td>\n",
       "      <td>-</td>\n",
       "      <td>-</td>\n",
       "      <td>NaN</td>\n",
       "      <td>NaN</td>\n",
       "    </tr>\n",
       "    <tr>\n",
       "      <th>204265</th>\n",
       "      <td>2016011328300</td>\n",
       "      <td>30-Dec-15</td>\n",
       "      <td>28-Dec-15</td>\n",
       "      <td>-</td>\n",
       "      <td>-</td>\n",
       "      <td>-</td>\n",
       "      <td>Passenger Property Loss</td>\n",
       "      <td>Checked Baggage</td>\n",
       "      <td>Tools &amp; Home Improvement Supplies</td>\n",
       "      <td>-</td>\n",
       "      <td>-</td>\n",
       "      <td>NaN</td>\n",
       "      <td>NaN</td>\n",
       "    </tr>\n",
       "    <tr>\n",
       "      <th>204266</th>\n",
       "      <td>2015123128015</td>\n",
       "      <td>31-Dec-15</td>\n",
       "      <td>23-Nov-15</td>\n",
       "      <td>-</td>\n",
       "      <td>-</td>\n",
       "      <td>-</td>\n",
       "      <td>Passenger Property Loss</td>\n",
       "      <td>Checkpoint</td>\n",
       "      <td>Personal Accessories</td>\n",
       "      <td>-</td>\n",
       "      <td>-</td>\n",
       "      <td>NaN</td>\n",
       "      <td>NaN</td>\n",
       "    </tr>\n",
       "  </tbody>\n",
       "</table>\n",
       "</div>"
      ],
      "text/plain": [
       "         claim_number date_received incident_date airport_code airport_name  \\\n",
       "204262  2015120427297     20-Nov-15     16-Oct-15            -            -   \n",
       "204263  2015123027969     17-Dec-15      2-Dec-15            -            -   \n",
       "204264  2016010428072     22-Dec-15     20-Dec-15            -            -   \n",
       "204265  2016011328300     30-Dec-15     28-Dec-15            -            -   \n",
       "204266  2015123128015     31-Dec-15     23-Nov-15            -            -   \n",
       "\n",
       "       airline_name               claim_type       claim_site  \\\n",
       "204262            -          Property Damage  Checked Baggage   \n",
       "204263            -          Property Damage  Checked Baggage   \n",
       "204264            -  Passenger Property Loss  Checked Baggage   \n",
       "204265            -  Passenger Property Loss  Checked Baggage   \n",
       "204266            -  Passenger Property Loss       Checkpoint   \n",
       "\n",
       "                                                     item claim_amount status  \\\n",
       "204262  Baggage/Cases/Purses; Books; Magazines & Other...            -      -   \n",
       "204263                            Audio/Video; Home Decor            -      -   \n",
       "204264                                           Clothing            -      -   \n",
       "204265                  Tools & Home Improvement Supplies            -      -   \n",
       "204266                               Personal Accessories            -      -   \n",
       "\n",
       "       close_amount disposition  \n",
       "204262          NaN         NaN  \n",
       "204263          NaN         NaN  \n",
       "204264          NaN         NaN  \n",
       "204265          NaN         NaN  \n",
       "204266          NaN         NaN  "
      ]
     },
     "metadata": {},
     "output_type": "display_data"
    }
   ],
   "source": [
    "df = pd.read_csv(r'D:\\Dokumen\\Kerja\\File Capstone 2\\tsa_claims.csv')\n",
    "\n",
    "# mengubah nama kolom ke huruf kecil dan memberikan underscore agar lebih mudah ketika dipanggil di dalam code\n",
    "df.columns = [s.strip().replace(\" \",\"_\") for s in df.columns.str.lower()]\n",
    "\n",
    "display(df.head(), df.tail())"
   ]
  },
  {
   "cell_type": "code",
   "execution_count": 4,
   "metadata": {},
   "outputs": [
    {
     "data": {
      "text/plain": [
       "204267"
      ]
     },
     "execution_count": 4,
     "metadata": {},
     "output_type": "execute_result"
    }
   ],
   "source": [
    "len(df)"
   ]
  },
  {
   "cell_type": "code",
   "execution_count": 5,
   "metadata": {},
   "outputs": [
    {
     "name": "stdout",
     "output_type": "stream",
     "text": [
      "<class 'pandas.core.frame.DataFrame'>\n",
      "RangeIndex: 204267 entries, 0 to 204266\n",
      "Data columns (total 13 columns):\n",
      " #   Column         Non-Null Count   Dtype \n",
      "---  ------         --------------   ----- \n",
      " 0   claim_number   204267 non-null  object\n",
      " 1   date_received  204004 non-null  object\n",
      " 2   incident_date  202084 non-null  object\n",
      " 3   airport_code   195743 non-null  object\n",
      " 4   airport_name   195743 non-null  object\n",
      " 5   airline_name   169893 non-null  object\n",
      " 6   claim_type     196354 non-null  object\n",
      " 7   claim_site     203527 non-null  object\n",
      " 8   item           200301 non-null  object\n",
      " 9   claim_amount   200224 non-null  object\n",
      " 10  status         204262 non-null  object\n",
      " 11  close_amount   135315 non-null  object\n",
      " 12  disposition    131359 non-null  object\n",
      "dtypes: object(13)\n",
      "memory usage: 20.3+ MB\n"
     ]
    }
   ],
   "source": [
    "df.info()"
   ]
  },
  {
   "attachments": {},
   "cell_type": "markdown",
   "metadata": {},
   "source": [
    "# Data Cleaning"
   ]
  },
  {
   "attachments": {},
   "cell_type": "markdown",
   "metadata": {},
   "source": [
    "Seperti yang dilihat diatas raw data yang kita dapat masih sangat berantakan. Dengan banyaknya missing values dan juga format penulisan yang tidak konsisten.   \n",
    "Oleh karena itu, sebelum masuk kedalam data analysis kita perlu untuk membersihkan dataset-nya terlebih dahulu."
   ]
  },
  {
   "attachments": {},
   "cell_type": "markdown",
   "metadata": {},
   "source": [
    "## A. Simplify and Re-format"
   ]
  },
  {
   "attachments": {},
   "cell_type": "markdown",
   "metadata": {},
   "source": [
    "### 1. claim_number"
   ]
  },
  {
   "attachments": {},
   "cell_type": "markdown",
   "metadata": {},
   "source": [
    "Claim number seharusnya merupakan data yang unik dalam dataset ini, sehingga satu claim number hanya mewakili satu klaim.   \n",
    "Oleh karena itu, kita akan menghapus klaim number yang memiliki duplikat."
   ]
  },
  {
   "cell_type": "code",
   "execution_count": 6,
   "metadata": {},
   "outputs": [
    {
     "name": "stdout",
     "output_type": "stream",
     "text": [
      "Jumlah data claim_number yang duplikat ada 9 .\n"
     ]
    }
   ],
   "source": [
    "# CHECK DUPLICATE IN CLAIM NUMBER\n",
    "\n",
    "double = df['claim_number'].duplicated()\n",
    "\n",
    "print(f'Jumlah data claim_number yang duplikat ada', df['claim_number'].loc[double == True].count(),'.')"
   ]
  },
  {
   "cell_type": "code",
   "execution_count": 7,
   "metadata": {},
   "outputs": [],
   "source": [
    "# DROP DUPLICATE IN CLAIM NUMBER\n",
    "df.drop_duplicates(subset='claim_number', keep = 'first', inplace=True)"
   ]
  },
  {
   "cell_type": "code",
   "execution_count": 8,
   "metadata": {},
   "outputs": [
    {
     "name": "stdout",
     "output_type": "stream",
     "text": [
      "Jumlah data claim_number yang duplikat ada 0 .\n",
      "204258\n"
     ]
    }
   ],
   "source": [
    "# CHECK DUPLICATE IN CLAIM NUMBER\n",
    "double = df['claim_number'].duplicated()\n",
    "print(f'Jumlah data claim_number yang duplikat ada', df['claim_number'].loc[double == True].count(),'.')\n",
    "print(len(df))"
   ]
  },
  {
   "attachments": {},
   "cell_type": "markdown",
   "metadata": {},
   "source": [
    "### 2. date_received & incident_date"
   ]
  },
  {
   "attachments": {},
   "cell_type": "markdown",
   "metadata": {},
   "source": [
    "Kedua kolom ini harusnya memilki format tanggal untuk memudahkan kita menganalisa data. Tetapi, bisa dilihat format kedua kolom ini masih tidak beraturan dan cara penulisan yang berbeda."
   ]
  },
  {
   "cell_type": "code",
   "execution_count": 9,
   "metadata": {},
   "outputs": [
    {
     "data": {
      "text/html": [
       "<div>\n",
       "<style scoped>\n",
       "    .dataframe tbody tr th:only-of-type {\n",
       "        vertical-align: middle;\n",
       "    }\n",
       "\n",
       "    .dataframe tbody tr th {\n",
       "        vertical-align: top;\n",
       "    }\n",
       "\n",
       "    .dataframe thead th {\n",
       "        text-align: right;\n",
       "    }\n",
       "</style>\n",
       "<table border=\"1\" class=\"dataframe\">\n",
       "  <thead>\n",
       "    <tr style=\"text-align: right;\">\n",
       "      <th></th>\n",
       "      <th>date_received</th>\n",
       "      <th>incident_date</th>\n",
       "    </tr>\n",
       "  </thead>\n",
       "  <tbody>\n",
       "    <tr>\n",
       "      <th>0</th>\n",
       "      <td>4-Jan-02</td>\n",
       "      <td>12/12/2002 0:00</td>\n",
       "    </tr>\n",
       "    <tr>\n",
       "      <th>1</th>\n",
       "      <td>2-Feb-02</td>\n",
       "      <td>1/16/2004 0:00</td>\n",
       "    </tr>\n",
       "    <tr>\n",
       "      <th>2</th>\n",
       "      <td>4-Feb-02</td>\n",
       "      <td>11/26/2003 0:00</td>\n",
       "    </tr>\n",
       "    <tr>\n",
       "      <th>3</th>\n",
       "      <td>7-Feb-02</td>\n",
       "      <td>1/6/2003 0:00</td>\n",
       "    </tr>\n",
       "    <tr>\n",
       "      <th>4</th>\n",
       "      <td>18-Feb-02</td>\n",
       "      <td>2/5/2005 0:00</td>\n",
       "    </tr>\n",
       "    <tr>\n",
       "      <th>...</th>\n",
       "      <td>...</td>\n",
       "      <td>...</td>\n",
       "    </tr>\n",
       "    <tr>\n",
       "      <th>204262</th>\n",
       "      <td>20-Nov-15</td>\n",
       "      <td>16-Oct-15</td>\n",
       "    </tr>\n",
       "    <tr>\n",
       "      <th>204263</th>\n",
       "      <td>17-Dec-15</td>\n",
       "      <td>2-Dec-15</td>\n",
       "    </tr>\n",
       "    <tr>\n",
       "      <th>204264</th>\n",
       "      <td>22-Dec-15</td>\n",
       "      <td>20-Dec-15</td>\n",
       "    </tr>\n",
       "    <tr>\n",
       "      <th>204265</th>\n",
       "      <td>30-Dec-15</td>\n",
       "      <td>28-Dec-15</td>\n",
       "    </tr>\n",
       "    <tr>\n",
       "      <th>204266</th>\n",
       "      <td>31-Dec-15</td>\n",
       "      <td>23-Nov-15</td>\n",
       "    </tr>\n",
       "  </tbody>\n",
       "</table>\n",
       "<p>204258 rows × 2 columns</p>\n",
       "</div>"
      ],
      "text/plain": [
       "       date_received    incident_date\n",
       "0           4-Jan-02  12/12/2002 0:00\n",
       "1           2-Feb-02   1/16/2004 0:00\n",
       "2           4-Feb-02  11/26/2003 0:00\n",
       "3           7-Feb-02    1/6/2003 0:00\n",
       "4          18-Feb-02    2/5/2005 0:00\n",
       "...              ...              ...\n",
       "204262     20-Nov-15        16-Oct-15\n",
       "204263     17-Dec-15         2-Dec-15\n",
       "204264     22-Dec-15        20-Dec-15\n",
       "204265     30-Dec-15        28-Dec-15\n",
       "204266     31-Dec-15        23-Nov-15\n",
       "\n",
       "[204258 rows x 2 columns]"
      ]
     },
     "execution_count": 9,
     "metadata": {},
     "output_type": "execute_result"
    }
   ],
   "source": [
    "df[['date_received', 'incident_date']]"
   ]
  },
  {
   "cell_type": "code",
   "execution_count": 10,
   "metadata": {},
   "outputs": [
    {
     "data": {
      "text/plain": [
       "0   2002-01-04\n",
       "1   2002-02-02\n",
       "2   2002-02-04\n",
       "3   2002-02-07\n",
       "4   2002-02-18\n",
       "Name: date_received, dtype: datetime64[ns]"
      ]
     },
     "execution_count": 10,
     "metadata": {},
     "output_type": "execute_result"
    }
   ],
   "source": [
    "# FIX THE DATE FORMAT OF DATE RECEIVED\n",
    "\n",
    "df[\"date_received\"] = pd.to_datetime(df.date_received,format=\"%d-%b-%y\")\n",
    "\n",
    "df['date_received'].head()"
   ]
  },
  {
   "cell_type": "code",
   "execution_count": 11,
   "metadata": {},
   "outputs": [
    {
     "data": {
      "text/html": [
       "<div>\n",
       "<style scoped>\n",
       "    .dataframe tbody tr th:only-of-type {\n",
       "        vertical-align: middle;\n",
       "    }\n",
       "\n",
       "    .dataframe tbody tr th {\n",
       "        vertical-align: top;\n",
       "    }\n",
       "\n",
       "    .dataframe thead th {\n",
       "        text-align: right;\n",
       "    }\n",
       "</style>\n",
       "<table border=\"1\" class=\"dataframe\">\n",
       "  <thead>\n",
       "    <tr style=\"text-align: right;\">\n",
       "      <th></th>\n",
       "      <th>incident_date</th>\n",
       "    </tr>\n",
       "  </thead>\n",
       "  <tbody>\n",
       "    <tr>\n",
       "      <th>0</th>\n",
       "      <td>12/12/2002 0:00</td>\n",
       "    </tr>\n",
       "    <tr>\n",
       "      <th>1</th>\n",
       "      <td>1/16/2004 0:00</td>\n",
       "    </tr>\n",
       "    <tr>\n",
       "      <th>2</th>\n",
       "      <td>11/26/2003 0:00</td>\n",
       "    </tr>\n",
       "  </tbody>\n",
       "</table>\n",
       "</div>"
      ],
      "text/plain": [
       "     incident_date\n",
       "0  12/12/2002 0:00\n",
       "1   1/16/2004 0:00\n",
       "2  11/26/2003 0:00"
      ]
     },
     "metadata": {},
     "output_type": "display_data"
    },
    {
     "data": {
      "text/html": [
       "<div>\n",
       "<style scoped>\n",
       "    .dataframe tbody tr th:only-of-type {\n",
       "        vertical-align: middle;\n",
       "    }\n",
       "\n",
       "    .dataframe tbody tr th {\n",
       "        vertical-align: top;\n",
       "    }\n",
       "\n",
       "    .dataframe thead th {\n",
       "        text-align: right;\n",
       "    }\n",
       "</style>\n",
       "<table border=\"1\" class=\"dataframe\">\n",
       "  <thead>\n",
       "    <tr style=\"text-align: right;\">\n",
       "      <th></th>\n",
       "      <th>incident_date</th>\n",
       "    </tr>\n",
       "  </thead>\n",
       "  <tbody>\n",
       "    <tr>\n",
       "      <th>204264</th>\n",
       "      <td>20-Dec-15</td>\n",
       "    </tr>\n",
       "    <tr>\n",
       "      <th>204265</th>\n",
       "      <td>28-Dec-15</td>\n",
       "    </tr>\n",
       "    <tr>\n",
       "      <th>204266</th>\n",
       "      <td>23-Nov-15</td>\n",
       "    </tr>\n",
       "  </tbody>\n",
       "</table>\n",
       "</div>"
      ],
      "text/plain": [
       "       incident_date\n",
       "204264     20-Dec-15\n",
       "204265     28-Dec-15\n",
       "204266     23-Nov-15"
      ]
     },
     "metadata": {},
     "output_type": "display_data"
    }
   ],
   "source": [
    "# FIX THE DATE FORMAT OF INCIDENT DATE\n",
    "\n",
    "display(df[['incident_date']].head(3), df[['incident_date']].tail(3))"
   ]
  },
  {
   "attachments": {},
   "cell_type": "markdown",
   "metadata": {},
   "source": [
    "Dalam kolom incident date ada beberapa macam penulisan:\n",
    "* format yang memiliki time, contoh 12/12/2002 0:00\n",
    "* format yang salah penulisan tahunnya, contoh 01/jul/0200\n",
    "* format yang nama bulanya menggunakan abjad, contoh 20-Dec-15\n",
    "\n",
    "\n",
    "Handling:\n",
    "* untuk yang memilki time kita akan split datanya.\n",
    "* untuk format yang salah penulisan tahunnya, kita akan drop menggunakan *regex* karena sulit untuk menebak tahun sebenarnya dari data tersebut.\n",
    "* untuk format menggunakan abjad kita akan rapikan menggunakan *regex*.\n"
   ]
  },
  {
   "cell_type": "code",
   "execution_count": 12,
   "metadata": {},
   "outputs": [],
   "source": [
    "# Kita coba untuk menyamakan format penulisan datenya terlebih dahulu\n",
    "\n",
    "df[\"incident_date\"] = df.incident_date.str.replace(\"-\",\"/\")\n",
    "df[\"incident_date\"] = df.incident_date.str.lower()"
   ]
  },
  {
   "cell_type": "code",
   "execution_count": 13,
   "metadata": {},
   "outputs": [],
   "source": [
    "# Kita drop missing values, agar tidak mengganggu proses looping untuk splitting antara date dan time-nya.\n",
    "df.dropna(subset=[\"incident_date\"], inplace=True)"
   ]
  },
  {
   "cell_type": "code",
   "execution_count": 14,
   "metadata": {},
   "outputs": [],
   "source": [
    "# Looping untuk memisahkan antara date dan time\n",
    "\n",
    "incident_time = []\n",
    "incident_dates = []\n",
    "\n",
    "for row in df['incident_date']:\n",
    "    x = row.split(\" \")\n",
    "    n_element = len(x)\n",
    "    if n_element == 1:\n",
    "        incident_dates.append(x[0])\n",
    "    elif n_element == 2:\n",
    "        incident_dates.append(x[0])\n",
    "        incident_time.append(x[1]) "
   ]
  },
  {
   "cell_type": "code",
   "execution_count": 15,
   "metadata": {},
   "outputs": [],
   "source": [
    "# Menambahkan kolom baru yaitu incident_dates \n",
    "df['incident_dates'] = incident_dates\n",
    "\n",
    "# Drop kolom yang lama\n",
    "df = df.drop(labels='incident_date', axis = 1)"
   ]
  },
  {
   "cell_type": "code",
   "execution_count": 16,
   "metadata": {},
   "outputs": [
    {
     "data": {
      "text/html": [
       "<div>\n",
       "<style scoped>\n",
       "    .dataframe tbody tr th:only-of-type {\n",
       "        vertical-align: middle;\n",
       "    }\n",
       "\n",
       "    .dataframe tbody tr th {\n",
       "        vertical-align: top;\n",
       "    }\n",
       "\n",
       "    .dataframe thead th {\n",
       "        text-align: right;\n",
       "    }\n",
       "</style>\n",
       "<table border=\"1\" class=\"dataframe\">\n",
       "  <thead>\n",
       "    <tr style=\"text-align: right;\">\n",
       "      <th></th>\n",
       "      <th>incident_dates</th>\n",
       "    </tr>\n",
       "  </thead>\n",
       "  <tbody>\n",
       "    <tr>\n",
       "      <th>0</th>\n",
       "      <td>12/12/2002</td>\n",
       "    </tr>\n",
       "    <tr>\n",
       "      <th>1</th>\n",
       "      <td>1/16/2004</td>\n",
       "    </tr>\n",
       "    <tr>\n",
       "      <th>2</th>\n",
       "      <td>11/26/2003</td>\n",
       "    </tr>\n",
       "  </tbody>\n",
       "</table>\n",
       "</div>"
      ],
      "text/plain": [
       "  incident_dates\n",
       "0     12/12/2002\n",
       "1      1/16/2004\n",
       "2     11/26/2003"
      ]
     },
     "metadata": {},
     "output_type": "display_data"
    },
    {
     "data": {
      "text/html": [
       "<div>\n",
       "<style scoped>\n",
       "    .dataframe tbody tr th:only-of-type {\n",
       "        vertical-align: middle;\n",
       "    }\n",
       "\n",
       "    .dataframe tbody tr th {\n",
       "        vertical-align: top;\n",
       "    }\n",
       "\n",
       "    .dataframe thead th {\n",
       "        text-align: right;\n",
       "    }\n",
       "</style>\n",
       "<table border=\"1\" class=\"dataframe\">\n",
       "  <thead>\n",
       "    <tr style=\"text-align: right;\">\n",
       "      <th></th>\n",
       "      <th>incident_dates</th>\n",
       "    </tr>\n",
       "  </thead>\n",
       "  <tbody>\n",
       "    <tr>\n",
       "      <th>204264</th>\n",
       "      <td>20/dec/15</td>\n",
       "    </tr>\n",
       "    <tr>\n",
       "      <th>204265</th>\n",
       "      <td>28/dec/15</td>\n",
       "    </tr>\n",
       "    <tr>\n",
       "      <th>204266</th>\n",
       "      <td>23/nov/15</td>\n",
       "    </tr>\n",
       "  </tbody>\n",
       "</table>\n",
       "</div>"
      ],
      "text/plain": [
       "       incident_dates\n",
       "204264      20/dec/15\n",
       "204265      28/dec/15\n",
       "204266      23/nov/15"
      ]
     },
     "metadata": {},
     "output_type": "display_data"
    }
   ],
   "source": [
    "display(df[['incident_dates']].head(3), df[['incident_dates']].tail(3))"
   ]
  },
  {
   "cell_type": "code",
   "execution_count": 17,
   "metadata": {},
   "outputs": [
    {
     "data": {
      "text/plain": [
       "67678    01/jul/0200\n",
       "Name: incident_dates, dtype: object"
      ]
     },
     "execution_count": 17,
     "metadata": {},
     "output_type": "execute_result"
    }
   ],
   "source": [
    "# Banyak tanggal yang memiliki format tahun yang salah seperti 01/jul/0200\n",
    "# atau 01/apr/0100, untuk itu kita menghapusnya\n",
    "df['incident_dates'].loc[df['incident_dates'] == '01/jul/0200']"
   ]
  },
  {
   "cell_type": "code",
   "execution_count": 18,
   "metadata": {},
   "outputs": [],
   "source": [
    "# Kita menghapus incident date yang memiliki format yang salah menggunakan regex\n",
    "regex = re.compile(r\"/[a-z]{3}/[0-9]{4}\")\n",
    "df = df[df.incident_dates.map(lambda x: not bool(regex.search(x)))]"
   ]
  },
  {
   "cell_type": "code",
   "execution_count": 19,
   "metadata": {},
   "outputs": [],
   "source": [
    "# Fungsi untuk merubah format 23/nov/15 menjadi 20xx - month - date\n",
    "month_dict = {\"jan\":1,\"feb\":2,\"mar\":3,\"apr\":4,\"may\":5,\"jun\":6,\"jul\":7,\"aug\":8,\"sep\":9,\"oct\":10,\"nov\":11,\"dec\":12}\n",
    "\n",
    "def format_dates(regex, date_string):\n",
    "    m = regex.match(date_string)\n",
    "    if(m):\n",
    "        day, month, year = m.group(1,2,3) # format datenya 23/nov/15\n",
    "        return \"{}/{}/{}\".format(month_dict[month],day,\"20\"+year)\n",
    "    else:\n",
    "        return date_string"
   ]
  },
  {
   "cell_type": "code",
   "execution_count": 20,
   "metadata": {},
   "outputs": [],
   "source": [
    " # regex dari format 23/nov/15\n",
    "regex = re.compile(r\"(\\d*)/([a-z]{3})/(1[1-5])$\")\n",
    "df[\"incident_dates\"] = df.incident_dates.map(lambda x: format_dates(regex,x) )"
   ]
  },
  {
   "cell_type": "code",
   "execution_count": 21,
   "metadata": {},
   "outputs": [],
   "source": [
    "# Mengganti type ke datetime\n",
    "df.incident_dates.replace(\"6/30/10\",\"06/30/2010\",inplace=True)\n",
    "\n",
    "df[\"incident_dates\"] = pd.to_datetime(df.incident_dates,format=\"%m/%d/%Y\")"
   ]
  },
  {
   "cell_type": "code",
   "execution_count": 22,
   "metadata": {},
   "outputs": [
    {
     "data": {
      "text/html": [
       "<div>\n",
       "<style scoped>\n",
       "    .dataframe tbody tr th:only-of-type {\n",
       "        vertical-align: middle;\n",
       "    }\n",
       "\n",
       "    .dataframe tbody tr th {\n",
       "        vertical-align: top;\n",
       "    }\n",
       "\n",
       "    .dataframe thead th {\n",
       "        text-align: right;\n",
       "    }\n",
       "</style>\n",
       "<table border=\"1\" class=\"dataframe\">\n",
       "  <thead>\n",
       "    <tr style=\"text-align: right;\">\n",
       "      <th></th>\n",
       "      <th>incident_dates</th>\n",
       "      <th>date_received</th>\n",
       "    </tr>\n",
       "  </thead>\n",
       "  <tbody>\n",
       "    <tr>\n",
       "      <th>0</th>\n",
       "      <td>2002-12-12</td>\n",
       "      <td>2002-01-04</td>\n",
       "    </tr>\n",
       "    <tr>\n",
       "      <th>1</th>\n",
       "      <td>2004-01-16</td>\n",
       "      <td>2002-02-02</td>\n",
       "    </tr>\n",
       "    <tr>\n",
       "      <th>2</th>\n",
       "      <td>2003-11-26</td>\n",
       "      <td>2002-02-04</td>\n",
       "    </tr>\n",
       "  </tbody>\n",
       "</table>\n",
       "</div>"
      ],
      "text/plain": [
       "  incident_dates date_received\n",
       "0     2002-12-12    2002-01-04\n",
       "1     2004-01-16    2002-02-02\n",
       "2     2003-11-26    2002-02-04"
      ]
     },
     "metadata": {},
     "output_type": "display_data"
    },
    {
     "data": {
      "text/html": [
       "<div>\n",
       "<style scoped>\n",
       "    .dataframe tbody tr th:only-of-type {\n",
       "        vertical-align: middle;\n",
       "    }\n",
       "\n",
       "    .dataframe tbody tr th {\n",
       "        vertical-align: top;\n",
       "    }\n",
       "\n",
       "    .dataframe thead th {\n",
       "        text-align: right;\n",
       "    }\n",
       "</style>\n",
       "<table border=\"1\" class=\"dataframe\">\n",
       "  <thead>\n",
       "    <tr style=\"text-align: right;\">\n",
       "      <th></th>\n",
       "      <th>incident_dates</th>\n",
       "      <th>date_received</th>\n",
       "    </tr>\n",
       "  </thead>\n",
       "  <tbody>\n",
       "    <tr>\n",
       "      <th>204264</th>\n",
       "      <td>2015-12-20</td>\n",
       "      <td>2015-12-22</td>\n",
       "    </tr>\n",
       "    <tr>\n",
       "      <th>204265</th>\n",
       "      <td>2015-12-28</td>\n",
       "      <td>2015-12-30</td>\n",
       "    </tr>\n",
       "    <tr>\n",
       "      <th>204266</th>\n",
       "      <td>2015-11-23</td>\n",
       "      <td>2015-12-31</td>\n",
       "    </tr>\n",
       "  </tbody>\n",
       "</table>\n",
       "</div>"
      ],
      "text/plain": [
       "       incident_dates date_received\n",
       "204264     2015-12-20    2015-12-22\n",
       "204265     2015-12-28    2015-12-30\n",
       "204266     2015-11-23    2015-12-31"
      ]
     },
     "metadata": {},
     "output_type": "display_data"
    }
   ],
   "source": [
    "# Format data yang sudah dirapikan\n",
    "\n",
    "display(df[['incident_dates', 'date_received']].head(3), df[['incident_dates', 'date_received']].tail(3))"
   ]
  },
  {
   "attachments": {},
   "cell_type": "markdown",
   "metadata": {},
   "source": [
    "### 3. airport_code & airport_name"
   ]
  },
  {
   "cell_type": "code",
   "execution_count": 23,
   "metadata": {},
   "outputs": [
    {
     "data": {
      "text/html": [
       "<div>\n",
       "<style scoped>\n",
       "    .dataframe tbody tr th:only-of-type {\n",
       "        vertical-align: middle;\n",
       "    }\n",
       "\n",
       "    .dataframe tbody tr th {\n",
       "        vertical-align: top;\n",
       "    }\n",
       "\n",
       "    .dataframe thead th {\n",
       "        text-align: right;\n",
       "    }\n",
       "</style>\n",
       "<table border=\"1\" class=\"dataframe\">\n",
       "  <thead>\n",
       "    <tr style=\"text-align: right;\">\n",
       "      <th></th>\n",
       "      <th>airport_code</th>\n",
       "      <th>airport_name</th>\n",
       "    </tr>\n",
       "  </thead>\n",
       "  <tbody>\n",
       "    <tr>\n",
       "      <th>0</th>\n",
       "      <td>EWR</td>\n",
       "      <td>Newark International Airport</td>\n",
       "    </tr>\n",
       "    <tr>\n",
       "      <th>1</th>\n",
       "      <td>SEA</td>\n",
       "      <td>Seattle-Tacoma International</td>\n",
       "    </tr>\n",
       "    <tr>\n",
       "      <th>2</th>\n",
       "      <td>STL</td>\n",
       "      <td>Lambert St. Louis International</td>\n",
       "    </tr>\n",
       "    <tr>\n",
       "      <th>3</th>\n",
       "      <td>MIA</td>\n",
       "      <td>Miami International Airport</td>\n",
       "    </tr>\n",
       "    <tr>\n",
       "      <th>4</th>\n",
       "      <td>MCO</td>\n",
       "      <td>Orlando International Airport</td>\n",
       "    </tr>\n",
       "    <tr>\n",
       "      <th>...</th>\n",
       "      <td>...</td>\n",
       "      <td>...</td>\n",
       "    </tr>\n",
       "    <tr>\n",
       "      <th>204262</th>\n",
       "      <td>-</td>\n",
       "      <td>-</td>\n",
       "    </tr>\n",
       "    <tr>\n",
       "      <th>204263</th>\n",
       "      <td>-</td>\n",
       "      <td>-</td>\n",
       "    </tr>\n",
       "    <tr>\n",
       "      <th>204264</th>\n",
       "      <td>-</td>\n",
       "      <td>-</td>\n",
       "    </tr>\n",
       "    <tr>\n",
       "      <th>204265</th>\n",
       "      <td>-</td>\n",
       "      <td>-</td>\n",
       "    </tr>\n",
       "    <tr>\n",
       "      <th>204266</th>\n",
       "      <td>-</td>\n",
       "      <td>-</td>\n",
       "    </tr>\n",
       "  </tbody>\n",
       "</table>\n",
       "<p>201911 rows × 2 columns</p>\n",
       "</div>"
      ],
      "text/plain": [
       "       airport_code                     airport_name\n",
       "0               EWR     Newark International Airport\n",
       "1               SEA     Seattle-Tacoma International\n",
       "2               STL  Lambert St. Louis International\n",
       "3               MIA      Miami International Airport\n",
       "4               MCO    Orlando International Airport\n",
       "...             ...                              ...\n",
       "204262            -                                -\n",
       "204263            -                                -\n",
       "204264            -                                -\n",
       "204265            -                                -\n",
       "204266            -                                -\n",
       "\n",
       "[201911 rows x 2 columns]"
      ]
     },
     "execution_count": 23,
     "metadata": {},
     "output_type": "execute_result"
    }
   ],
   "source": [
    "df[['airport_code', 'airport_name']]"
   ]
  },
  {
   "attachments": {},
   "cell_type": "markdown",
   "metadata": {},
   "source": [
    "Berdasarkan data diatas kita akan mengubah dan mengecek:\n",
    "* Apakah ada lebih dari 1 airport_name didalam airport_code?\n",
    "* Mengubah data yang bernilai '-' menjadi 'Others'."
   ]
  },
  {
   "cell_type": "code",
   "execution_count": 24,
   "metadata": {},
   "outputs": [],
   "source": [
    "df.airport_code.replace('-', 'Others', inplace=True)"
   ]
  },
  {
   "cell_type": "code",
   "execution_count": 25,
   "metadata": {},
   "outputs": [
    {
     "data": {
      "text/plain": [
       "airport_code\n",
       "JHM    2\n",
       "LGA    2\n",
       "SWF    2\n",
       "MCW    2\n",
       "HIB    2\n",
       "Name: airport_name, dtype: int64"
      ]
     },
     "execution_count": 25,
     "metadata": {},
     "output_type": "execute_result"
    }
   ],
   "source": [
    "df.groupby(\"airport_code\").airport_name.nunique().sort_values(ascending=False).head()"
   ]
  },
  {
   "cell_type": "code",
   "execution_count": 26,
   "metadata": {},
   "outputs": [
    {
     "name": "stdout",
     "output_type": "stream",
     "text": [
      "['LaGuardia' 'LaGuardia ']\n",
      "['Mason City Municipal Airport' 'Mason City Municipal Airport ']\n"
     ]
    }
   ],
   "source": [
    "print(df['airport_name'].loc[df['airport_code']=='LGA'].unique())\n",
    "print(df['airport_name'].loc[df['airport_code']=='MCW'].unique())"
   ]
  },
  {
   "cell_type": "code",
   "execution_count": 27,
   "metadata": {},
   "outputs": [],
   "source": [
    "# Dari hasil pengamatan diatas hal ini disebabkan oleh kelebihan spasi.\n",
    "# Kita akan hilangkan spasinya\n",
    "df[\"airport_code\"] = df.airport_code.str.strip()\n",
    "df[\"airport_name\"] = df.airport_name.str.strip()"
   ]
  },
  {
   "cell_type": "code",
   "execution_count": 28,
   "metadata": {},
   "outputs": [
    {
     "name": "stdout",
     "output_type": "stream",
     "text": [
      "airport_code\n",
      "PNS    2\n",
      "BZN    2\n",
      "ABE    1\n",
      "MVY    1\n",
      "OMA    1\n",
      "Name: airport_name, dtype: int64\n",
      "['LaGuardia']\n",
      "['Mason City Municipal Airport']\n"
     ]
    }
   ],
   "source": [
    "print(df.groupby(\"airport_code\").airport_name.nunique().sort_values(ascending=False).head())\n",
    "print(df['airport_name'].loc[df['airport_code']=='LGA'].unique())\n",
    "print(df['airport_name'].loc[df['airport_code']=='MCW'].unique())"
   ]
  },
  {
   "cell_type": "code",
   "execution_count": 29,
   "metadata": {},
   "outputs": [
    {
     "name": "stdout",
     "output_type": "stream",
     "text": [
      "['Pensacola Regional' 'Pensacola International Airport']\n",
      "['Gallatin Field' 'Bozeman Yellowstone International Airport']\n"
     ]
    }
   ],
   "source": [
    "print(df['airport_name'].loc[df['airport_code']=='PNS'].unique())\n",
    "print(df['airport_name'].loc[df['airport_code']=='BZN'].unique())\n",
    "\n",
    "# Untuk airport_code PNS dan BZN, ternyata memiliki dua nama tempat yang berbeda\n",
    "# Setelah investigasi menggunakan google, ternyata lokasi tempat tersebut sama\n",
    "# Hanya penyebutannya saja yang berbeda"
   ]
  },
  {
   "cell_type": "code",
   "execution_count": 30,
   "metadata": {},
   "outputs": [],
   "source": [
    "df.airport_name.replace('Gallatin Field', 'Bozeman Yellowstone International Airport', inplace=True)\n",
    "df.airport_name.replace('Pensacola Regional', 'Pensacola International Airport', inplace=True)\n",
    "\n",
    "# Ubah string '-' menjadi 'Others'\n",
    "df.airport_name.replace('-', 'Others', inplace=True)"
   ]
  },
  {
   "cell_type": "code",
   "execution_count": 31,
   "metadata": {},
   "outputs": [
    {
     "data": {
      "text/html": [
       "<div>\n",
       "<style scoped>\n",
       "    .dataframe tbody tr th:only-of-type {\n",
       "        vertical-align: middle;\n",
       "    }\n",
       "\n",
       "    .dataframe tbody tr th {\n",
       "        vertical-align: top;\n",
       "    }\n",
       "\n",
       "    .dataframe thead th {\n",
       "        text-align: right;\n",
       "    }\n",
       "</style>\n",
       "<table border=\"1\" class=\"dataframe\">\n",
       "  <thead>\n",
       "    <tr style=\"text-align: right;\">\n",
       "      <th></th>\n",
       "      <th>airport_code</th>\n",
       "      <th>airport_name</th>\n",
       "    </tr>\n",
       "  </thead>\n",
       "  <tbody>\n",
       "    <tr>\n",
       "      <th>0</th>\n",
       "      <td>EWR</td>\n",
       "      <td>Newark International Airport</td>\n",
       "    </tr>\n",
       "    <tr>\n",
       "      <th>1</th>\n",
       "      <td>SEA</td>\n",
       "      <td>Seattle-Tacoma International</td>\n",
       "    </tr>\n",
       "    <tr>\n",
       "      <th>2</th>\n",
       "      <td>STL</td>\n",
       "      <td>Lambert St. Louis International</td>\n",
       "    </tr>\n",
       "    <tr>\n",
       "      <th>3</th>\n",
       "      <td>MIA</td>\n",
       "      <td>Miami International Airport</td>\n",
       "    </tr>\n",
       "    <tr>\n",
       "      <th>4</th>\n",
       "      <td>MCO</td>\n",
       "      <td>Orlando International Airport</td>\n",
       "    </tr>\n",
       "    <tr>\n",
       "      <th>...</th>\n",
       "      <td>...</td>\n",
       "      <td>...</td>\n",
       "    </tr>\n",
       "    <tr>\n",
       "      <th>204262</th>\n",
       "      <td>Others</td>\n",
       "      <td>Others</td>\n",
       "    </tr>\n",
       "    <tr>\n",
       "      <th>204263</th>\n",
       "      <td>Others</td>\n",
       "      <td>Others</td>\n",
       "    </tr>\n",
       "    <tr>\n",
       "      <th>204264</th>\n",
       "      <td>Others</td>\n",
       "      <td>Others</td>\n",
       "    </tr>\n",
       "    <tr>\n",
       "      <th>204265</th>\n",
       "      <td>Others</td>\n",
       "      <td>Others</td>\n",
       "    </tr>\n",
       "    <tr>\n",
       "      <th>204266</th>\n",
       "      <td>Others</td>\n",
       "      <td>Others</td>\n",
       "    </tr>\n",
       "  </tbody>\n",
       "</table>\n",
       "<p>201911 rows × 2 columns</p>\n",
       "</div>"
      ],
      "text/plain": [
       "       airport_code                     airport_name\n",
       "0               EWR     Newark International Airport\n",
       "1               SEA     Seattle-Tacoma International\n",
       "2               STL  Lambert St. Louis International\n",
       "3               MIA      Miami International Airport\n",
       "4               MCO    Orlando International Airport\n",
       "...             ...                              ...\n",
       "204262       Others                           Others\n",
       "204263       Others                           Others\n",
       "204264       Others                           Others\n",
       "204265       Others                           Others\n",
       "204266       Others                           Others\n",
       "\n",
       "[201911 rows x 2 columns]"
      ]
     },
     "execution_count": 31,
     "metadata": {},
     "output_type": "execute_result"
    }
   ],
   "source": [
    "df[['airport_code', 'airport_name']]"
   ]
  },
  {
   "attachments": {},
   "cell_type": "markdown",
   "metadata": {},
   "source": [
    "### 4. airline_name"
   ]
  },
  {
   "cell_type": "code",
   "execution_count": 32,
   "metadata": {},
   "outputs": [
    {
     "data": {
      "text/plain": [
       "airline_name\n",
       "-                           1\n",
       "Midwest Express Airlines    1\n",
       "Mountain West               1\n",
       "Mountain Air Express Inc    1\n",
       "Montair Aviation Inc        1\n",
       "                           ..\n",
       "Cayman Airlines             1\n",
       "Cayman Airlines             1\n",
       "Cathay Pacific - CX         1\n",
       "Carribean Airlines          1\n",
       "vivaAerobus                 1\n",
       "Name: airline_name, Length: 318, dtype: int64"
      ]
     },
     "execution_count": 32,
     "metadata": {},
     "output_type": "execute_result"
    }
   ],
   "source": [
    "df.groupby('airline_name').airline_name.nunique().sort_values(ascending=False)"
   ]
  },
  {
   "attachments": {},
   "cell_type": "markdown",
   "metadata": {},
   "source": [
    "Dari data diatas kita akan: \n",
    "* Kita bisa lihat *Cayman Airlines* muncul dua kali. Ini mengindikasikan ada spasi berlebih pada akhir kalimat. Kita akan hilangkan spasi tersebut.\n",
    "* Mengganti '-' menjadi 'Others'."
   ]
  },
  {
   "cell_type": "code",
   "execution_count": 33,
   "metadata": {},
   "outputs": [],
   "source": [
    "# Menghilangkan spasi berlebih\n",
    "\n",
    "df[\"airline_name\"] = df.airline_name.str.strip()"
   ]
  },
  {
   "cell_type": "code",
   "execution_count": 34,
   "metadata": {},
   "outputs": [],
   "source": [
    "# Mengganti '-' menjadi 'Others'\n",
    "df.airline_name.replace('-', 'Others', inplace=True)"
   ]
  },
  {
   "attachments": {},
   "cell_type": "markdown",
   "metadata": {},
   "source": [
    "### 5. claim_type & claim_site"
   ]
  },
  {
   "attachments": {},
   "cell_type": "markdown",
   "metadata": {},
   "source": [
    "Untuk kolom *claim_type* dan *claim_site* kita hanya akan mengganti string '-' menjadi 'Others' supaya dataset menjadi lebih konsisten."
   ]
  },
  {
   "cell_type": "code",
   "execution_count": 35,
   "metadata": {},
   "outputs": [
    {
     "data": {
      "text/plain": [
       "Checked Baggage    158960\n",
       "Checkpoint          39960\n",
       "Other                1682\n",
       "Motor Vehicle         471\n",
       "-                     276\n",
       "Bus Station            16\n",
       "Name: claim_site, dtype: int64"
      ]
     },
     "execution_count": 35,
     "metadata": {},
     "output_type": "execute_result"
    }
   ],
   "source": [
    "df['claim_site'].value_counts()"
   ]
  },
  {
   "cell_type": "code",
   "execution_count": 36,
   "metadata": {},
   "outputs": [
    {
     "data": {
      "text/plain": [
       "Passenger Property Loss    117399\n",
       "Property Damage             74983\n",
       "Personal Injury              1456\n",
       "Employee Loss (MPCECA)        485\n",
       "Passenger Theft               465\n",
       "Motor Vehicle                 368\n",
       "-                             282\n",
       "Complaint                      48\n",
       "Wrongful Death                  4\n",
       "Compliment                      3\n",
       "Bus Terminal                    1\n",
       "Name: claim_type, dtype: int64"
      ]
     },
     "execution_count": 36,
     "metadata": {},
     "output_type": "execute_result"
    }
   ],
   "source": [
    "df['claim_type'].value_counts()"
   ]
  },
  {
   "cell_type": "code",
   "execution_count": 37,
   "metadata": {},
   "outputs": [],
   "source": [
    "df.claim_type.replace('-', 'Others', inplace=True)"
   ]
  },
  {
   "cell_type": "code",
   "execution_count": 38,
   "metadata": {},
   "outputs": [],
   "source": [
    "df.claim_site.replace('-', 'Others', inplace=True)\n",
    "df.claim_site.replace('Other', 'Others', inplace=True)"
   ]
  },
  {
   "cell_type": "code",
   "execution_count": 39,
   "metadata": {},
   "outputs": [
    {
     "name": "stdout",
     "output_type": "stream",
     "text": [
      "Checked Baggage    158960\n",
      "Checkpoint          39960\n",
      "Others               1958\n",
      "Motor Vehicle         471\n",
      "Bus Station            16\n",
      "Name: claim_site, dtype: int64\n",
      "Passenger Property Loss    117399\n",
      "Property Damage             74983\n",
      "Personal Injury              1456\n",
      "Employee Loss (MPCECA)        485\n",
      "Passenger Theft               465\n",
      "Name: claim_type, dtype: int64\n"
     ]
    }
   ],
   "source": [
    "print (df['claim_site'].value_counts().head())\n",
    "print(df['claim_type'].value_counts().head())"
   ]
  },
  {
   "attachments": {},
   "cell_type": "markdown",
   "metadata": {},
   "source": [
    "### 6. claim_amount"
   ]
  },
  {
   "cell_type": "code",
   "execution_count": 40,
   "metadata": {},
   "outputs": [
    {
     "name": "stdout",
     "output_type": "stream",
     "text": [
      "  claim_amount\n",
      "0     $350.00 \n",
      "1     $100.00 \n",
      "2     $278.88 \n",
      "3      $50.00 \n",
      "4      $84.79 \n",
      "5     $459.01 \n",
      "6     $106.52 \n",
      "7      $75.00 \n",
      "8   $2;270.09 \n",
      "9   $4;457.29 \n",
      "204262    -\n",
      "204263    -\n",
      "204264    -\n",
      "204265    -\n",
      "204266    -\n",
      "Name: claim_amount, dtype: object\n"
     ]
    }
   ],
   "source": [
    "print(df[['claim_amount']].head(10))\n",
    "print(df['claim_amount'].tail(5))"
   ]
  },
  {
   "attachments": {},
   "cell_type": "markdown",
   "metadata": {},
   "source": [
    "Kalau kita lihat dari data diatas : \n",
    "* Kita akan menghilangkan simbol '$' dan ';'.\n",
    "* Mengganti simbol '-' menjadi 0.\n",
    "* mengganti tipe kolom menjadi *float*. \n"
   ]
  },
  {
   "cell_type": "code",
   "execution_count": 41,
   "metadata": {},
   "outputs": [
    {
     "data": {
      "text/plain": [
       "count    1.993440e+05\n",
       "mean     1.512019e+07\n",
       "std      6.719254e+09\n",
       "min      0.000000e+00\n",
       "25%      1.500000e+01\n",
       "50%      1.000000e+02\n",
       "75%      3.200000e+02\n",
       "max      3.000000e+12\n",
       "Name: claim_amount, dtype: float64"
      ]
     },
     "execution_count": 41,
     "metadata": {},
     "output_type": "execute_result"
    }
   ],
   "source": [
    "# Fix the format claim_amount\n",
    "\n",
    "df[\"claim_amount\"] = df.claim_amount.str.strip()\n",
    "\n",
    "# kita mencoba mengilangkan simbol ';' , '$' , dan mengganti simbol '-' menjadi 0\n",
    "df[\"claim_amount\"] = df.claim_amount.str.replace(\";\",\"\",regex=True).str.replace(\"$\",\"\",regex=True).str.replace(\"-\",\"0\",regex=True)\n",
    "\n",
    "# kita masukan ke kolom yang baru untuk mempermudah workflow\n",
    "df[\"claim_amount\"] = df.claim_amount.astype(float)\n",
    "\n",
    "\n",
    "df['claim_amount'].describe()"
   ]
  },
  {
   "cell_type": "code",
   "execution_count": 42,
   "metadata": {},
   "outputs": [
    {
     "data": {
      "text/plain": [
       "2567"
      ]
     },
     "execution_count": 42,
     "metadata": {},
     "output_type": "execute_result"
    }
   ],
   "source": [
    "df.claim_amount.isna().sum()"
   ]
  },
  {
   "attachments": {},
   "cell_type": "markdown",
   "metadata": {},
   "source": [
    "### 7. status"
   ]
  },
  {
   "cell_type": "code",
   "execution_count": 43,
   "metadata": {},
   "outputs": [
    {
     "data": {
      "text/plain": [
       "status                                                                                                                       \n",
       "Denied                                                                                                                           67923\n",
       "Approved                                                                                                                         34733\n",
       "Deny                                                                                                                             28234\n",
       "Settled                                                                                                                          27727\n",
       "-                                                                                                                                12749\n",
       "Approve in Full                                                                                                                  12364\n",
       "Canceled                                                                                                                          6411\n",
       "Settle                                                                                                                            5764\n",
       "Insufficient; one of the following items required: sum certain; statement of fact; signature; location of incident; and date.     4574\n",
       "Closed as a contractor claim                                                                                                      1301\n",
       "In litigation                                                                                                                      107\n",
       "Claim entered                                                                                                                       13\n",
       "In review                                                                                                                            9\n",
       "Claim has been assigned for further investigation                                                                                    1\n",
       "Pending response from claimant                                                                                                       1\n",
       "dtype: int64"
      ]
     },
     "execution_count": 43,
     "metadata": {},
     "output_type": "execute_result"
    }
   ],
   "source": [
    "# Menyederhanakan kategori dalam status\n",
    "df[['status']].value_counts().sort_values(ascending=False)"
   ]
  },
  {
   "attachments": {},
   "cell_type": "markdown",
   "metadata": {},
   "source": [
    "Kalau kita lihat dari pengamatan data diatas dan juga pemahaman terhadap proses Klaim:\n",
    "* Status dapat dibagi dua tipe yaitu *final decision* dan *still in process*.\n",
    "* *Final decision* contohnya, denied, approved, settled, dan canceled.\n",
    "* *Still in process* status biasanya masih dalam tahap pemeriksaan, contohnya in review."
   ]
  },
  {
   "cell_type": "code",
   "execution_count": 44,
   "metadata": {},
   "outputs": [],
   "source": [
    "in_process = ['Claim entered','In litigation', 'In review', 'Insufficient; one of the following items required: sum certain; statement of fact; signature; location of incident; and date.',\n",
    "        'Closed as a contractor claim','Claim has been assigned for further investigation','Pending response from claimant','-' ]\n",
    "\n",
    "\n",
    "df.status.replace(in_process,'In Process', inplace=True)\n",
    "df.status.replace('Deny', 'Denied', inplace=True)\n",
    "df.status.replace('Approve in Full', 'Approved', inplace=True)\n",
    "df.status.replace('Settle', 'Settled', inplace=True)\n",
    "df.status.replace('Canceled', 'Denied', inplace=True)"
   ]
  },
  {
   "cell_type": "code",
   "execution_count": 45,
   "metadata": {},
   "outputs": [
    {
     "data": {
      "text/plain": [
       "status    \n",
       "Denied        102568\n",
       "Approved       47097\n",
       "Settled        33491\n",
       "In Process     18755\n",
       "dtype: int64"
      ]
     },
     "execution_count": 45,
     "metadata": {},
     "output_type": "execute_result"
    }
   ],
   "source": [
    "df[['status']].value_counts().sort_values(ascending=False)"
   ]
  },
  {
   "attachments": {},
   "cell_type": "markdown",
   "metadata": {},
   "source": [
    "## B. Missing Values"
   ]
  },
  {
   "cell_type": "code",
   "execution_count": 46,
   "metadata": {},
   "outputs": [
    {
     "data": {
      "image/png": "[encoded data removed]",
      "text/plain": [
       "<Figure size 800x600 with 2 Axes>"
      ]
     },
     "metadata": {},
     "output_type": "display_data"
    },
    {
     "name": "stdout",
     "output_type": "stream",
     "text": [
      "disposition       35.395298\n",
      "close_amount      33.551416\n",
      "airline_name      16.102639\n",
      "airport_code       3.493618\n",
      "airport_name       3.493618\n",
      "claim_type         3.178133\n",
      "item               1.864683\n",
      "claim_amount       1.271352\n",
      "claim_site         0.270416\n",
      "date_received      0.068842\n",
      "claim_number       0.000000\n",
      "status             0.000000\n",
      "incident_dates     0.000000\n",
      "dtype: float64\n"
     ]
    }
   ],
   "source": [
    "msno.matrix(df, figsize=(8,6))\n",
    "plt.show()\n",
    "print((df.isna().sum().sort_values(ascending=False)/len(df)*100))"
   ]
  },
  {
   "attachments": {},
   "cell_type": "markdown",
   "metadata": {},
   "source": [
    "Dari pengamatan diatas, kita bisa mendapatkan:\n",
    "* Kolom disposition dan close_amount memiliki jumlah missing values tertinggi."
   ]
  },
  {
   "cell_type": "code",
   "execution_count": 47,
   "metadata": {},
   "outputs": [
    {
     "name": "stdout",
     "output_type": "stream",
     "text": [
      "Sebelum dilakukan drop dataset memiliki 201911 entries.\n",
      "Setelah di hapus baris yang memilki missing values lebih dari enam data set memiliki 201846 entries.\n"
     ]
    }
   ],
   "source": [
    "# Drop row yang memiliki lebih dari 6 missing values, supaya data kita lebih reliable.\n",
    "df.dropna(thresh=6, inplace=True)\n",
    "\n",
    "print('Sebelum dilakukan drop dataset memiliki 201911 entries.')\n",
    "print('Setelah di hapus baris yang memilki missing values lebih dari enam data set memiliki', len(df),'entries.')"
   ]
  },
  {
   "attachments": {},
   "cell_type": "markdown",
   "metadata": {},
   "source": [
    "### 1. Drop Disposition"
   ]
  },
  {
   "cell_type": "code",
   "execution_count": 48,
   "metadata": {},
   "outputs": [
    {
     "data": {
      "text/html": [
       "<div>\n",
       "<style scoped>\n",
       "    .dataframe tbody tr th:only-of-type {\n",
       "        vertical-align: middle;\n",
       "    }\n",
       "\n",
       "    .dataframe tbody tr th {\n",
       "        vertical-align: top;\n",
       "    }\n",
       "\n",
       "    .dataframe thead th {\n",
       "        text-align: right;\n",
       "    }\n",
       "</style>\n",
       "<table border=\"1\" class=\"dataframe\">\n",
       "  <thead>\n",
       "    <tr style=\"text-align: right;\">\n",
       "      <th></th>\n",
       "      <th>status</th>\n",
       "      <th>disposition</th>\n",
       "    </tr>\n",
       "  </thead>\n",
       "  <tbody>\n",
       "    <tr>\n",
       "      <th>0</th>\n",
       "      <td>Approved</td>\n",
       "      <td>Approve in Full</td>\n",
       "    </tr>\n",
       "    <tr>\n",
       "      <th>1</th>\n",
       "      <td>Settled</td>\n",
       "      <td>Settle</td>\n",
       "    </tr>\n",
       "    <tr>\n",
       "      <th>2</th>\n",
       "      <td>Settled</td>\n",
       "      <td>Settle</td>\n",
       "    </tr>\n",
       "    <tr>\n",
       "      <th>3</th>\n",
       "      <td>Approved</td>\n",
       "      <td>Approve in Full</td>\n",
       "    </tr>\n",
       "    <tr>\n",
       "      <th>4</th>\n",
       "      <td>Approved</td>\n",
       "      <td>Approve in Full</td>\n",
       "    </tr>\n",
       "    <tr>\n",
       "      <th>5</th>\n",
       "      <td>Settled</td>\n",
       "      <td>Settle</td>\n",
       "    </tr>\n",
       "    <tr>\n",
       "      <th>6</th>\n",
       "      <td>Approved</td>\n",
       "      <td>Approve in Full</td>\n",
       "    </tr>\n",
       "    <tr>\n",
       "      <th>7</th>\n",
       "      <td>Approved</td>\n",
       "      <td>Approve in Full</td>\n",
       "    </tr>\n",
       "    <tr>\n",
       "      <th>8</th>\n",
       "      <td>Denied</td>\n",
       "      <td>NaN</td>\n",
       "    </tr>\n",
       "    <tr>\n",
       "      <th>9</th>\n",
       "      <td>Denied</td>\n",
       "      <td>Deny</td>\n",
       "    </tr>\n",
       "  </tbody>\n",
       "</table>\n",
       "</div>"
      ],
      "text/plain": [
       "     status      disposition\n",
       "0  Approved  Approve in Full\n",
       "1   Settled           Settle\n",
       "2   Settled           Settle\n",
       "3  Approved  Approve in Full\n",
       "4  Approved  Approve in Full\n",
       "5   Settled           Settle\n",
       "6  Approved  Approve in Full\n",
       "7  Approved  Approve in Full\n",
       "8    Denied              NaN\n",
       "9    Denied             Deny"
      ]
     },
     "execution_count": 48,
     "metadata": {},
     "output_type": "execute_result"
    }
   ],
   "source": [
    "df[['status', 'disposition']].head(10)"
   ]
  },
  {
   "attachments": {},
   "cell_type": "markdown",
   "metadata": {},
   "source": [
    "* Bisa dilihat dari data diatas nilai dari disposition sudah ditentukan oleh kolom status.  \n",
    "Oleh Karena itu, lebih baik kita drop kolom disposition\n",
    "dikarenakan missing valuenya yang sangat tinggi sekitar 35% dari total data.\n",
    "\n"
   ]
  },
  {
   "cell_type": "code",
   "execution_count": 49,
   "metadata": {},
   "outputs": [],
   "source": [
    "df.drop(['disposition'], axis=1, inplace=True)"
   ]
  },
  {
   "attachments": {},
   "cell_type": "markdown",
   "metadata": {},
   "source": [
    "### 2. Missing Values Data Categorical"
   ]
  },
  {
   "cell_type": "code",
   "execution_count": 50,
   "metadata": {},
   "outputs": [
    {
     "name": "stdout",
     "output_type": "stream",
     "text": [
      "close_amount      33.532495\n",
      "airline_name      16.077604\n",
      "airport_code       3.462541\n",
      "airport_name       3.462541\n",
      "claim_type         3.149926\n",
      "item               1.837540\n",
      "claim_amount       1.245999\n",
      "claim_site         0.238796\n",
      "date_received      0.061928\n",
      "claim_number       0.000000\n",
      "status             0.000000\n",
      "incident_dates     0.000000\n",
      "dtype: float64\n"
     ]
    }
   ],
   "source": [
    "print((df.isna().sum().sort_values(ascending=False)/len(df)*100))"
   ]
  },
  {
   "attachments": {},
   "cell_type": "markdown",
   "metadata": {},
   "source": [
    "#### 2.a. Airline Name"
   ]
  },
  {
   "cell_type": "code",
   "execution_count": 51,
   "metadata": {},
   "outputs": [
    {
     "data": {
      "text/html": [
       "<div>\n",
       "<style scoped>\n",
       "    .dataframe tbody tr th:only-of-type {\n",
       "        vertical-align: middle;\n",
       "    }\n",
       "\n",
       "    .dataframe tbody tr th {\n",
       "        vertical-align: top;\n",
       "    }\n",
       "\n",
       "    .dataframe thead th {\n",
       "        text-align: right;\n",
       "    }\n",
       "</style>\n",
       "<table border=\"1\" class=\"dataframe\">\n",
       "  <thead>\n",
       "    <tr style=\"text-align: right;\">\n",
       "      <th></th>\n",
       "      <th>airport_code</th>\n",
       "      <th>0</th>\n",
       "    </tr>\n",
       "  </thead>\n",
       "  <tbody>\n",
       "    <tr>\n",
       "      <th>0</th>\n",
       "      <td>LAX</td>\n",
       "      <td>1649</td>\n",
       "    </tr>\n",
       "    <tr>\n",
       "      <th>1</th>\n",
       "      <td>ORD</td>\n",
       "      <td>994</td>\n",
       "    </tr>\n",
       "    <tr>\n",
       "      <th>2</th>\n",
       "      <td>MIA</td>\n",
       "      <td>915</td>\n",
       "    </tr>\n",
       "    <tr>\n",
       "      <th>3</th>\n",
       "      <td>JFK</td>\n",
       "      <td>876</td>\n",
       "    </tr>\n",
       "    <tr>\n",
       "      <th>4</th>\n",
       "      <td>EWR</td>\n",
       "      <td>862</td>\n",
       "    </tr>\n",
       "  </tbody>\n",
       "</table>\n",
       "</div>"
      ],
      "text/plain": [
       "  airport_code     0\n",
       "0          LAX  1649\n",
       "1          ORD   994\n",
       "2          MIA   915\n",
       "3          JFK   876\n",
       "4          EWR   862"
      ]
     },
     "execution_count": 51,
     "metadata": {},
     "output_type": "execute_result"
    }
   ],
   "source": [
    "# airport with most airline name = NaN\n",
    "airport_code_most_nan = df.loc[df['airline_name'].isna()].value_counts(subset='airport_code').reset_index()\n",
    "airport_code_most_nan = airport_code_most_nan.loc[airport_code_most_nan[0]>1]\n",
    "airport_code_most_nan.head()"
   ]
  },
  {
   "cell_type": "code",
   "execution_count": 52,
   "metadata": {},
   "outputs": [],
   "source": [
    "most_freq_airlines = []"
   ]
  },
  {
   "cell_type": "code",
   "execution_count": 53,
   "metadata": {},
   "outputs": [],
   "source": [
    "for i in airport_code_most_nan['airport_code']:\n",
    "    a = df.loc[df['airport_code'] == i].value_counts(subset='airline_name').index[0]\n",
    "    most_freq_airlines.append(a)"
   ]
  },
  {
   "cell_type": "code",
   "execution_count": 54,
   "metadata": {},
   "outputs": [
    {
     "name": "stdout",
     "output_type": "stream",
     "text": [
      "  airport_code     0     most_freq_airline\n",
      "0          LAX  1649                   UAL\n",
      "1          ORD   994                   UAL\n",
      "2          MIA   915     American Airlines\n",
      "3          JFK   876              Jet Blue\n",
      "4          EWR   862  Continental Airlines\n",
      "\n",
      "Berikut merupakan data airport_code yang memiliki nilai missing values diurutkan dari yang tertinggi,\n",
      "dan juga airline yang paling sering mendarat di airport tersebut.\n",
      "\n"
     ]
    }
   ],
   "source": [
    "airport_code_most_nan['most_freq_airline'] = most_freq_airlines\n",
    "\n",
    "print(airport_code_most_nan.head())\n",
    "\n",
    "print('''\n",
    "Berikut merupakan data airport_code yang memiliki nilai missing values diurutkan dari yang tertinggi,\n",
    "dan juga airline yang paling sering mendarat di airport tersebut.\n",
    "'''\n",
    ")"
   ]
  },
  {
   "cell_type": "code",
   "execution_count": 55,
   "metadata": {},
   "outputs": [],
   "source": [
    "df.reset_index(inplace=True)"
   ]
  },
  {
   "cell_type": "code",
   "execution_count": 56,
   "metadata": {},
   "outputs": [],
   "source": [
    "# Buat dictioanry untuk membatu proses looping\n",
    "airlines = dict(zip(airport_code_most_nan['airport_code'],airport_code_most_nan['most_freq_airline']))"
   ]
  },
  {
   "cell_type": "code",
   "execution_count": 57,
   "metadata": {},
   "outputs": [],
   "source": [
    "airline_names = []\n",
    "x = df['airline_name'].isna()"
   ]
  },
  {
   "cell_type": "code",
   "execution_count": 58,
   "metadata": {},
   "outputs": [],
   "source": [
    "# Looping untuk mengisi nan values dengan dictionary diatas\n",
    "for i in range(len(df['airport_code'])):\n",
    "    if x[i] == False:\n",
    "        airline_names.append(df['airline_name'][i])\n",
    "    elif x[i] == True:\n",
    "        if df['airport_code'][i] is not np.nan:\n",
    "            code = df['airport_code'][i]\n",
    "            if airlines.get(code) != None:\n",
    "                airline_names.append(airlines[code])\n",
    "            elif airlines.get(code) == None:\n",
    "                airline_names.append('Others')\n",
    "        elif df['airport_code'][i] is np.nan:\n",
    "            airline_names.append('Others') "
   ]
  },
  {
   "cell_type": "code",
   "execution_count": 59,
   "metadata": {},
   "outputs": [],
   "source": [
    "# Mengganti values kolom yang lama\n",
    "df['airline_name'] = airline_names"
   ]
  },
  {
   "attachments": {},
   "cell_type": "markdown",
   "metadata": {},
   "source": [
    "#### 2.b. airport_code & airport_name"
   ]
  },
  {
   "cell_type": "code",
   "execution_count": 60,
   "metadata": {},
   "outputs": [
    {
     "data": {
      "text/plain": [
       "airport_code    6989\n",
       "airport_name    6989\n",
       "dtype: int64"
      ]
     },
     "execution_count": 60,
     "metadata": {},
     "output_type": "execute_result"
    }
   ],
   "source": [
    "df[['airport_code', 'airport_name']].isna().sum()"
   ]
  },
  {
   "attachments": {},
   "cell_type": "markdown",
   "metadata": {},
   "source": [
    "* Untuk menangani missing values ini, kita cukup mengganti nan values menjadi 'Others'"
   ]
  },
  {
   "cell_type": "code",
   "execution_count": 61,
   "metadata": {},
   "outputs": [],
   "source": [
    "df['airport_code'].fillna(value = 'Others', inplace = True)\n",
    "df['airport_name'].fillna(value = 'Others', inplace = True)"
   ]
  },
  {
   "attachments": {},
   "cell_type": "markdown",
   "metadata": {},
   "source": [
    "#### 2.c. claim_type"
   ]
  },
  {
   "cell_type": "code",
   "execution_count": 62,
   "metadata": {},
   "outputs": [
    {
     "data": {
      "text/plain": [
       "claim_type    6358\n",
       "dtype: int64"
      ]
     },
     "execution_count": 62,
     "metadata": {},
     "output_type": "execute_result"
    }
   ],
   "source": [
    "df[['claim_type']].isna().sum()"
   ]
  },
  {
   "cell_type": "code",
   "execution_count": 63,
   "metadata": {},
   "outputs": [
    {
     "data": {
      "text/plain": [
       "claim_type             \n",
       "Passenger Property Loss    117398\n",
       "Property Damage             74981\n",
       "Personal Injury              1453\n",
       "Employee Loss (MPCECA)        485\n",
       "Passenger Theft               465\n",
       "Motor Vehicle                 368\n",
       "Others                        282\n",
       "Complaint                      48\n",
       "Wrongful Death                  4\n",
       "Compliment                      3\n",
       "Bus Terminal                    1\n",
       "dtype: int64"
      ]
     },
     "execution_count": 63,
     "metadata": {},
     "output_type": "execute_result"
    }
   ],
   "source": [
    "df[['claim_type']].value_counts()"
   ]
  },
  {
   "attachments": {},
   "cell_type": "markdown",
   "metadata": {},
   "source": [
    "* Kita coba lihat nilai missing values claim_type berdasarkan claim_site-nya"
   ]
  },
  {
   "cell_type": "code",
   "execution_count": 64,
   "metadata": {},
   "outputs": [
    {
     "data": {
      "text/html": [
       "<div>\n",
       "<style scoped>\n",
       "    .dataframe tbody tr th:only-of-type {\n",
       "        vertical-align: middle;\n",
       "    }\n",
       "\n",
       "    .dataframe tbody tr th {\n",
       "        vertical-align: top;\n",
       "    }\n",
       "\n",
       "    .dataframe thead th {\n",
       "        text-align: right;\n",
       "    }\n",
       "</style>\n",
       "<table border=\"1\" class=\"dataframe\">\n",
       "  <thead>\n",
       "    <tr style=\"text-align: right;\">\n",
       "      <th></th>\n",
       "      <th>claim_site</th>\n",
       "      <th>0</th>\n",
       "    </tr>\n",
       "  </thead>\n",
       "  <tbody>\n",
       "    <tr>\n",
       "      <th>0</th>\n",
       "      <td>Checked Baggage</td>\n",
       "      <td>4657</td>\n",
       "    </tr>\n",
       "    <tr>\n",
       "      <th>1</th>\n",
       "      <td>Checkpoint</td>\n",
       "      <td>892</td>\n",
       "    </tr>\n",
       "    <tr>\n",
       "      <th>2</th>\n",
       "      <td>Others</td>\n",
       "      <td>623</td>\n",
       "    </tr>\n",
       "    <tr>\n",
       "      <th>3</th>\n",
       "      <td>Motor Vehicle</td>\n",
       "      <td>6</td>\n",
       "    </tr>\n",
       "  </tbody>\n",
       "</table>\n",
       "</div>"
      ],
      "text/plain": [
       "        claim_site     0\n",
       "0  Checked Baggage  4657\n",
       "1       Checkpoint   892\n",
       "2           Others   623\n",
       "3    Motor Vehicle     6"
      ]
     },
     "execution_count": 64,
     "metadata": {},
     "output_type": "execute_result"
    }
   ],
   "source": [
    "loc_claim_type_nan = df.loc[df['claim_type'].isna()].value_counts(subset='claim_site').reset_index()\n",
    "loc_claim_type_nan"
   ]
  },
  {
   "cell_type": "code",
   "execution_count": 65,
   "metadata": {},
   "outputs": [],
   "source": [
    "most_freq_claim_type=[]"
   ]
  },
  {
   "cell_type": "code",
   "execution_count": 66,
   "metadata": {},
   "outputs": [],
   "source": [
    "for i in loc_claim_type_nan['claim_site']:\n",
    "    a = df.loc[df['claim_site'] == i].value_counts(subset='claim_type').index[0]\n",
    "    most_freq_claim_type.append(a)"
   ]
  },
  {
   "cell_type": "code",
   "execution_count": 67,
   "metadata": {},
   "outputs": [
    {
     "data": {
      "text/html": [
       "<div>\n",
       "<style scoped>\n",
       "    .dataframe tbody tr th:only-of-type {\n",
       "        vertical-align: middle;\n",
       "    }\n",
       "\n",
       "    .dataframe tbody tr th {\n",
       "        vertical-align: top;\n",
       "    }\n",
       "\n",
       "    .dataframe thead th {\n",
       "        text-align: right;\n",
       "    }\n",
       "</style>\n",
       "<table border=\"1\" class=\"dataframe\">\n",
       "  <thead>\n",
       "    <tr style=\"text-align: right;\">\n",
       "      <th></th>\n",
       "      <th>claim_site</th>\n",
       "      <th>0</th>\n",
       "      <th>most_freq_claim_type</th>\n",
       "    </tr>\n",
       "  </thead>\n",
       "  <tbody>\n",
       "    <tr>\n",
       "      <th>0</th>\n",
       "      <td>Checked Baggage</td>\n",
       "      <td>4657</td>\n",
       "      <td>Passenger Property Loss</td>\n",
       "    </tr>\n",
       "    <tr>\n",
       "      <th>1</th>\n",
       "      <td>Checkpoint</td>\n",
       "      <td>892</td>\n",
       "      <td>Property Damage</td>\n",
       "    </tr>\n",
       "    <tr>\n",
       "      <th>2</th>\n",
       "      <td>Others</td>\n",
       "      <td>623</td>\n",
       "      <td>Passenger Property Loss</td>\n",
       "    </tr>\n",
       "    <tr>\n",
       "      <th>3</th>\n",
       "      <td>Motor Vehicle</td>\n",
       "      <td>6</td>\n",
       "      <td>Motor Vehicle</td>\n",
       "    </tr>\n",
       "  </tbody>\n",
       "</table>\n",
       "</div>"
      ],
      "text/plain": [
       "        claim_site     0     most_freq_claim_type\n",
       "0  Checked Baggage  4657  Passenger Property Loss\n",
       "1       Checkpoint   892          Property Damage\n",
       "2           Others   623  Passenger Property Loss\n",
       "3    Motor Vehicle     6            Motor Vehicle"
      ]
     },
     "execution_count": 67,
     "metadata": {},
     "output_type": "execute_result"
    }
   ],
   "source": [
    "loc_claim_type_nan['most_freq_claim_type'] = most_freq_claim_type\n",
    "loc_claim_type_nan"
   ]
  },
  {
   "attachments": {},
   "cell_type": "markdown",
   "metadata": {},
   "source": [
    "* Diatas merupakan modus dari claim_type berdasarkan claim_site-nya"
   ]
  },
  {
   "cell_type": "code",
   "execution_count": 68,
   "metadata": {},
   "outputs": [],
   "source": [
    "claims = dict(zip(loc_claim_type_nan['claim_site'], loc_claim_type_nan['most_freq_claim_type']))"
   ]
  },
  {
   "cell_type": "code",
   "execution_count": 69,
   "metadata": {},
   "outputs": [],
   "source": [
    "claim_types = []\n",
    "x = df['claim_type'].isna()"
   ]
  },
  {
   "cell_type": "code",
   "execution_count": 70,
   "metadata": {},
   "outputs": [],
   "source": [
    "for i in range(len(df)):\n",
    "    if x[i] == False:\n",
    "        claim_types.append(df['claim_type'][i])\n",
    "    elif x[i] == True :\n",
    "        if df['claim_site'][i] is not np.nan:\n",
    "            code = df['claim_site'][i]\n",
    "            if claims.get(code) != None:\n",
    "                claim_types.append(claims[code])\n",
    "            elif claims.get(code) == None:\n",
    "                claim_types.append('Others')\n",
    "        elif df['claim_site'][i] is np.nan:\n",
    "            claim_types.append('Others')"
   ]
  },
  {
   "cell_type": "code",
   "execution_count": 71,
   "metadata": {},
   "outputs": [],
   "source": [
    "df['claim_type'] = claim_types"
   ]
  },
  {
   "attachments": {},
   "cell_type": "markdown",
   "metadata": {},
   "source": [
    "#### 2.c. claim_site"
   ]
  },
  {
   "cell_type": "code",
   "execution_count": 72,
   "metadata": {},
   "outputs": [
    {
     "data": {
      "text/plain": [
       "482"
      ]
     },
     "execution_count": 72,
     "metadata": {},
     "output_type": "execute_result"
    }
   ],
   "source": [
    "df.claim_site.isna().sum()"
   ]
  },
  {
   "cell_type": "code",
   "execution_count": 73,
   "metadata": {},
   "outputs": [
    {
     "data": {
      "text/plain": [
       "Checked Baggage    158959\n",
       "Checkpoint          39960\n",
       "Others               1958\n",
       "Motor Vehicle         471\n",
       "Bus Station            16\n",
       "Name: claim_site, dtype: int64"
      ]
     },
     "execution_count": 73,
     "metadata": {},
     "output_type": "execute_result"
    }
   ],
   "source": [
    "df.claim_site.value_counts()"
   ]
  },
  {
   "attachments": {},
   "cell_type": "markdown",
   "metadata": {},
   "source": [
    "* Untuk menghandle nilai missing values kita akan menggantinya menjadi 'Others'\n",
    "* Karena jumlahnya yang cukup kecil, sehingga tidak berpengaruh terhadap urutan dari yang jumlah terbesar sampai terkecil"
   ]
  },
  {
   "cell_type": "code",
   "execution_count": 74,
   "metadata": {},
   "outputs": [],
   "source": [
    "df.claim_site.fillna(value='Others', inplace=True)"
   ]
  },
  {
   "cell_type": "code",
   "execution_count": 75,
   "metadata": {},
   "outputs": [
    {
     "data": {
      "text/plain": [
       "index                 0\n",
       "claim_number          0\n",
       "date_received       125\n",
       "airport_code          0\n",
       "airport_name          0\n",
       "airline_name          0\n",
       "claim_type            0\n",
       "claim_site            0\n",
       "item               3709\n",
       "claim_amount       2515\n",
       "status                0\n",
       "close_amount      67684\n",
       "incident_dates        0\n",
       "dtype: int64"
      ]
     },
     "execution_count": 75,
     "metadata": {},
     "output_type": "execute_result"
    }
   ],
   "source": [
    "# Check jumlah missing value, setelah beberap proses diatas\n",
    "df.isna().sum()"
   ]
  },
  {
   "attachments": {},
   "cell_type": "markdown",
   "metadata": {},
   "source": [
    "### 3. Close_Amount Missing Values"
   ]
  },
  {
   "cell_type": "code",
   "execution_count": 76,
   "metadata": {},
   "outputs": [
    {
     "data": {
      "text/html": [
       "<div>\n",
       "<style scoped>\n",
       "    .dataframe tbody tr th:only-of-type {\n",
       "        vertical-align: middle;\n",
       "    }\n",
       "\n",
       "    .dataframe tbody tr th {\n",
       "        vertical-align: top;\n",
       "    }\n",
       "\n",
       "    .dataframe thead th {\n",
       "        text-align: right;\n",
       "    }\n",
       "</style>\n",
       "<table border=\"1\" class=\"dataframe\">\n",
       "  <thead>\n",
       "    <tr style=\"text-align: right;\">\n",
       "      <th></th>\n",
       "      <th>claim_amount</th>\n",
       "      <th>status</th>\n",
       "      <th>close_amount</th>\n",
       "    </tr>\n",
       "  </thead>\n",
       "  <tbody>\n",
       "    <tr>\n",
       "      <th>0</th>\n",
       "      <td>350.00</td>\n",
       "      <td>Approved</td>\n",
       "      <td>$350.00</td>\n",
       "    </tr>\n",
       "    <tr>\n",
       "      <th>1</th>\n",
       "      <td>100.00</td>\n",
       "      <td>Settled</td>\n",
       "      <td>$50.00</td>\n",
       "    </tr>\n",
       "    <tr>\n",
       "      <th>2</th>\n",
       "      <td>278.88</td>\n",
       "      <td>Settled</td>\n",
       "      <td>$227.92</td>\n",
       "    </tr>\n",
       "    <tr>\n",
       "      <th>3</th>\n",
       "      <td>50.00</td>\n",
       "      <td>Approved</td>\n",
       "      <td>$50.00</td>\n",
       "    </tr>\n",
       "    <tr>\n",
       "      <th>4</th>\n",
       "      <td>84.79</td>\n",
       "      <td>Approved</td>\n",
       "      <td>$84.79</td>\n",
       "    </tr>\n",
       "    <tr>\n",
       "      <th>...</th>\n",
       "      <td>...</td>\n",
       "      <td>...</td>\n",
       "      <td>...</td>\n",
       "    </tr>\n",
       "    <tr>\n",
       "      <th>201841</th>\n",
       "      <td>0.00</td>\n",
       "      <td>In Process</td>\n",
       "      <td>NaN</td>\n",
       "    </tr>\n",
       "    <tr>\n",
       "      <th>201842</th>\n",
       "      <td>0.00</td>\n",
       "      <td>In Process</td>\n",
       "      <td>NaN</td>\n",
       "    </tr>\n",
       "    <tr>\n",
       "      <th>201843</th>\n",
       "      <td>0.00</td>\n",
       "      <td>In Process</td>\n",
       "      <td>NaN</td>\n",
       "    </tr>\n",
       "    <tr>\n",
       "      <th>201844</th>\n",
       "      <td>0.00</td>\n",
       "      <td>In Process</td>\n",
       "      <td>NaN</td>\n",
       "    </tr>\n",
       "    <tr>\n",
       "      <th>201845</th>\n",
       "      <td>0.00</td>\n",
       "      <td>In Process</td>\n",
       "      <td>NaN</td>\n",
       "    </tr>\n",
       "  </tbody>\n",
       "</table>\n",
       "<p>201846 rows × 3 columns</p>\n",
       "</div>"
      ],
      "text/plain": [
       "        claim_amount      status close_amount\n",
       "0             350.00    Approved     $350.00 \n",
       "1             100.00     Settled      $50.00 \n",
       "2             278.88     Settled     $227.92 \n",
       "3              50.00    Approved      $50.00 \n",
       "4              84.79    Approved      $84.79 \n",
       "...              ...         ...          ...\n",
       "201841          0.00  In Process          NaN\n",
       "201842          0.00  In Process          NaN\n",
       "201843          0.00  In Process          NaN\n",
       "201844          0.00  In Process          NaN\n",
       "201845          0.00  In Process          NaN\n",
       "\n",
       "[201846 rows x 3 columns]"
      ]
     },
     "execution_count": 76,
     "metadata": {},
     "output_type": "execute_result"
    }
   ],
   "source": [
    "df[['claim_amount','status', 'close_amount']]"
   ]
  },
  {
   "attachments": {},
   "cell_type": "markdown",
   "metadata": {},
   "source": [
    "* Bisa dilihat dari data diatas nilai dari close_amount bergantung terhadapa nilai \n",
    "claim_amount dan juga statusnya.\n",
    "* Jika Approved nilai close_amount cenderung sama dengan claim_amount.\n",
    "* Jika Denied nilai close_amount cenderung sama dengan 0, begitu juga jika klaim dalam status 'In Process'.\n",
    "* Jika Settled nilai close_amount bisa berbeda dengan claim_amount, kemungkinan lebih kecil dari nilai claim.  \n",
    "* Untuk pengisian missing values akan berfokus pada yang berstatus Settled."
   ]
  },
  {
   "attachments": {},
   "cell_type": "markdown",
   "metadata": {},
   "source": [
    "#### 2.a. Settled"
   ]
  },
  {
   "cell_type": "code",
   "execution_count": 77,
   "metadata": {},
   "outputs": [],
   "source": [
    "# Fix the format close_amount\n",
    "\n",
    "df[\"close_amount\"] = df.close_amount.str.strip()\n",
    "\n",
    "# kita mencoba mengilangkan simbol ';' , '$' , dan mengganti simbol '-' menjadi 0\n",
    "df[\"close_amount\"] = df.close_amount.str.replace(\";\",\"\",regex=True).str.replace(\"$\",\"\",regex=True)\n",
    "\n",
    "# kita masukan ke kolom yang baru untuk mempermudah workflow\n",
    "df[\"close_amount\"] = df.close_amount.astype(float)\n"
   ]
  },
  {
   "cell_type": "code",
   "execution_count": 78,
   "metadata": {},
   "outputs": [
    {
     "data": {
      "text/plain": [
       "claim_type         0\n",
       "claim_amount      89\n",
       "close_amount    5764\n",
       "dtype: int64"
      ]
     },
     "execution_count": 78,
     "metadata": {},
     "output_type": "execute_result"
    }
   ],
   "source": [
    "df[['claim_type','claim_amount', 'close_amount']].loc[df['status']=='Settled'].isna().sum()"
   ]
  },
  {
   "attachments": {},
   "cell_type": "markdown",
   "metadata": {},
   "source": [
    "* Kita ingin mencari metode yang tepat untuk pengisian missing values yang memiliki nilai settled."
   ]
  },
  {
   "cell_type": "code",
   "execution_count": 79,
   "metadata": {},
   "outputs": [],
   "source": [
    "# Membuat variable untuk yang data berstatus settled saja\n",
    "\n",
    "settled = df[['claim_type','claim_amount', 'close_amount']].loc[df['status']=='Settled']\n",
    "\n",
    "# kita drop missing values-nya\n",
    "settled.dropna(inplace=True)\n",
    "\n",
    "# difference between claim and close amount\n",
    "settled['diff'] = settled.claim_amount - settled.close_amount"
   ]
  },
  {
   "cell_type": "code",
   "execution_count": 80,
   "metadata": {},
   "outputs": [
    {
     "data": {
      "text/html": [
       "<div>\n",
       "<style scoped>\n",
       "    .dataframe tbody tr th:only-of-type {\n",
       "        vertical-align: middle;\n",
       "    }\n",
       "\n",
       "    .dataframe tbody tr th {\n",
       "        vertical-align: top;\n",
       "    }\n",
       "\n",
       "    .dataframe thead th {\n",
       "        text-align: right;\n",
       "    }\n",
       "</style>\n",
       "<table border=\"1\" class=\"dataframe\">\n",
       "  <thead>\n",
       "    <tr style=\"text-align: right;\">\n",
       "      <th></th>\n",
       "      <th>claim_type</th>\n",
       "      <th>claim_amount</th>\n",
       "      <th>close_amount</th>\n",
       "      <th>diff</th>\n",
       "    </tr>\n",
       "  </thead>\n",
       "  <tbody>\n",
       "    <tr>\n",
       "      <th>1</th>\n",
       "      <td>Property Damage</td>\n",
       "      <td>100.00</td>\n",
       "      <td>50.00</td>\n",
       "      <td>50.00</td>\n",
       "    </tr>\n",
       "    <tr>\n",
       "      <th>2</th>\n",
       "      <td>Property Damage</td>\n",
       "      <td>278.88</td>\n",
       "      <td>227.92</td>\n",
       "      <td>50.96</td>\n",
       "    </tr>\n",
       "    <tr>\n",
       "      <th>5</th>\n",
       "      <td>Passenger Property Loss</td>\n",
       "      <td>459.01</td>\n",
       "      <td>227.00</td>\n",
       "      <td>232.01</td>\n",
       "    </tr>\n",
       "    <tr>\n",
       "      <th>18</th>\n",
       "      <td>Passenger Property Loss</td>\n",
       "      <td>600.00</td>\n",
       "      <td>337.40</td>\n",
       "      <td>262.60</td>\n",
       "    </tr>\n",
       "    <tr>\n",
       "      <th>19</th>\n",
       "      <td>Passenger Property Loss</td>\n",
       "      <td>160.00</td>\n",
       "      <td>149.08</td>\n",
       "      <td>10.92</td>\n",
       "    </tr>\n",
       "  </tbody>\n",
       "</table>\n",
       "</div>"
      ],
      "text/plain": [
       "                 claim_type  claim_amount  close_amount    diff\n",
       "1           Property Damage        100.00         50.00   50.00\n",
       "2           Property Damage        278.88        227.92   50.96\n",
       "5   Passenger Property Loss        459.01        227.00  232.01\n",
       "18  Passenger Property Loss        600.00        337.40  262.60\n",
       "19  Passenger Property Loss        160.00        149.08   10.92"
      ]
     },
     "execution_count": 80,
     "metadata": {},
     "output_type": "execute_result"
    }
   ],
   "source": [
    "settled.head()"
   ]
  },
  {
   "cell_type": "code",
   "execution_count": 81,
   "metadata": {},
   "outputs": [
    {
     "data": {
      "text/plain": [
       "Passenger Property Loss    15833\n",
       "Property Damage            11434\n",
       "Personal Injury              123\n",
       "Passenger Theft              113\n",
       "Employee Loss (MPCECA)        95\n",
       "Motor Vehicle                 29\n",
       "Others                        11\n",
       "Name: claim_type, dtype: int64"
      ]
     },
     "execution_count": 81,
     "metadata": {},
     "output_type": "execute_result"
    }
   ],
   "source": [
    "settled.claim_type.value_counts()"
   ]
  },
  {
   "cell_type": "code",
   "execution_count": 82,
   "metadata": {},
   "outputs": [
    {
     "data": {
      "text/html": [
       "<div>\n",
       "<style scoped>\n",
       "    .dataframe tbody tr th:only-of-type {\n",
       "        vertical-align: middle;\n",
       "    }\n",
       "\n",
       "    .dataframe tbody tr th {\n",
       "        vertical-align: top;\n",
       "    }\n",
       "\n",
       "    .dataframe thead th {\n",
       "        text-align: right;\n",
       "    }\n",
       "</style>\n",
       "<table border=\"1\" class=\"dataframe\">\n",
       "  <thead>\n",
       "    <tr style=\"text-align: right;\">\n",
       "      <th></th>\n",
       "      <th>claim_amount</th>\n",
       "      <th>close_amount</th>\n",
       "      <th>diff</th>\n",
       "    </tr>\n",
       "    <tr>\n",
       "      <th>claim_type</th>\n",
       "      <th></th>\n",
       "      <th></th>\n",
       "      <th></th>\n",
       "    </tr>\n",
       "  </thead>\n",
       "  <tbody>\n",
       "    <tr>\n",
       "      <th>Employee Loss (MPCECA)</th>\n",
       "      <td>0.000000</td>\n",
       "      <td>142.350000</td>\n",
       "      <td>-142.350000</td>\n",
       "    </tr>\n",
       "    <tr>\n",
       "      <th>Passenger Property Loss</th>\n",
       "      <td>115.477143</td>\n",
       "      <td>191.623571</td>\n",
       "      <td>-76.146429</td>\n",
       "    </tr>\n",
       "    <tr>\n",
       "      <th>Property Damage</th>\n",
       "      <td>231.891667</td>\n",
       "      <td>317.252778</td>\n",
       "      <td>-85.361111</td>\n",
       "    </tr>\n",
       "  </tbody>\n",
       "</table>\n",
       "</div>"
      ],
      "text/plain": [
       "                         claim_amount  close_amount        diff\n",
       "claim_type                                                     \n",
       "Employee Loss (MPCECA)       0.000000    142.350000 -142.350000\n",
       "Passenger Property Loss    115.477143    191.623571  -76.146429\n",
       "Property Damage            231.891667    317.252778  -85.361111"
      ]
     },
     "execution_count": 82,
     "metadata": {},
     "output_type": "execute_result"
    }
   ],
   "source": [
    "# Cek data diff yang bernilai kurang dari 0\n",
    "\n",
    "settled.loc[settled['diff']<0].groupby(by='claim_type').mean()"
   ]
  },
  {
   "cell_type": "code",
   "execution_count": 83,
   "metadata": {},
   "outputs": [
    {
     "data": {
      "text/plain": [
       "<Axes: xlabel='claim_amount'>"
      ]
     },
     "execution_count": 83,
     "metadata": {},
     "output_type": "execute_result"
    },
    {
     "data": {
      "image/png": "[encoded data removed]",
      "text/plain": [
       "<Figure size 640x480 with 1 Axes>"
      ]
     },
     "metadata": {},
     "output_type": "display_data"
    }
   ],
   "source": [
    "# Check Outlier claim_amout\n",
    "\n",
    "sns.boxplot(data=settled, x = 'claim_amount')"
   ]
  },
  {
   "cell_type": "code",
   "execution_count": 84,
   "metadata": {},
   "outputs": [
    {
     "data": {
      "text/plain": [
       "count    2.763800e+04\n",
       "mean     8.046435e+02\n",
       "std      1.865293e+04\n",
       "min      0.000000e+00\n",
       "25%      1.020775e+02\n",
       "50%      2.140200e+02\n",
       "75%      4.500000e+02\n",
       "max      2.000000e+06\n",
       "Name: claim_amount, dtype: float64"
      ]
     },
     "execution_count": 84,
     "metadata": {},
     "output_type": "execute_result"
    }
   ],
   "source": [
    "settled['claim_amount'].describe()"
   ]
  },
  {
   "cell_type": "code",
   "execution_count": 85,
   "metadata": {},
   "outputs": [],
   "source": [
    "# Define Interquartile range\n",
    "Q1 = settled['claim_amount'].describe()['25%']\n",
    "Q3 = settled['claim_amount'].describe()['75%']\n",
    "IQR = Q3 -Q1\n",
    "\n",
    "\n",
    "Q1Outlier = Q1 - (1.5 * IQR)\n",
    "Q3Outlier = Q3 + (1.5 * IQR)"
   ]
  },
  {
   "cell_type": "code",
   "execution_count": 86,
   "metadata": {},
   "outputs": [
    {
     "data": {
      "text/html": [
       "<div>\n",
       "<style scoped>\n",
       "    .dataframe tbody tr th:only-of-type {\n",
       "        vertical-align: middle;\n",
       "    }\n",
       "\n",
       "    .dataframe tbody tr th {\n",
       "        vertical-align: top;\n",
       "    }\n",
       "\n",
       "    .dataframe thead th {\n",
       "        text-align: right;\n",
       "    }\n",
       "</style>\n",
       "<table border=\"1\" class=\"dataframe\">\n",
       "  <thead>\n",
       "    <tr style=\"text-align: right;\">\n",
       "      <th></th>\n",
       "      <th>claim_amount</th>\n",
       "      <th>close_amount</th>\n",
       "      <th>diff</th>\n",
       "    </tr>\n",
       "  </thead>\n",
       "  <tbody>\n",
       "    <tr>\n",
       "      <th>count</th>\n",
       "      <td>24506.000000</td>\n",
       "      <td>24506.000000</td>\n",
       "      <td>24506.000000</td>\n",
       "    </tr>\n",
       "    <tr>\n",
       "      <th>mean</th>\n",
       "      <td>250.363884</td>\n",
       "      <td>130.067241</td>\n",
       "      <td>120.296643</td>\n",
       "    </tr>\n",
       "    <tr>\n",
       "      <th>std</th>\n",
       "      <td>201.886047</td>\n",
       "      <td>123.946446</td>\n",
       "      <td>118.170578</td>\n",
       "    </tr>\n",
       "    <tr>\n",
       "      <th>min</th>\n",
       "      <td>0.000000</td>\n",
       "      <td>0.000000</td>\n",
       "      <td>-198.980000</td>\n",
       "    </tr>\n",
       "    <tr>\n",
       "      <th>25%</th>\n",
       "      <td>100.000000</td>\n",
       "      <td>50.000000</td>\n",
       "      <td>38.642500</td>\n",
       "    </tr>\n",
       "    <tr>\n",
       "      <th>50%</th>\n",
       "      <td>190.800000</td>\n",
       "      <td>85.000000</td>\n",
       "      <td>79.990000</td>\n",
       "    </tr>\n",
       "    <tr>\n",
       "      <th>75%</th>\n",
       "      <td>350.000000</td>\n",
       "      <td>176.000000</td>\n",
       "      <td>161.312500</td>\n",
       "    </tr>\n",
       "    <tr>\n",
       "      <th>max</th>\n",
       "      <td>970.920000</td>\n",
       "      <td>964.000000</td>\n",
       "      <td>897.000000</td>\n",
       "    </tr>\n",
       "  </tbody>\n",
       "</table>\n",
       "</div>"
      ],
      "text/plain": [
       "       claim_amount  close_amount          diff\n",
       "count  24506.000000  24506.000000  24506.000000\n",
       "mean     250.363884    130.067241    120.296643\n",
       "std      201.886047    123.946446    118.170578\n",
       "min        0.000000      0.000000   -198.980000\n",
       "25%      100.000000     50.000000     38.642500\n",
       "50%      190.800000     85.000000     79.990000\n",
       "75%      350.000000    176.000000    161.312500\n",
       "max      970.920000    964.000000    897.000000"
      ]
     },
     "execution_count": 86,
     "metadata": {},
     "output_type": "execute_result"
    }
   ],
   "source": [
    "# Data Settled with no oulier\n",
    "settled_no_outlier = settled.loc[settled['claim_amount'].between(Q1Outlier,Q3Outlier)]\n",
    "settled_no_outlier.describe()"
   ]
  },
  {
   "cell_type": "code",
   "execution_count": 87,
   "metadata": {},
   "outputs": [
    {
     "name": "stderr",
     "output_type": "stream",
     "text": [
      "C:\\Users\\Irfan\\AppData\\Local\\Temp\\ipykernel_10444\\1102074279.py:1: UserWarning: \n",
      "\n",
      "`distplot` is a deprecated function and will be removed in seaborn v0.14.0.\n",
      "\n",
      "Please adapt your code to use either `displot` (a figure-level function with\n",
      "similar flexibility) or `histplot` (an axes-level function for histograms).\n",
      "\n",
      "For a guide to updating your code to use the new functions, please see\n",
      "https://gist.github.com/mwaskom/de44147ed2974457ad6372750bbe5751\n",
      "\n",
      "  sns.distplot(a = settled_no_outlier['close_amount'])\n"
     ]
    },
    {
     "data": {
      "image/png": "[encoded data removed]",
      "text/plain": [
       "<Figure size 640x480 with 1 Axes>"
      ]
     },
     "metadata": {},
     "output_type": "display_data"
    }
   ],
   "source": [
    "sns.distplot(a = settled_no_outlier['close_amount'])\n",
    "plt.show()"
   ]
  },
  {
   "cell_type": "code",
   "execution_count": 88,
   "metadata": {},
   "outputs": [
    {
     "data": {
      "text/plain": [
       "0.45"
      ]
     },
     "execution_count": 88,
     "metadata": {},
     "output_type": "execute_result"
    }
   ],
   "source": [
    "diff = round(settled_no_outlier['close_amount'].describe()['50%']/settled_no_outlier['claim_amount'].describe()['50%'],2)\n",
    "\n",
    "diff"
   ]
  },
  {
   "attachments": {},
   "cell_type": "markdown",
   "metadata": {},
   "source": [
    "Untuk mengisi missing values dari close_amount, saya melakukan:\n",
    "* Mencoba mencari persentase median perbedaan antara claim_amount dan close_amount, dimana data tersebut berada dalam IQR.\n",
    "* Persentase antara median claim_amount dan close_amount adalah 45% atau 0.45\n",
    "* Kita bisa masukan nilai diatas ke fungsi dibawah ini"
   ]
  },
  {
   "cell_type": "code",
   "execution_count": 89,
   "metadata": {},
   "outputs": [],
   "source": [
    "df = df.reset_index()"
   ]
  },
  {
   "cell_type": "code",
   "execution_count": 90,
   "metadata": {},
   "outputs": [],
   "source": [
    "close_values = []\n",
    "x = df['close_amount'].isna()\n",
    "\n",
    "for i in range(len(df)):\n",
    "    if x[i] == False:\n",
    "       close_values.append(df['close_amount'][i]) \n",
    "    elif x[i] == True:\n",
    "        if df['status'][i] == 'Approved':\n",
    "            close_values.append(df['claim_amount'][i])\n",
    "        elif df['status'][i] == 'Denied':\n",
    "            close_values.append(0)\n",
    "        elif df['status'][i] == 'In Process':\n",
    "            close_values.append(0)\n",
    "        elif df['status'][i] == 'Settled':\n",
    "            s = df['claim_amount'][i]*diff\n",
    "            close_values.append(s) \n",
    "       "
   ]
  },
  {
   "cell_type": "code",
   "execution_count": 91,
   "metadata": {},
   "outputs": [],
   "source": [
    "df['close_amount'] = close_values"
   ]
  },
  {
   "cell_type": "code",
   "execution_count": 92,
   "metadata": {},
   "outputs": [
    {
     "data": {
      "text/plain": [
       "4"
      ]
     },
     "execution_count": 92,
     "metadata": {},
     "output_type": "execute_result"
    }
   ],
   "source": [
    "df['close_amount'].isna().sum()"
   ]
  },
  {
   "cell_type": "code",
   "execution_count": 93,
   "metadata": {},
   "outputs": [],
   "source": [
    "# Masih ada 4 nilai missing kita akan drop saja\n",
    "df.dropna(subset='close_amount', inplace=True)"
   ]
  },
  {
   "cell_type": "code",
   "execution_count": 94,
   "metadata": {},
   "outputs": [],
   "source": [
    "df['close_amount'] = round(df['close_amount'],2)"
   ]
  },
  {
   "cell_type": "code",
   "execution_count": 95,
   "metadata": {},
   "outputs": [
    {
     "data": {
      "text/plain": [
       "count    201842.000000\n",
       "mean         79.836566\n",
       "std         765.564847\n",
       "min           0.000000\n",
       "25%           0.000000\n",
       "50%           0.000000\n",
       "75%          50.000000\n",
       "max      250000.000000\n",
       "Name: close_amount, dtype: float64"
      ]
     },
     "execution_count": 95,
     "metadata": {},
     "output_type": "execute_result"
    }
   ],
   "source": [
    "df['close_amount'].describe()"
   ]
  },
  {
   "attachments": {},
   "cell_type": "markdown",
   "metadata": {},
   "source": [
    "### 4. Claim_Amount Missing Values"
   ]
  },
  {
   "cell_type": "code",
   "execution_count": 96,
   "metadata": {},
   "outputs": [
    {
     "name": "stdout",
     "output_type": "stream",
     "text": [
      "2511\n",
      "0.01244042369774378\n"
     ]
    }
   ],
   "source": [
    "# Jumlah missing Values\n",
    "print(df['claim_amount'].isna().sum())\n",
    "\n",
    "print(df['claim_amount'].isna().sum()/len(df))"
   ]
  },
  {
   "cell_type": "code",
   "execution_count": 97,
   "metadata": {},
   "outputs": [
    {
     "data": {
      "image/png": "[encoded data removed]",
      "text/plain": [
       "<Figure size 640x480 with 1 Axes>"
      ]
     },
     "metadata": {},
     "output_type": "display_data"
    }
   ],
   "source": [
    "# Check for outlier\n",
    "sns.boxplot(data=df, x = 'claim_amount')\n",
    "plt.show()"
   ]
  },
  {
   "cell_type": "code",
   "execution_count": 98,
   "metadata": {},
   "outputs": [
    {
     "data": {
      "text/plain": [
       "3000000000000.0"
      ]
     },
     "execution_count": 98,
     "metadata": {},
     "output_type": "execute_result"
    }
   ],
   "source": [
    "df['claim_amount'].max()"
   ]
  },
  {
   "cell_type": "code",
   "execution_count": 99,
   "metadata": {},
   "outputs": [
    {
     "data": {
      "text/html": [
       "<div>\n",
       "<style scoped>\n",
       "    .dataframe tbody tr th:only-of-type {\n",
       "        vertical-align: middle;\n",
       "    }\n",
       "\n",
       "    .dataframe tbody tr th {\n",
       "        vertical-align: top;\n",
       "    }\n",
       "\n",
       "    .dataframe thead th {\n",
       "        text-align: right;\n",
       "    }\n",
       "</style>\n",
       "<table border=\"1\" class=\"dataframe\">\n",
       "  <thead>\n",
       "    <tr style=\"text-align: right;\">\n",
       "      <th></th>\n",
       "      <th>level_0</th>\n",
       "      <th>index</th>\n",
       "      <th>claim_number</th>\n",
       "      <th>date_received</th>\n",
       "      <th>airport_code</th>\n",
       "      <th>airport_name</th>\n",
       "      <th>airline_name</th>\n",
       "      <th>claim_type</th>\n",
       "      <th>claim_site</th>\n",
       "      <th>item</th>\n",
       "      <th>claim_amount</th>\n",
       "      <th>status</th>\n",
       "      <th>close_amount</th>\n",
       "      <th>incident_dates</th>\n",
       "    </tr>\n",
       "  </thead>\n",
       "  <tbody>\n",
       "    <tr>\n",
       "      <th>115886</th>\n",
       "      <td>115886</td>\n",
       "      <td>118207</td>\n",
       "      <td>2008012238289</td>\n",
       "      <td>2008-02-12</td>\n",
       "      <td>JFK</td>\n",
       "      <td>John F. Kennedy International</td>\n",
       "      <td>Jet Blue</td>\n",
       "      <td>Personal Injury</td>\n",
       "      <td>Checkpoint</td>\n",
       "      <td>NaN</td>\n",
       "      <td>3.000000e+12</td>\n",
       "      <td>Denied</td>\n",
       "      <td>0.0</td>\n",
       "      <td>2007-12-28</td>\n",
       "    </tr>\n",
       "  </tbody>\n",
       "</table>\n",
       "</div>"
      ],
      "text/plain": [
       "        level_0   index   claim_number date_received airport_code  \\\n",
       "115886   115886  118207  2008012238289    2008-02-12          JFK   \n",
       "\n",
       "                         airport_name airline_name       claim_type  \\\n",
       "115886  John F. Kennedy International     Jet Blue  Personal Injury   \n",
       "\n",
       "        claim_site item  claim_amount  status  close_amount incident_dates  \n",
       "115886  Checkpoint  NaN  3.000000e+12  Denied           0.0     2007-12-28  "
      ]
     },
     "execution_count": 99,
     "metadata": {},
     "output_type": "execute_result"
    }
   ],
   "source": [
    "df.loc[df['claim_amount'] == df['claim_amount'].max()]"
   ]
  },
  {
   "cell_type": "code",
   "execution_count": 100,
   "metadata": {},
   "outputs": [
    {
     "data": {
      "text/plain": [
       "count    1.993310e+05\n",
       "mean     1.512118e+07\n",
       "std      6.719473e+09\n",
       "min      0.000000e+00\n",
       "25%      1.500000e+01\n",
       "50%      1.000000e+02\n",
       "75%      3.200000e+02\n",
       "max      3.000000e+12\n",
       "Name: claim_amount, dtype: float64"
      ]
     },
     "execution_count": 100,
     "metadata": {},
     "output_type": "execute_result"
    }
   ],
   "source": [
    "df['claim_amount'].describe()"
   ]
  },
  {
   "cell_type": "code",
   "execution_count": 101,
   "metadata": {},
   "outputs": [
    {
     "name": "stdout",
     "output_type": "stream",
     "text": [
      "-442.5 777.5\n"
     ]
    }
   ],
   "source": [
    "Q1 = df['claim_amount'].describe()['25%']\n",
    "Q3 = df['claim_amount'].describe()['75%']\n",
    "\n",
    "IQR = Q3 - Q1\n",
    "\n",
    "Q1Outlier = Q1 - (1.5 * IQR)\n",
    "Q3Outlier = Q3 + (1.5 * IQR)\n",
    "\n",
    "print(Q1Outlier, Q3Outlier)"
   ]
  },
  {
   "cell_type": "code",
   "execution_count": 102,
   "metadata": {},
   "outputs": [],
   "source": [
    "df_claim_amount_no_outlier = df.loc[df['claim_amount'].between(Q1Outlier,Q3Outlier)]"
   ]
  },
  {
   "cell_type": "code",
   "execution_count": 103,
   "metadata": {},
   "outputs": [
    {
     "data": {
      "text/plain": [
       "11.52039714231924"
      ]
     },
     "execution_count": 103,
     "metadata": {},
     "output_type": "execute_result"
    }
   ],
   "source": [
    "df_above_Q3 = df.loc[df['claim_amount'] > Q3Outlier]\n",
    "\n",
    "len(df_above_Q3)/len(df['claim_amount'])*100"
   ]
  },
  {
   "cell_type": "code",
   "execution_count": 104,
   "metadata": {},
   "outputs": [
    {
     "data": {
      "text/plain": [
       "Series([], Name: claim_amount, dtype: float64)"
      ]
     },
     "execution_count": 104,
     "metadata": {},
     "output_type": "execute_result"
    }
   ],
   "source": [
    "df_below_Q1 = df.loc[df['claim_amount'] < Q1Outlier]\n",
    "\n",
    "df_below_Q1['claim_amount'].sort_values(ascending=False).head()"
   ]
  },
  {
   "cell_type": "code",
   "execution_count": 105,
   "metadata": {},
   "outputs": [
    {
     "data": {
      "image/png": "[encoded data removed]",
      "text/plain": [
       "<Figure size 500x500 with 1 Axes>"
      ]
     },
     "metadata": {},
     "output_type": "display_data"
    }
   ],
   "source": [
    "sns.displot(df.claim_amount[(df.claim_amount>0)&(df.claim_amount<900)], kde=True)\n",
    "plt.show()"
   ]
  },
  {
   "attachments": {},
   "cell_type": "markdown",
   "metadata": {},
   "source": [
    "Dari hasil analisis diatas kita bisa simpulkan bahwa:\n",
    "* Claim_amount masih memiliki 2511 missing values, sekitar 1.2 % dari dataset.\n",
    "* Claim_amount memiliki outlier yang cukup banyak sekitar 11% dari kesulurhan data.\n",
    "* Claim_amount juga memiliki data yang tidak terdistribusi normal.\n",
    "\n",
    "Oleh karena itu, kita akan mengisi missing values dari kolom claim_amount, menggunakan nilai median berdasarkan claim_type-nya."
   ]
  },
  {
   "cell_type": "code",
   "execution_count": 106,
   "metadata": {},
   "outputs": [
    {
     "data": {
      "text/plain": [
       "claim_type\n",
       "Bus Terminal               140.00\n",
       "Complaint                    0.00\n",
       "Compliment                   0.00\n",
       "Employee Loss (MPCECA)     122.86\n",
       "Motor Vehicle              741.04\n",
       "Others                       0.00\n",
       "Passenger Property Loss    100.00\n",
       "Passenger Theft            182.00\n",
       "Personal Injury            675.03\n",
       "Property Damage             99.95\n",
       "Wrongful Death               0.00\n",
       "Name: claim_amount, dtype: float64"
      ]
     },
     "execution_count": 106,
     "metadata": {},
     "output_type": "execute_result"
    }
   ],
   "source": [
    "df.groupby('claim_type')['claim_amount'].median()"
   ]
  },
  {
   "cell_type": "code",
   "execution_count": 107,
   "metadata": {},
   "outputs": [],
   "source": [
    "df['claim_amount'] = df[['claim_amount', 'claim_type']].groupby('claim_type').transform(lambda x : x.fillna(x.median()))"
   ]
  },
  {
   "cell_type": "code",
   "execution_count": 108,
   "metadata": {},
   "outputs": [
    {
     "data": {
      "text/plain": [
       "0"
      ]
     },
     "execution_count": 108,
     "metadata": {},
     "output_type": "execute_result"
    }
   ],
   "source": [
    "df['claim_amount'].isna().sum()"
   ]
  },
  {
   "attachments": {},
   "cell_type": "markdown",
   "metadata": {},
   "source": [
    "### 5. Drop Columns Item"
   ]
  },
  {
   "cell_type": "code",
   "execution_count": 109,
   "metadata": {},
   "outputs": [
    {
     "data": {
      "text/plain": [
       "array(['Other', 'Luggage (all types including footlockers)',\n",
       "       'Cell Phones', ...,\n",
       "       'Baggage/Cases/Purses; Musical Instruments & Accessories; Musical Instruments & Accessories',\n",
       "       'Clothing; Clothing; Hunting & Fishing Items; Sporting Equipment & Supplies',\n",
       "       'Cameras; Clothing; Clothing; Clothing; Clothing; Jewelry & Watches; Jewelry & Watches'],\n",
       "      dtype=object)"
      ]
     },
     "execution_count": 109,
     "metadata": {},
     "output_type": "execute_result"
    }
   ],
   "source": [
    "df.item.unique()"
   ]
  },
  {
   "cell_type": "code",
   "execution_count": 110,
   "metadata": {},
   "outputs": [
    {
     "data": {
      "text/plain": [
       "Other                                                                                                                            36354\n",
       "Luggage (all types including footlockers)                                                                                        18620\n",
       "Clothing - Shoes; belts; accessories; etc.                                                                                       14662\n",
       "Jewelry - Fine                                                                                                                    9777\n",
       "Locks                                                                                                                             9417\n",
       "                                                                                                                                 ...  \n",
       "Cards - Playing; Other                                                                                                               1\n",
       "Boxes - Jewelry; Cigarette; Music; etc.; Currency; Locks; Other                                                                      1\n",
       "Clothing - Shoes; belts; accessories; etc.; Clothing - Shoes; belts; accessories; etc.; Handbags & Purses (leather or fabric)        1\n",
       "Clothing - Shoes; belts; accessories; etc.; Eyeglasses - (including contact lenses); Medicines; Other                                1\n",
       "Cameras; Clothing; Clothing; Clothing; Clothing; Jewelry & Watches; Jewelry & Watches                                                1\n",
       "Name: item, Length: 4694, dtype: int64"
      ]
     },
     "execution_count": 110,
     "metadata": {},
     "output_type": "execute_result"
    }
   ],
   "source": [
    "df.item.value_counts()"
   ]
  },
  {
   "attachments": {},
   "cell_type": "markdown",
   "metadata": {},
   "source": [
    "* Dari pengamatan diatas kolom item memiliki cukup banyak value unique, sehingga cukup sulit untuk menklasifikasikannya.\n",
    "* Oleh karena itu, untuk data analysis kolom item akan di drop, karena kolom item butuh pengklasifikasian lebih lanjut untuk mendapatkan informasi penting dari dataset."
   ]
  },
  {
   "cell_type": "code",
   "execution_count": 111,
   "metadata": {},
   "outputs": [],
   "source": [
    "df.drop(labels='item', axis = 1, inplace=True)"
   ]
  },
  {
   "attachments": {},
   "cell_type": "markdown",
   "metadata": {},
   "source": [
    "## C. Final Cleaning"
   ]
  },
  {
   "cell_type": "code",
   "execution_count": 112,
   "metadata": {},
   "outputs": [
    {
     "data": {
      "text/plain": [
       "level_0             0\n",
       "index               0\n",
       "claim_number        0\n",
       "date_received     125\n",
       "airport_code        0\n",
       "airport_name        0\n",
       "airline_name        0\n",
       "claim_type          0\n",
       "claim_site          0\n",
       "claim_amount        0\n",
       "status              0\n",
       "close_amount        0\n",
       "incident_dates      0\n",
       "dtype: int64"
      ]
     },
     "execution_count": 112,
     "metadata": {},
     "output_type": "execute_result"
    }
   ],
   "source": [
    "df.isna().sum()"
   ]
  },
  {
   "cell_type": "code",
   "execution_count": 113,
   "metadata": {},
   "outputs": [],
   "source": [
    "# Drop missing values di date_received\n",
    "\n",
    "df.dropna(subset='date_received',inplace=True)"
   ]
  },
  {
   "cell_type": "code",
   "execution_count": 114,
   "metadata": {},
   "outputs": [
    {
     "data": {
      "text/html": [
       "<div>\n",
       "<style scoped>\n",
       "    .dataframe tbody tr th:only-of-type {\n",
       "        vertical-align: middle;\n",
       "    }\n",
       "\n",
       "    .dataframe tbody tr th {\n",
       "        vertical-align: top;\n",
       "    }\n",
       "\n",
       "    .dataframe thead th {\n",
       "        text-align: right;\n",
       "    }\n",
       "</style>\n",
       "<table border=\"1\" class=\"dataframe\">\n",
       "  <thead>\n",
       "    <tr style=\"text-align: right;\">\n",
       "      <th></th>\n",
       "      <th>level_0</th>\n",
       "      <th>index</th>\n",
       "      <th>claim_number</th>\n",
       "      <th>date_received</th>\n",
       "      <th>airport_code</th>\n",
       "      <th>airport_name</th>\n",
       "      <th>airline_name</th>\n",
       "      <th>claim_type</th>\n",
       "      <th>claim_site</th>\n",
       "      <th>claim_amount</th>\n",
       "      <th>status</th>\n",
       "      <th>close_amount</th>\n",
       "      <th>incident_dates</th>\n",
       "    </tr>\n",
       "  </thead>\n",
       "  <tbody>\n",
       "    <tr>\n",
       "      <th>0</th>\n",
       "      <td>0</td>\n",
       "      <td>0</td>\n",
       "      <td>0909802M</td>\n",
       "      <td>2002-01-04</td>\n",
       "      <td>EWR</td>\n",
       "      <td>Newark International Airport</td>\n",
       "      <td>Continental Airlines</td>\n",
       "      <td>Property Damage</td>\n",
       "      <td>Checkpoint</td>\n",
       "      <td>350.00</td>\n",
       "      <td>Approved</td>\n",
       "      <td>350.00</td>\n",
       "      <td>2002-12-12</td>\n",
       "    </tr>\n",
       "    <tr>\n",
       "      <th>1</th>\n",
       "      <td>1</td>\n",
       "      <td>1</td>\n",
       "      <td>0202417M</td>\n",
       "      <td>2002-02-02</td>\n",
       "      <td>SEA</td>\n",
       "      <td>Seattle-Tacoma International</td>\n",
       "      <td>Alaska Airlines</td>\n",
       "      <td>Property Damage</td>\n",
       "      <td>Checked Baggage</td>\n",
       "      <td>100.00</td>\n",
       "      <td>Settled</td>\n",
       "      <td>50.00</td>\n",
       "      <td>2004-01-16</td>\n",
       "    </tr>\n",
       "    <tr>\n",
       "      <th>2</th>\n",
       "      <td>2</td>\n",
       "      <td>2</td>\n",
       "      <td>0202445M</td>\n",
       "      <td>2002-02-04</td>\n",
       "      <td>STL</td>\n",
       "      <td>Lambert St. Louis International</td>\n",
       "      <td>American Airlines</td>\n",
       "      <td>Property Damage</td>\n",
       "      <td>Checked Baggage</td>\n",
       "      <td>278.88</td>\n",
       "      <td>Settled</td>\n",
       "      <td>227.92</td>\n",
       "      <td>2003-11-26</td>\n",
       "    </tr>\n",
       "    <tr>\n",
       "      <th>3</th>\n",
       "      <td>3</td>\n",
       "      <td>3</td>\n",
       "      <td>0909816M</td>\n",
       "      <td>2002-02-07</td>\n",
       "      <td>MIA</td>\n",
       "      <td>Miami International Airport</td>\n",
       "      <td>American Airlines</td>\n",
       "      <td>Property Damage</td>\n",
       "      <td>Checkpoint</td>\n",
       "      <td>50.00</td>\n",
       "      <td>Approved</td>\n",
       "      <td>50.00</td>\n",
       "      <td>2003-01-06</td>\n",
       "    </tr>\n",
       "    <tr>\n",
       "      <th>4</th>\n",
       "      <td>4</td>\n",
       "      <td>4</td>\n",
       "      <td>2005032379513</td>\n",
       "      <td>2002-02-18</td>\n",
       "      <td>MCO</td>\n",
       "      <td>Orlando International Airport</td>\n",
       "      <td>Delta (Song)</td>\n",
       "      <td>Property Damage</td>\n",
       "      <td>Checkpoint</td>\n",
       "      <td>84.79</td>\n",
       "      <td>Approved</td>\n",
       "      <td>84.79</td>\n",
       "      <td>2005-02-05</td>\n",
       "    </tr>\n",
       "    <tr>\n",
       "      <th>...</th>\n",
       "      <td>...</td>\n",
       "      <td>...</td>\n",
       "      <td>...</td>\n",
       "      <td>...</td>\n",
       "      <td>...</td>\n",
       "      <td>...</td>\n",
       "      <td>...</td>\n",
       "      <td>...</td>\n",
       "      <td>...</td>\n",
       "      <td>...</td>\n",
       "      <td>...</td>\n",
       "      <td>...</td>\n",
       "      <td>...</td>\n",
       "    </tr>\n",
       "    <tr>\n",
       "      <th>201841</th>\n",
       "      <td>201841</td>\n",
       "      <td>204262</td>\n",
       "      <td>2015120427297</td>\n",
       "      <td>2015-11-20</td>\n",
       "      <td>Others</td>\n",
       "      <td>Others</td>\n",
       "      <td>Others</td>\n",
       "      <td>Property Damage</td>\n",
       "      <td>Checked Baggage</td>\n",
       "      <td>0.00</td>\n",
       "      <td>In Process</td>\n",
       "      <td>0.00</td>\n",
       "      <td>2015-10-16</td>\n",
       "    </tr>\n",
       "    <tr>\n",
       "      <th>201842</th>\n",
       "      <td>201842</td>\n",
       "      <td>204263</td>\n",
       "      <td>2015123027969</td>\n",
       "      <td>2015-12-17</td>\n",
       "      <td>Others</td>\n",
       "      <td>Others</td>\n",
       "      <td>Others</td>\n",
       "      <td>Property Damage</td>\n",
       "      <td>Checked Baggage</td>\n",
       "      <td>0.00</td>\n",
       "      <td>In Process</td>\n",
       "      <td>0.00</td>\n",
       "      <td>2015-12-02</td>\n",
       "    </tr>\n",
       "    <tr>\n",
       "      <th>201843</th>\n",
       "      <td>201843</td>\n",
       "      <td>204264</td>\n",
       "      <td>2016010428072</td>\n",
       "      <td>2015-12-22</td>\n",
       "      <td>Others</td>\n",
       "      <td>Others</td>\n",
       "      <td>Others</td>\n",
       "      <td>Passenger Property Loss</td>\n",
       "      <td>Checked Baggage</td>\n",
       "      <td>0.00</td>\n",
       "      <td>In Process</td>\n",
       "      <td>0.00</td>\n",
       "      <td>2015-12-20</td>\n",
       "    </tr>\n",
       "    <tr>\n",
       "      <th>201844</th>\n",
       "      <td>201844</td>\n",
       "      <td>204265</td>\n",
       "      <td>2016011328300</td>\n",
       "      <td>2015-12-30</td>\n",
       "      <td>Others</td>\n",
       "      <td>Others</td>\n",
       "      <td>Others</td>\n",
       "      <td>Passenger Property Loss</td>\n",
       "      <td>Checked Baggage</td>\n",
       "      <td>0.00</td>\n",
       "      <td>In Process</td>\n",
       "      <td>0.00</td>\n",
       "      <td>2015-12-28</td>\n",
       "    </tr>\n",
       "    <tr>\n",
       "      <th>201845</th>\n",
       "      <td>201845</td>\n",
       "      <td>204266</td>\n",
       "      <td>2015123128015</td>\n",
       "      <td>2015-12-31</td>\n",
       "      <td>Others</td>\n",
       "      <td>Others</td>\n",
       "      <td>Others</td>\n",
       "      <td>Passenger Property Loss</td>\n",
       "      <td>Checkpoint</td>\n",
       "      <td>0.00</td>\n",
       "      <td>In Process</td>\n",
       "      <td>0.00</td>\n",
       "      <td>2015-11-23</td>\n",
       "    </tr>\n",
       "  </tbody>\n",
       "</table>\n",
       "<p>201717 rows × 13 columns</p>\n",
       "</div>"
      ],
      "text/plain": [
       "        level_0   index   claim_number date_received airport_code  \\\n",
       "0             0       0       0909802M    2002-01-04          EWR   \n",
       "1             1       1       0202417M    2002-02-02          SEA   \n",
       "2             2       2       0202445M    2002-02-04          STL   \n",
       "3             3       3       0909816M    2002-02-07          MIA   \n",
       "4             4       4  2005032379513    2002-02-18          MCO   \n",
       "...         ...     ...            ...           ...          ...   \n",
       "201841   201841  204262  2015120427297    2015-11-20       Others   \n",
       "201842   201842  204263  2015123027969    2015-12-17       Others   \n",
       "201843   201843  204264  2016010428072    2015-12-22       Others   \n",
       "201844   201844  204265  2016011328300    2015-12-30       Others   \n",
       "201845   201845  204266  2015123128015    2015-12-31       Others   \n",
       "\n",
       "                           airport_name          airline_name  \\\n",
       "0          Newark International Airport  Continental Airlines   \n",
       "1          Seattle-Tacoma International       Alaska Airlines   \n",
       "2       Lambert St. Louis International     American Airlines   \n",
       "3           Miami International Airport     American Airlines   \n",
       "4         Orlando International Airport          Delta (Song)   \n",
       "...                                 ...                   ...   \n",
       "201841                           Others                Others   \n",
       "201842                           Others                Others   \n",
       "201843                           Others                Others   \n",
       "201844                           Others                Others   \n",
       "201845                           Others                Others   \n",
       "\n",
       "                     claim_type       claim_site  claim_amount      status  \\\n",
       "0               Property Damage       Checkpoint        350.00    Approved   \n",
       "1               Property Damage  Checked Baggage        100.00     Settled   \n",
       "2               Property Damage  Checked Baggage        278.88     Settled   \n",
       "3               Property Damage       Checkpoint         50.00    Approved   \n",
       "4               Property Damage       Checkpoint         84.79    Approved   \n",
       "...                         ...              ...           ...         ...   \n",
       "201841          Property Damage  Checked Baggage          0.00  In Process   \n",
       "201842          Property Damage  Checked Baggage          0.00  In Process   \n",
       "201843  Passenger Property Loss  Checked Baggage          0.00  In Process   \n",
       "201844  Passenger Property Loss  Checked Baggage          0.00  In Process   \n",
       "201845  Passenger Property Loss       Checkpoint          0.00  In Process   \n",
       "\n",
       "        close_amount incident_dates  \n",
       "0             350.00     2002-12-12  \n",
       "1              50.00     2004-01-16  \n",
       "2             227.92     2003-11-26  \n",
       "3              50.00     2003-01-06  \n",
       "4              84.79     2005-02-05  \n",
       "...              ...            ...  \n",
       "201841          0.00     2015-10-16  \n",
       "201842          0.00     2015-12-02  \n",
       "201843          0.00     2015-12-20  \n",
       "201844          0.00     2015-12-28  \n",
       "201845          0.00     2015-11-23  \n",
       "\n",
       "[201717 rows x 13 columns]"
      ]
     },
     "execution_count": 114,
     "metadata": {},
     "output_type": "execute_result"
    }
   ],
   "source": [
    "df"
   ]
  },
  {
   "cell_type": "code",
   "execution_count": 115,
   "metadata": {},
   "outputs": [],
   "source": [
    "df.drop(labels=['level_0', 'index'], axis=1, inplace=True)"
   ]
  },
  {
   "cell_type": "code",
   "execution_count": 116,
   "metadata": {},
   "outputs": [
    {
     "data": {
      "text/html": [
       "<div>\n",
       "<style scoped>\n",
       "    .dataframe tbody tr th:only-of-type {\n",
       "        vertical-align: middle;\n",
       "    }\n",
       "\n",
       "    .dataframe tbody tr th {\n",
       "        vertical-align: top;\n",
       "    }\n",
       "\n",
       "    .dataframe thead th {\n",
       "        text-align: right;\n",
       "    }\n",
       "</style>\n",
       "<table border=\"1\" class=\"dataframe\">\n",
       "  <thead>\n",
       "    <tr style=\"text-align: right;\">\n",
       "      <th></th>\n",
       "      <th>claim_number</th>\n",
       "      <th>date_received</th>\n",
       "      <th>airport_code</th>\n",
       "      <th>airport_name</th>\n",
       "      <th>airline_name</th>\n",
       "      <th>claim_type</th>\n",
       "      <th>claim_site</th>\n",
       "      <th>claim_amount</th>\n",
       "      <th>status</th>\n",
       "      <th>close_amount</th>\n",
       "      <th>incident_dates</th>\n",
       "    </tr>\n",
       "  </thead>\n",
       "  <tbody>\n",
       "    <tr>\n",
       "      <th>0</th>\n",
       "      <td>0909802M</td>\n",
       "      <td>2002-01-04</td>\n",
       "      <td>EWR</td>\n",
       "      <td>Newark International Airport</td>\n",
       "      <td>Continental Airlines</td>\n",
       "      <td>Property Damage</td>\n",
       "      <td>Checkpoint</td>\n",
       "      <td>350.00</td>\n",
       "      <td>Approved</td>\n",
       "      <td>350.00</td>\n",
       "      <td>2002-12-12</td>\n",
       "    </tr>\n",
       "    <tr>\n",
       "      <th>1</th>\n",
       "      <td>0202417M</td>\n",
       "      <td>2002-02-02</td>\n",
       "      <td>SEA</td>\n",
       "      <td>Seattle-Tacoma International</td>\n",
       "      <td>Alaska Airlines</td>\n",
       "      <td>Property Damage</td>\n",
       "      <td>Checked Baggage</td>\n",
       "      <td>100.00</td>\n",
       "      <td>Settled</td>\n",
       "      <td>50.00</td>\n",
       "      <td>2004-01-16</td>\n",
       "    </tr>\n",
       "    <tr>\n",
       "      <th>2</th>\n",
       "      <td>0202445M</td>\n",
       "      <td>2002-02-04</td>\n",
       "      <td>STL</td>\n",
       "      <td>Lambert St. Louis International</td>\n",
       "      <td>American Airlines</td>\n",
       "      <td>Property Damage</td>\n",
       "      <td>Checked Baggage</td>\n",
       "      <td>278.88</td>\n",
       "      <td>Settled</td>\n",
       "      <td>227.92</td>\n",
       "      <td>2003-11-26</td>\n",
       "    </tr>\n",
       "    <tr>\n",
       "      <th>3</th>\n",
       "      <td>0909816M</td>\n",
       "      <td>2002-02-07</td>\n",
       "      <td>MIA</td>\n",
       "      <td>Miami International Airport</td>\n",
       "      <td>American Airlines</td>\n",
       "      <td>Property Damage</td>\n",
       "      <td>Checkpoint</td>\n",
       "      <td>50.00</td>\n",
       "      <td>Approved</td>\n",
       "      <td>50.00</td>\n",
       "      <td>2003-01-06</td>\n",
       "    </tr>\n",
       "    <tr>\n",
       "      <th>4</th>\n",
       "      <td>2005032379513</td>\n",
       "      <td>2002-02-18</td>\n",
       "      <td>MCO</td>\n",
       "      <td>Orlando International Airport</td>\n",
       "      <td>Delta (Song)</td>\n",
       "      <td>Property Damage</td>\n",
       "      <td>Checkpoint</td>\n",
       "      <td>84.79</td>\n",
       "      <td>Approved</td>\n",
       "      <td>84.79</td>\n",
       "      <td>2005-02-05</td>\n",
       "    </tr>\n",
       "  </tbody>\n",
       "</table>\n",
       "</div>"
      ],
      "text/plain": [
       "    claim_number date_received airport_code                     airport_name  \\\n",
       "0       0909802M    2002-01-04          EWR     Newark International Airport   \n",
       "1       0202417M    2002-02-02          SEA     Seattle-Tacoma International   \n",
       "2       0202445M    2002-02-04          STL  Lambert St. Louis International   \n",
       "3       0909816M    2002-02-07          MIA      Miami International Airport   \n",
       "4  2005032379513    2002-02-18          MCO    Orlando International Airport   \n",
       "\n",
       "           airline_name       claim_type       claim_site  claim_amount  \\\n",
       "0  Continental Airlines  Property Damage       Checkpoint        350.00   \n",
       "1       Alaska Airlines  Property Damage  Checked Baggage        100.00   \n",
       "2     American Airlines  Property Damage  Checked Baggage        278.88   \n",
       "3     American Airlines  Property Damage       Checkpoint         50.00   \n",
       "4          Delta (Song)  Property Damage       Checkpoint         84.79   \n",
       "\n",
       "     status  close_amount incident_dates  \n",
       "0  Approved        350.00     2002-12-12  \n",
       "1   Settled         50.00     2004-01-16  \n",
       "2   Settled        227.92     2003-11-26  \n",
       "3  Approved         50.00     2003-01-06  \n",
       "4  Approved         84.79     2005-02-05  "
      ]
     },
     "execution_count": 116,
     "metadata": {},
     "output_type": "execute_result"
    }
   ],
   "source": [
    "df.head()"
   ]
  },
  {
   "cell_type": "code",
   "execution_count": 117,
   "metadata": {},
   "outputs": [
    {
     "data": {
      "text/plain": [
       "Index(['claim_number', 'date_received', 'airport_code', 'airport_name',\n",
       "       'airline_name', 'claim_type', 'claim_site', 'claim_amount', 'status',\n",
       "       'close_amount', 'incident_dates'],\n",
       "      dtype='object')"
      ]
     },
     "execution_count": 117,
     "metadata": {},
     "output_type": "execute_result"
    }
   ],
   "source": [
    "df.columns"
   ]
  },
  {
   "cell_type": "code",
   "execution_count": 118,
   "metadata": {},
   "outputs": [],
   "source": [
    "df2 = df[['claim_number','date_received','incident_dates', 'airport_code', 'airport_name',\n",
    "    'airline_name','claim_type', 'claim_site', 'claim_amount', 'status','close_amount']]"
   ]
  },
  {
   "cell_type": "code",
   "execution_count": 119,
   "metadata": {},
   "outputs": [
    {
     "data": {
      "text/html": [
       "<div>\n",
       "<style scoped>\n",
       "    .dataframe tbody tr th:only-of-type {\n",
       "        vertical-align: middle;\n",
       "    }\n",
       "\n",
       "    .dataframe tbody tr th {\n",
       "        vertical-align: top;\n",
       "    }\n",
       "\n",
       "    .dataframe thead th {\n",
       "        text-align: right;\n",
       "    }\n",
       "</style>\n",
       "<table border=\"1\" class=\"dataframe\">\n",
       "  <thead>\n",
       "    <tr style=\"text-align: right;\">\n",
       "      <th></th>\n",
       "      <th>claim_number</th>\n",
       "      <th>date_received</th>\n",
       "      <th>incident_dates</th>\n",
       "      <th>airport_code</th>\n",
       "      <th>airport_name</th>\n",
       "      <th>airline_name</th>\n",
       "      <th>claim_type</th>\n",
       "      <th>claim_site</th>\n",
       "      <th>claim_amount</th>\n",
       "      <th>status</th>\n",
       "      <th>close_amount</th>\n",
       "    </tr>\n",
       "  </thead>\n",
       "  <tbody>\n",
       "    <tr>\n",
       "      <th>0</th>\n",
       "      <td>0909802M</td>\n",
       "      <td>2002-01-04</td>\n",
       "      <td>2002-12-12</td>\n",
       "      <td>EWR</td>\n",
       "      <td>Newark International Airport</td>\n",
       "      <td>Continental Airlines</td>\n",
       "      <td>Property Damage</td>\n",
       "      <td>Checkpoint</td>\n",
       "      <td>350.00</td>\n",
       "      <td>Approved</td>\n",
       "      <td>350.00</td>\n",
       "    </tr>\n",
       "    <tr>\n",
       "      <th>1</th>\n",
       "      <td>0202417M</td>\n",
       "      <td>2002-02-02</td>\n",
       "      <td>2004-01-16</td>\n",
       "      <td>SEA</td>\n",
       "      <td>Seattle-Tacoma International</td>\n",
       "      <td>Alaska Airlines</td>\n",
       "      <td>Property Damage</td>\n",
       "      <td>Checked Baggage</td>\n",
       "      <td>100.00</td>\n",
       "      <td>Settled</td>\n",
       "      <td>50.00</td>\n",
       "    </tr>\n",
       "    <tr>\n",
       "      <th>2</th>\n",
       "      <td>0202445M</td>\n",
       "      <td>2002-02-04</td>\n",
       "      <td>2003-11-26</td>\n",
       "      <td>STL</td>\n",
       "      <td>Lambert St. Louis International</td>\n",
       "      <td>American Airlines</td>\n",
       "      <td>Property Damage</td>\n",
       "      <td>Checked Baggage</td>\n",
       "      <td>278.88</td>\n",
       "      <td>Settled</td>\n",
       "      <td>227.92</td>\n",
       "    </tr>\n",
       "    <tr>\n",
       "      <th>3</th>\n",
       "      <td>0909816M</td>\n",
       "      <td>2002-02-07</td>\n",
       "      <td>2003-01-06</td>\n",
       "      <td>MIA</td>\n",
       "      <td>Miami International Airport</td>\n",
       "      <td>American Airlines</td>\n",
       "      <td>Property Damage</td>\n",
       "      <td>Checkpoint</td>\n",
       "      <td>50.00</td>\n",
       "      <td>Approved</td>\n",
       "      <td>50.00</td>\n",
       "    </tr>\n",
       "    <tr>\n",
       "      <th>4</th>\n",
       "      <td>2005032379513</td>\n",
       "      <td>2002-02-18</td>\n",
       "      <td>2005-02-05</td>\n",
       "      <td>MCO</td>\n",
       "      <td>Orlando International Airport</td>\n",
       "      <td>Delta (Song)</td>\n",
       "      <td>Property Damage</td>\n",
       "      <td>Checkpoint</td>\n",
       "      <td>84.79</td>\n",
       "      <td>Approved</td>\n",
       "      <td>84.79</td>\n",
       "    </tr>\n",
       "  </tbody>\n",
       "</table>\n",
       "</div>"
      ],
      "text/plain": [
       "    claim_number date_received incident_dates airport_code  \\\n",
       "0       0909802M    2002-01-04     2002-12-12          EWR   \n",
       "1       0202417M    2002-02-02     2004-01-16          SEA   \n",
       "2       0202445M    2002-02-04     2003-11-26          STL   \n",
       "3       0909816M    2002-02-07     2003-01-06          MIA   \n",
       "4  2005032379513    2002-02-18     2005-02-05          MCO   \n",
       "\n",
       "                      airport_name          airline_name       claim_type  \\\n",
       "0     Newark International Airport  Continental Airlines  Property Damage   \n",
       "1     Seattle-Tacoma International       Alaska Airlines  Property Damage   \n",
       "2  Lambert St. Louis International     American Airlines  Property Damage   \n",
       "3      Miami International Airport     American Airlines  Property Damage   \n",
       "4    Orlando International Airport          Delta (Song)  Property Damage   \n",
       "\n",
       "        claim_site  claim_amount    status  close_amount  \n",
       "0       Checkpoint        350.00  Approved        350.00  \n",
       "1  Checked Baggage        100.00   Settled         50.00  \n",
       "2  Checked Baggage        278.88   Settled        227.92  \n",
       "3       Checkpoint         50.00  Approved         50.00  \n",
       "4       Checkpoint         84.79  Approved         84.79  "
      ]
     },
     "execution_count": 119,
     "metadata": {},
     "output_type": "execute_result"
    }
   ],
   "source": [
    "# Menghilangkan date received diluar dari tahun 2002 - 2015\n",
    "df2 = df2[df2.date_received.dt.year.isin(range(2002,2016))]\n",
    "df2 = df2[df2.incident_dates.dt.year.isin(range(2002,2016))]\n",
    "\n",
    "# Clean Dataset\n",
    "df2.head()"
   ]
  },
  {
   "attachments": {},
   "cell_type": "markdown",
   "metadata": {},
   "source": [
    "# Data Analysis"
   ]
  },
  {
   "cell_type": "code",
   "execution_count": 120,
   "metadata": {},
   "outputs": [
    {
     "data": {
      "text/html": [
       "<div>\n",
       "<style scoped>\n",
       "    .dataframe tbody tr th:only-of-type {\n",
       "        vertical-align: middle;\n",
       "    }\n",
       "\n",
       "    .dataframe tbody tr th {\n",
       "        vertical-align: top;\n",
       "    }\n",
       "\n",
       "    .dataframe thead th {\n",
       "        text-align: right;\n",
       "    }\n",
       "</style>\n",
       "<table border=\"1\" class=\"dataframe\">\n",
       "  <thead>\n",
       "    <tr style=\"text-align: right;\">\n",
       "      <th></th>\n",
       "      <th>claim_number</th>\n",
       "      <th>date_received</th>\n",
       "      <th>incident_dates</th>\n",
       "      <th>airport_code</th>\n",
       "      <th>airport_name</th>\n",
       "      <th>airline_name</th>\n",
       "      <th>claim_type</th>\n",
       "      <th>claim_site</th>\n",
       "      <th>claim_amount</th>\n",
       "      <th>status</th>\n",
       "      <th>close_amount</th>\n",
       "    </tr>\n",
       "  </thead>\n",
       "  <tbody>\n",
       "    <tr>\n",
       "      <th>0</th>\n",
       "      <td>0909802M</td>\n",
       "      <td>2002-01-04</td>\n",
       "      <td>2002-12-12</td>\n",
       "      <td>EWR</td>\n",
       "      <td>Newark International Airport</td>\n",
       "      <td>Continental Airlines</td>\n",
       "      <td>Property Damage</td>\n",
       "      <td>Checkpoint</td>\n",
       "      <td>350.00</td>\n",
       "      <td>Approved</td>\n",
       "      <td>350.00</td>\n",
       "    </tr>\n",
       "    <tr>\n",
       "      <th>1</th>\n",
       "      <td>0202417M</td>\n",
       "      <td>2002-02-02</td>\n",
       "      <td>2004-01-16</td>\n",
       "      <td>SEA</td>\n",
       "      <td>Seattle-Tacoma International</td>\n",
       "      <td>Alaska Airlines</td>\n",
       "      <td>Property Damage</td>\n",
       "      <td>Checked Baggage</td>\n",
       "      <td>100.00</td>\n",
       "      <td>Settled</td>\n",
       "      <td>50.00</td>\n",
       "    </tr>\n",
       "    <tr>\n",
       "      <th>2</th>\n",
       "      <td>0202445M</td>\n",
       "      <td>2002-02-04</td>\n",
       "      <td>2003-11-26</td>\n",
       "      <td>STL</td>\n",
       "      <td>Lambert St. Louis International</td>\n",
       "      <td>American Airlines</td>\n",
       "      <td>Property Damage</td>\n",
       "      <td>Checked Baggage</td>\n",
       "      <td>278.88</td>\n",
       "      <td>Settled</td>\n",
       "      <td>227.92</td>\n",
       "    </tr>\n",
       "    <tr>\n",
       "      <th>3</th>\n",
       "      <td>0909816M</td>\n",
       "      <td>2002-02-07</td>\n",
       "      <td>2003-01-06</td>\n",
       "      <td>MIA</td>\n",
       "      <td>Miami International Airport</td>\n",
       "      <td>American Airlines</td>\n",
       "      <td>Property Damage</td>\n",
       "      <td>Checkpoint</td>\n",
       "      <td>50.00</td>\n",
       "      <td>Approved</td>\n",
       "      <td>50.00</td>\n",
       "    </tr>\n",
       "    <tr>\n",
       "      <th>4</th>\n",
       "      <td>2005032379513</td>\n",
       "      <td>2002-02-18</td>\n",
       "      <td>2005-02-05</td>\n",
       "      <td>MCO</td>\n",
       "      <td>Orlando International Airport</td>\n",
       "      <td>Delta (Song)</td>\n",
       "      <td>Property Damage</td>\n",
       "      <td>Checkpoint</td>\n",
       "      <td>84.79</td>\n",
       "      <td>Approved</td>\n",
       "      <td>84.79</td>\n",
       "    </tr>\n",
       "  </tbody>\n",
       "</table>\n",
       "</div>"
      ],
      "text/plain": [
       "    claim_number date_received incident_dates airport_code  \\\n",
       "0       0909802M    2002-01-04     2002-12-12          EWR   \n",
       "1       0202417M    2002-02-02     2004-01-16          SEA   \n",
       "2       0202445M    2002-02-04     2003-11-26          STL   \n",
       "3       0909816M    2002-02-07     2003-01-06          MIA   \n",
       "4  2005032379513    2002-02-18     2005-02-05          MCO   \n",
       "\n",
       "                      airport_name          airline_name       claim_type  \\\n",
       "0     Newark International Airport  Continental Airlines  Property Damage   \n",
       "1     Seattle-Tacoma International       Alaska Airlines  Property Damage   \n",
       "2  Lambert St. Louis International     American Airlines  Property Damage   \n",
       "3      Miami International Airport     American Airlines  Property Damage   \n",
       "4    Orlando International Airport          Delta (Song)  Property Damage   \n",
       "\n",
       "        claim_site  claim_amount    status  close_amount  \n",
       "0       Checkpoint        350.00  Approved        350.00  \n",
       "1  Checked Baggage        100.00   Settled         50.00  \n",
       "2  Checked Baggage        278.88   Settled        227.92  \n",
       "3       Checkpoint         50.00  Approved         50.00  \n",
       "4       Checkpoint         84.79  Approved         84.79  "
      ]
     },
     "execution_count": 120,
     "metadata": {},
     "output_type": "execute_result"
    }
   ],
   "source": [
    "df2.head()"
   ]
  },
  {
   "attachments": {},
   "cell_type": "markdown",
   "metadata": {},
   "source": [
    "Setelah Data berhasil dibersihkan, selanjutnya kita akan coba menganalisis data lebih dalam, untuk mencari informasi penting yang dapat membantu stakeholder terkait    \n",
    "untuk meningkatkan pelayanan terhadap penumpang untuk menurunkan laporan klaim yang diajukan."
   ]
  },
  {
   "attachments": {},
   "cell_type": "markdown",
   "metadata": {},
   "source": [
    "## A. Claim Per Year"
   ]
  },
  {
   "cell_type": "code",
   "execution_count": 121,
   "metadata": {},
   "outputs": [
    {
     "data": {
      "text/html": [
       "<div>\n",
       "<style scoped>\n",
       "    .dataframe tbody tr th:only-of-type {\n",
       "        vertical-align: middle;\n",
       "    }\n",
       "\n",
       "    .dataframe tbody tr th {\n",
       "        vertical-align: top;\n",
       "    }\n",
       "\n",
       "    .dataframe thead th {\n",
       "        text-align: right;\n",
       "    }\n",
       "</style>\n",
       "<table border=\"1\" class=\"dataframe\">\n",
       "  <thead>\n",
       "    <tr style=\"text-align: right;\">\n",
       "      <th></th>\n",
       "      <th>date_received</th>\n",
       "      <th>claim_type</th>\n",
       "    </tr>\n",
       "  </thead>\n",
       "  <tbody>\n",
       "    <tr>\n",
       "      <th>0</th>\n",
       "      <td>2002</td>\n",
       "      <td>932</td>\n",
       "    </tr>\n",
       "    <tr>\n",
       "      <th>1</th>\n",
       "      <td>2003</td>\n",
       "      <td>21107</td>\n",
       "    </tr>\n",
       "    <tr>\n",
       "      <th>2</th>\n",
       "      <td>2004</td>\n",
       "      <td>29504</td>\n",
       "    </tr>\n",
       "    <tr>\n",
       "      <th>3</th>\n",
       "      <td>2005</td>\n",
       "      <td>24341</td>\n",
       "    </tr>\n",
       "    <tr>\n",
       "      <th>4</th>\n",
       "      <td>2006</td>\n",
       "      <td>18981</td>\n",
       "    </tr>\n",
       "    <tr>\n",
       "      <th>5</th>\n",
       "      <td>2007</td>\n",
       "      <td>18549</td>\n",
       "    </tr>\n",
       "    <tr>\n",
       "      <th>6</th>\n",
       "      <td>2008</td>\n",
       "      <td>16386</td>\n",
       "    </tr>\n",
       "    <tr>\n",
       "      <th>7</th>\n",
       "      <td>2009</td>\n",
       "      <td>12761</td>\n",
       "    </tr>\n",
       "    <tr>\n",
       "      <th>8</th>\n",
       "      <td>2010</td>\n",
       "      <td>10925</td>\n",
       "    </tr>\n",
       "    <tr>\n",
       "      <th>9</th>\n",
       "      <td>2011</td>\n",
       "      <td>10905</td>\n",
       "    </tr>\n",
       "    <tr>\n",
       "      <th>10</th>\n",
       "      <td>2012</td>\n",
       "      <td>10069</td>\n",
       "    </tr>\n",
       "    <tr>\n",
       "      <th>11</th>\n",
       "      <td>2013</td>\n",
       "      <td>9698</td>\n",
       "    </tr>\n",
       "    <tr>\n",
       "      <th>12</th>\n",
       "      <td>2014</td>\n",
       "      <td>8848</td>\n",
       "    </tr>\n",
       "    <tr>\n",
       "      <th>13</th>\n",
       "      <td>2015</td>\n",
       "      <td>8666</td>\n",
       "    </tr>\n",
       "  </tbody>\n",
       "</table>\n",
       "</div>"
      ],
      "text/plain": [
       "    date_received  claim_type\n",
       "0            2002         932\n",
       "1            2003       21107\n",
       "2            2004       29504\n",
       "3            2005       24341\n",
       "4            2006       18981\n",
       "5            2007       18549\n",
       "6            2008       16386\n",
       "7            2009       12761\n",
       "8            2010       10925\n",
       "9            2011       10905\n",
       "10           2012       10069\n",
       "11           2013        9698\n",
       "12           2014        8848\n",
       "13           2015        8666"
      ]
     },
     "execution_count": 121,
     "metadata": {},
     "output_type": "execute_result"
    }
   ],
   "source": [
    "# claim per year\n",
    "claim_per_year = pd.DataFrame(df2.groupby(df2.date_received.dt.year)['claim_type'].count().reset_index())\n",
    "claim_per_year"
   ]
  },
  {
   "cell_type": "code",
   "execution_count": 122,
   "metadata": {},
   "outputs": [
    {
     "data": {
      "image/png": "[encoded data removed]",
      "text/plain": [
       "<Figure size 640x480 with 1 Axes>"
      ]
     },
     "metadata": {},
     "output_type": "display_data"
    }
   ],
   "source": [
    "sns.lineplot(data = claim_per_year, x= 'date_received', y='claim_type', color = 'blue')\n",
    "\n",
    "plt.title('Number of Claims Per Year')\n",
    "plt.xlabel('Year')\n",
    "plt.ylabel('No. of Claims')\n",
    "plt.xticks(rotation=70)\n",
    "plt.tight_layout()"
   ]
  },
  {
   "attachments": {},
   "cell_type": "markdown",
   "metadata": {},
   "source": [
    "Berdasarkan grafik diatas, kita bisa simpulkan:\n",
    "* 2002 memiliki laporan klaim yang paling sedikit kemungkinan karena, 2002 menjadi titik awal pengumpulan data.\n",
    "* 2004 menjadi tahun yang paling banyak memiliki laporan klaim sekitar > 29000 laporan\n",
    "* Semenjak 2004, terjadi penurunan jumlah klaim setiap tahunnya."
   ]
  },
  {
   "attachments": {},
   "cell_type": "markdown",
   "metadata": {},
   "source": [
    "## B. Claim Per Month"
   ]
  },
  {
   "cell_type": "code",
   "execution_count": 123,
   "metadata": {},
   "outputs": [
    {
     "data": {
      "text/html": [
       "<div>\n",
       "<style scoped>\n",
       "    .dataframe tbody tr th:only-of-type {\n",
       "        vertical-align: middle;\n",
       "    }\n",
       "\n",
       "    .dataframe tbody tr th {\n",
       "        vertical-align: top;\n",
       "    }\n",
       "\n",
       "    .dataframe thead th {\n",
       "        text-align: right;\n",
       "    }\n",
       "</style>\n",
       "<table border=\"1\" class=\"dataframe\">\n",
       "  <thead>\n",
       "    <tr style=\"text-align: right;\">\n",
       "      <th></th>\n",
       "      <th>incident_dates</th>\n",
       "      <th>claim_type</th>\n",
       "    </tr>\n",
       "  </thead>\n",
       "  <tbody>\n",
       "    <tr>\n",
       "      <th>0</th>\n",
       "      <td>1</td>\n",
       "      <td>17042</td>\n",
       "    </tr>\n",
       "    <tr>\n",
       "      <th>1</th>\n",
       "      <td>2</td>\n",
       "      <td>14589</td>\n",
       "    </tr>\n",
       "    <tr>\n",
       "      <th>2</th>\n",
       "      <td>3</td>\n",
       "      <td>17065</td>\n",
       "    </tr>\n",
       "    <tr>\n",
       "      <th>3</th>\n",
       "      <td>4</td>\n",
       "      <td>16096</td>\n",
       "    </tr>\n",
       "    <tr>\n",
       "      <th>4</th>\n",
       "      <td>5</td>\n",
       "      <td>17255</td>\n",
       "    </tr>\n",
       "    <tr>\n",
       "      <th>5</th>\n",
       "      <td>6</td>\n",
       "      <td>17345</td>\n",
       "    </tr>\n",
       "    <tr>\n",
       "      <th>6</th>\n",
       "      <td>7</td>\n",
       "      <td>17995</td>\n",
       "    </tr>\n",
       "    <tr>\n",
       "      <th>7</th>\n",
       "      <td>8</td>\n",
       "      <td>18262</td>\n",
       "    </tr>\n",
       "    <tr>\n",
       "      <th>8</th>\n",
       "      <td>9</td>\n",
       "      <td>16050</td>\n",
       "    </tr>\n",
       "    <tr>\n",
       "      <th>9</th>\n",
       "      <td>10</td>\n",
       "      <td>16567</td>\n",
       "    </tr>\n",
       "    <tr>\n",
       "      <th>10</th>\n",
       "      <td>11</td>\n",
       "      <td>15348</td>\n",
       "    </tr>\n",
       "    <tr>\n",
       "      <th>11</th>\n",
       "      <td>12</td>\n",
       "      <td>18058</td>\n",
       "    </tr>\n",
       "  </tbody>\n",
       "</table>\n",
       "</div>"
      ],
      "text/plain": [
       "    incident_dates  claim_type\n",
       "0                1       17042\n",
       "1                2       14589\n",
       "2                3       17065\n",
       "3                4       16096\n",
       "4                5       17255\n",
       "5                6       17345\n",
       "6                7       17995\n",
       "7                8       18262\n",
       "8                9       16050\n",
       "9               10       16567\n",
       "10              11       15348\n",
       "11              12       18058"
      ]
     },
     "execution_count": 123,
     "metadata": {},
     "output_type": "execute_result"
    }
   ],
   "source": [
    "# claim per month\n",
    "claim_per_month = pd.DataFrame(df2.groupby(df2.incident_dates.dt.month)['claim_type'].count().reset_index())\n",
    "claim_per_month"
   ]
  },
  {
   "cell_type": "code",
   "execution_count": 124,
   "metadata": {},
   "outputs": [
    {
     "data": {
      "image/png": "[encoded data removed]",
      "text/plain": [
       "<Figure size 640x480 with 1 Axes>"
      ]
     },
     "metadata": {},
     "output_type": "display_data"
    }
   ],
   "source": [
    "sns.lineplot(data = claim_per_month, x= 'incident_dates', y='claim_type', color = 'blue')\n",
    "\n",
    "plt.title('Number of Claims Per Month')\n",
    "plt.xlabel('Year')\n",
    "plt.ylabel('No. of Claims')\n",
    "plt.xticks(rotation=70)\n",
    "plt.tight_layout()"
   ]
  },
  {
   "attachments": {},
   "cell_type": "markdown",
   "metadata": {},
   "source": [
    "Dari Grafik diatas kita bisa simpulkan:\n",
    "* Lonjakan klaim terjadi pada musim liburan, tepatnya pada Des-Jan bertepatan dengan Tahun Baru dan Natal, dan juga Juni - Agustus yang merupakan Summer Break\n",
    "sehingga banyak warga AS yang berpergian."
   ]
  },
  {
   "attachments": {},
   "cell_type": "markdown",
   "metadata": {},
   "source": [
    "## C. Claim Per Airport"
   ]
  },
  {
   "cell_type": "code",
   "execution_count": 125,
   "metadata": {},
   "outputs": [
    {
     "data": {
      "text/html": [
       "<div>\n",
       "<style scoped>\n",
       "    .dataframe tbody tr th:only-of-type {\n",
       "        vertical-align: middle;\n",
       "    }\n",
       "\n",
       "    .dataframe tbody tr th {\n",
       "        vertical-align: top;\n",
       "    }\n",
       "\n",
       "    .dataframe thead th {\n",
       "        text-align: right;\n",
       "    }\n",
       "</style>\n",
       "<table border=\"1\" class=\"dataframe\">\n",
       "  <thead>\n",
       "    <tr style=\"text-align: right;\">\n",
       "      <th></th>\n",
       "      <th>airport_code</th>\n",
       "      <th>claim_type</th>\n",
       "    </tr>\n",
       "  </thead>\n",
       "  <tbody>\n",
       "    <tr>\n",
       "      <th>245</th>\n",
       "      <td>LAX</td>\n",
       "      <td>9543</td>\n",
       "    </tr>\n",
       "    <tr>\n",
       "      <th>231</th>\n",
       "      <td>JFK</td>\n",
       "      <td>9191</td>\n",
       "    </tr>\n",
       "    <tr>\n",
       "      <th>327</th>\n",
       "      <td>Others</td>\n",
       "      <td>7411</td>\n",
       "    </tr>\n",
       "    <tr>\n",
       "      <th>137</th>\n",
       "      <td>EWR</td>\n",
       "      <td>6834</td>\n",
       "    </tr>\n",
       "    <tr>\n",
       "      <th>320</th>\n",
       "      <td>ORD</td>\n",
       "      <td>6809</td>\n",
       "    </tr>\n",
       "    <tr>\n",
       "      <th>287</th>\n",
       "      <td>MIA</td>\n",
       "      <td>6397</td>\n",
       "    </tr>\n",
       "    <tr>\n",
       "      <th>275</th>\n",
       "      <td>MCO</td>\n",
       "      <td>6368</td>\n",
       "    </tr>\n",
       "    <tr>\n",
       "      <th>27</th>\n",
       "      <td>ATL</td>\n",
       "      <td>5841</td>\n",
       "    </tr>\n",
       "    <tr>\n",
       "      <th>398</th>\n",
       "      <td>SEA</td>\n",
       "      <td>5373</td>\n",
       "    </tr>\n",
       "    <tr>\n",
       "      <th>339</th>\n",
       "      <td>PHX</td>\n",
       "      <td>5045</td>\n",
       "    </tr>\n",
       "  </tbody>\n",
       "</table>\n",
       "</div>"
      ],
      "text/plain": [
       "    airport_code  claim_type\n",
       "245          LAX        9543\n",
       "231          JFK        9191\n",
       "327       Others        7411\n",
       "137          EWR        6834\n",
       "320          ORD        6809\n",
       "287          MIA        6397\n",
       "275          MCO        6368\n",
       "27           ATL        5841\n",
       "398          SEA        5373\n",
       "339          PHX        5045"
      ]
     },
     "execution_count": 125,
     "metadata": {},
     "output_type": "execute_result"
    }
   ],
   "source": [
    "# claim per airport_code\n",
    "claim_per_airport = pd.DataFrame(df2.groupby(df2.airport_code)['claim_type'].count().reset_index().sort_values(by='claim_type',ascending=False).head(10))\n",
    "claim_per_airport"
   ]
  },
  {
   "cell_type": "code",
   "execution_count": 126,
   "metadata": {},
   "outputs": [
    {
     "data": {
      "image/png": "[encoded data removed]",
      "text/plain": [
       "<Figure size 640x480 with 1 Axes>"
      ]
     },
     "metadata": {},
     "output_type": "display_data"
    }
   ],
   "source": [
    "sns.barplot(data = claim_per_airport, x= 'airport_code', y='claim_type', color = 'blue')\n",
    "\n",
    "plt.title('Number of Claims Per Airport from 2002 - 2015')\n",
    "plt.xlabel('Airport Code')\n",
    "plt.ylabel('No. of Claims')\n",
    "plt.xticks(rotation=70)\n",
    "plt.tight_layout()"
   ]
  },
  {
   "attachments": {},
   "cell_type": "markdown",
   "metadata": {},
   "source": [
    "Berdasarkan grafik diatas, kita bisa simpulkan:\n",
    "* LAX atau Los Angeles International Airport menjadi peringkat teratas untuk jumlah laporan klaim, dengan total > 9500.\n",
    "* Diikuti dengan JFK International Airport diposisi kedua dengan jumlah laporan > 9100.\n"
   ]
  },
  {
   "attachments": {},
   "cell_type": "markdown",
   "metadata": {},
   "source": [
    "## D. Claim Per Claim Type"
   ]
  },
  {
   "cell_type": "code",
   "execution_count": 127,
   "metadata": {},
   "outputs": [
    {
     "data": {
      "text/html": [
       "<div>\n",
       "<style scoped>\n",
       "    .dataframe tbody tr th:only-of-type {\n",
       "        vertical-align: middle;\n",
       "    }\n",
       "\n",
       "    .dataframe tbody tr th {\n",
       "        vertical-align: top;\n",
       "    }\n",
       "\n",
       "    .dataframe thead th {\n",
       "        text-align: right;\n",
       "    }\n",
       "</style>\n",
       "<table border=\"1\" class=\"dataframe\">\n",
       "  <thead>\n",
       "    <tr style=\"text-align: right;\">\n",
       "      <th></th>\n",
       "      <th>claim_type</th>\n",
       "      <th>status</th>\n",
       "    </tr>\n",
       "  </thead>\n",
       "  <tbody>\n",
       "    <tr>\n",
       "      <th>6</th>\n",
       "      <td>Passenger Property Loss</td>\n",
       "      <td>122585</td>\n",
       "    </tr>\n",
       "    <tr>\n",
       "      <th>9</th>\n",
       "      <td>Property Damage</td>\n",
       "      <td>75795</td>\n",
       "    </tr>\n",
       "    <tr>\n",
       "      <th>8</th>\n",
       "      <td>Personal Injury</td>\n",
       "      <td>1452</td>\n",
       "    </tr>\n",
       "    <tr>\n",
       "      <th>3</th>\n",
       "      <td>Employee Loss (MPCECA)</td>\n",
       "      <td>485</td>\n",
       "    </tr>\n",
       "    <tr>\n",
       "      <th>7</th>\n",
       "      <td>Passenger Theft</td>\n",
       "      <td>463</td>\n",
       "    </tr>\n",
       "  </tbody>\n",
       "</table>\n",
       "</div>"
      ],
      "text/plain": [
       "                claim_type  status\n",
       "6  Passenger Property Loss  122585\n",
       "9          Property Damage   75795\n",
       "8          Personal Injury    1452\n",
       "3   Employee Loss (MPCECA)     485\n",
       "7          Passenger Theft     463"
      ]
     },
     "execution_count": 127,
     "metadata": {},
     "output_type": "execute_result"
    }
   ],
   "source": [
    "# claim per airport_code\n",
    "claim_per_claim_type = pd.DataFrame(df2.groupby(df2.claim_type)['status'].count().reset_index().sort_values(by='status',ascending=False).head())\n",
    "claim_per_claim_type"
   ]
  },
  {
   "cell_type": "code",
   "execution_count": 128,
   "metadata": {},
   "outputs": [
    {
     "name": "stdout",
     "output_type": "stream",
     "text": [
      "\n",
      "Persentase claim properti loss = 61.05%\n",
      "\n",
      "Persentase properti damage = 37.75%\n",
      "\n"
     ]
    }
   ],
   "source": [
    "property_loss = round(claim_per_claim_type['status'][6] / claim_per_claim_type['status'].sum()*100,2)\n",
    "property_damage = round(claim_per_claim_type['status'][9] / claim_per_claim_type['status'].sum()*100,2)\n",
    "\n",
    "print(f'''\n",
    "Persentase claim properti loss = {property_loss}%\n",
    "\n",
    "Persentase properti damage = {property_damage}%\n",
    "''')\n"
   ]
  },
  {
   "cell_type": "code",
   "execution_count": 129,
   "metadata": {},
   "outputs": [
    {
     "data": {
      "image/png": "[encoded data removed]",
      "text/plain": [
       "<Figure size 640x480 with 1 Axes>"
      ]
     },
     "metadata": {},
     "output_type": "display_data"
    }
   ],
   "source": [
    "sns.barplot(data = claim_per_claim_type, x= 'claim_type', y='status', color = 'blue')\n",
    "\n",
    "plt.title('Number of Claims Based On Type')\n",
    "plt.xlabel('Claim Type')\n",
    "plt.ylabel('No. of Claims')\n",
    "plt.xticks(rotation=70)\n",
    "plt.tight_layout()"
   ]
  },
  {
   "attachments": {},
   "cell_type": "markdown",
   "metadata": {},
   "source": [
    "Berdasarkan grafik diatas, kita bisa simpulkan:\n",
    "* Passenger Property Loss dan Property Damage menjadi tipe klaim yang mendominasi pelaporan klaim terhadap TSA\n",
    "* Hal ini wajar, karena di bandara ada proses scanning yang mewajibkan penumpang untuk melepaskan barang yang dipakai atau dibawa sebelum masuk ke proses scanning.\n",
    "* Hal ini bisa disebabkan oleh kelalaian pegawai airline atau TSA itu sendiri.\n",
    "* Atau penumpang yang tidak mematuhi peraturan dan regulasi dalam *packing* barang bawaan."
   ]
  },
  {
   "attachments": {},
   "cell_type": "markdown",
   "metadata": {},
   "source": [
    "## E. Claim Per Claim Site"
   ]
  },
  {
   "cell_type": "code",
   "execution_count": 130,
   "metadata": {},
   "outputs": [
    {
     "data": {
      "text/html": [
       "<div>\n",
       "<style scoped>\n",
       "    .dataframe tbody tr th:only-of-type {\n",
       "        vertical-align: middle;\n",
       "    }\n",
       "\n",
       "    .dataframe tbody tr th {\n",
       "        vertical-align: top;\n",
       "    }\n",
       "\n",
       "    .dataframe thead th {\n",
       "        text-align: right;\n",
       "    }\n",
       "</style>\n",
       "<table border=\"1\" class=\"dataframe\">\n",
       "  <thead>\n",
       "    <tr style=\"text-align: right;\">\n",
       "      <th></th>\n",
       "      <th>claim_site</th>\n",
       "      <th>status</th>\n",
       "      <th>persentase</th>\n",
       "    </tr>\n",
       "  </thead>\n",
       "  <tbody>\n",
       "    <tr>\n",
       "      <th>1</th>\n",
       "      <td>Checked Baggage</td>\n",
       "      <td>158852</td>\n",
       "      <td>78.96</td>\n",
       "    </tr>\n",
       "    <tr>\n",
       "      <th>2</th>\n",
       "      <td>Checkpoint</td>\n",
       "      <td>39896</td>\n",
       "      <td>19.83</td>\n",
       "    </tr>\n",
       "    <tr>\n",
       "      <th>4</th>\n",
       "      <td>Others</td>\n",
       "      <td>2437</td>\n",
       "      <td>1.21</td>\n",
       "    </tr>\n",
       "  </tbody>\n",
       "</table>\n",
       "</div>"
      ],
      "text/plain": [
       "        claim_site  status  persentase\n",
       "1  Checked Baggage  158852       78.96\n",
       "2       Checkpoint   39896       19.83\n",
       "4           Others    2437        1.21"
      ]
     },
     "execution_count": 130,
     "metadata": {},
     "output_type": "execute_result"
    }
   ],
   "source": [
    "# claim per airport_code\n",
    "claim_per_claim_site = pd.DataFrame(df2.groupby(df2.claim_site)['status'].count().reset_index().sort_values(by='status',ascending=False).head(3))\n",
    "claim_per_claim_site['persentase'] = round(claim_per_claim_site['status']/claim_per_claim_site['status'].sum()*100,2)\n",
    "claim_per_claim_site"
   ]
  },
  {
   "cell_type": "code",
   "execution_count": 131,
   "metadata": {},
   "outputs": [
    {
     "data": {
      "image/png": "[encoded data removed]",
      "text/plain": [
       "<Figure size 640x480 with 1 Axes>"
      ]
     },
     "metadata": {},
     "output_type": "display_data"
    }
   ],
   "source": [
    "sns.barplot(data = claim_per_claim_site, x= 'claim_site', y='status', color = 'blue')\n",
    "\n",
    "plt.title('Number of Claims Based On Claim Site')\n",
    "plt.xlabel('Claim Site')\n",
    "plt.ylabel('No. of Claims')\n",
    "plt.xticks(rotation=70)\n",
    "plt.tight_layout()"
   ]
  },
  {
   "attachments": {},
   "cell_type": "markdown",
   "metadata": {},
   "source": [
    "Berdasarkan grafik diatas, kita bisa simpulkan:\n",
    "* Checked Baggage menjadi tempat utama dimana passenger kehilangan barang atau barang mengalami kerusakan.\n",
    "* Barang yang hilang atau rusak di area checked baggage menjadi tanggung jawab airline setelah barang tersebut melewati *sorting system* bandara.\n",
    "* Kemudian, lokasi kedua paling banyak laporan klaim adalah checkpoint. Barang yang hilang atau rusak di Checkpoint merupakan tanggung jawab penuh TSA."
   ]
  },
  {
   "attachments": {},
   "cell_type": "markdown",
   "metadata": {},
   "source": [
    "## F. Claim Per Airline"
   ]
  },
  {
   "cell_type": "code",
   "execution_count": 132,
   "metadata": {},
   "outputs": [
    {
     "data": {
      "text/html": [
       "<div>\n",
       "<style scoped>\n",
       "    .dataframe tbody tr th:only-of-type {\n",
       "        vertical-align: middle;\n",
       "    }\n",
       "\n",
       "    .dataframe tbody tr th {\n",
       "        vertical-align: top;\n",
       "    }\n",
       "\n",
       "    .dataframe thead th {\n",
       "        text-align: right;\n",
       "    }\n",
       "</style>\n",
       "<table border=\"1\" class=\"dataframe\">\n",
       "  <thead>\n",
       "    <tr style=\"text-align: right;\">\n",
       "      <th></th>\n",
       "      <th>airline_name</th>\n",
       "      <th>status</th>\n",
       "    </tr>\n",
       "  </thead>\n",
       "  <tbody>\n",
       "    <tr>\n",
       "      <th>96</th>\n",
       "      <td>Delta Air Lines</td>\n",
       "      <td>28627</td>\n",
       "    </tr>\n",
       "    <tr>\n",
       "      <th>196</th>\n",
       "      <td>Southwest Airlines</td>\n",
       "      <td>27862</td>\n",
       "    </tr>\n",
       "    <tr>\n",
       "      <th>53</th>\n",
       "      <td>American Airlines</td>\n",
       "      <td>27366</td>\n",
       "    </tr>\n",
       "    <tr>\n",
       "      <th>215</th>\n",
       "      <td>UAL</td>\n",
       "      <td>24221</td>\n",
       "    </tr>\n",
       "    <tr>\n",
       "      <th>218</th>\n",
       "      <td>USAir</td>\n",
       "      <td>14791</td>\n",
       "    </tr>\n",
       "    <tr>\n",
       "      <th>88</th>\n",
       "      <td>Continental Airlines</td>\n",
       "      <td>12760</td>\n",
       "    </tr>\n",
       "    <tr>\n",
       "      <th>158</th>\n",
       "      <td>Northwest Airlines</td>\n",
       "      <td>10553</td>\n",
       "    </tr>\n",
       "    <tr>\n",
       "      <th>163</th>\n",
       "      <td>Others</td>\n",
       "      <td>9260</td>\n",
       "    </tr>\n",
       "    <tr>\n",
       "      <th>134</th>\n",
       "      <td>Jet Blue</td>\n",
       "      <td>8837</td>\n",
       "    </tr>\n",
       "    <tr>\n",
       "      <th>44</th>\n",
       "      <td>Alaska Airlines</td>\n",
       "      <td>8176</td>\n",
       "    </tr>\n",
       "  </tbody>\n",
       "</table>\n",
       "</div>"
      ],
      "text/plain": [
       "             airline_name  status\n",
       "96        Delta Air Lines   28627\n",
       "196    Southwest Airlines   27862\n",
       "53      American Airlines   27366\n",
       "215                   UAL   24221\n",
       "218                 USAir   14791\n",
       "88   Continental Airlines   12760\n",
       "158    Northwest Airlines   10553\n",
       "163                Others    9260\n",
       "134              Jet Blue    8837\n",
       "44        Alaska Airlines    8176"
      ]
     },
     "execution_count": 132,
     "metadata": {},
     "output_type": "execute_result"
    }
   ],
   "source": [
    "# claim per airport_code\n",
    "claim_per_airline = pd.DataFrame((df2.groupby(df2.airline_name))['status'].count().reset_index().sort_values(by='status',ascending=False).head(10))\n",
    "claim_per_airline"
   ]
  },
  {
   "cell_type": "code",
   "execution_count": 133,
   "metadata": {},
   "outputs": [
    {
     "data": {
      "image/png": "[encoded data removed]",
      "text/plain": [
       "<Figure size 640x480 with 1 Axes>"
      ]
     },
     "metadata": {},
     "output_type": "display_data"
    }
   ],
   "source": [
    "sns.barplot(data = claim_per_airline, x= 'airline_name', y='status', color = 'blue')\n",
    "\n",
    "plt.title('Number of Claims Per Airline')\n",
    "plt.xlabel('Airline Name')\n",
    "plt.ylabel('No. of Claims')\n",
    "plt.xticks(rotation=70)\n",
    "plt.tight_layout()"
   ]
  },
  {
   "cell_type": "code",
   "execution_count": 134,
   "metadata": {},
   "outputs": [
    {
     "data": {
      "text/plain": [
       "ATL    4169\n",
       "JFK    1726\n",
       "LAX     900\n",
       "CVG     899\n",
       "SLC     850\n",
       "Name: airport_code, dtype: int64"
      ]
     },
     "execution_count": 134,
     "metadata": {},
     "output_type": "execute_result"
    }
   ],
   "source": [
    "df2.loc[df2.airline_name == 'Delta Air Lines']['airport_code'].value_counts().head()"
   ]
  },
  {
   "attachments": {},
   "cell_type": "markdown",
   "metadata": {},
   "source": [
    "Berdasarkan grafik diatas, kita bisa simpulkan:\n",
    "* Delta Air Lines, menjadi maskapai penerbangan yang paling banyak memiliki laporan klaim."
   ]
  },
  {
   "attachments": {},
   "cell_type": "markdown",
   "metadata": {},
   "source": [
    "## G. Claim Per Status"
   ]
  },
  {
   "cell_type": "code",
   "execution_count": 135,
   "metadata": {},
   "outputs": [
    {
     "data": {
      "text/html": [
       "<div>\n",
       "<style scoped>\n",
       "    .dataframe tbody tr th:only-of-type {\n",
       "        vertical-align: middle;\n",
       "    }\n",
       "\n",
       "    .dataframe tbody tr th {\n",
       "        vertical-align: top;\n",
       "    }\n",
       "\n",
       "    .dataframe thead th {\n",
       "        text-align: right;\n",
       "    }\n",
       "</style>\n",
       "<table border=\"1\" class=\"dataframe\">\n",
       "  <thead>\n",
       "    <tr style=\"text-align: right;\">\n",
       "      <th></th>\n",
       "      <th>status</th>\n",
       "      <th>claim_type</th>\n",
       "      <th>persentase</th>\n",
       "    </tr>\n",
       "  </thead>\n",
       "  <tbody>\n",
       "    <tr>\n",
       "      <th>3</th>\n",
       "      <td>Settled</td>\n",
       "      <td>33448</td>\n",
       "      <td>16.59</td>\n",
       "    </tr>\n",
       "    <tr>\n",
       "      <th>2</th>\n",
       "      <td>In Process</td>\n",
       "      <td>18689</td>\n",
       "      <td>9.27</td>\n",
       "    </tr>\n",
       "    <tr>\n",
       "      <th>1</th>\n",
       "      <td>Denied</td>\n",
       "      <td>102485</td>\n",
       "      <td>50.82</td>\n",
       "    </tr>\n",
       "    <tr>\n",
       "      <th>0</th>\n",
       "      <td>Approved</td>\n",
       "      <td>47050</td>\n",
       "      <td>23.33</td>\n",
       "    </tr>\n",
       "  </tbody>\n",
       "</table>\n",
       "</div>"
      ],
      "text/plain": [
       "       status  claim_type  persentase\n",
       "3     Settled       33448       16.59\n",
       "2  In Process       18689        9.27\n",
       "1      Denied      102485       50.82\n",
       "0    Approved       47050       23.33"
      ]
     },
     "execution_count": 135,
     "metadata": {},
     "output_type": "execute_result"
    }
   ],
   "source": [
    "# claim per airport_code\n",
    "claim_status = pd.DataFrame((df2.groupby(df2.status))['claim_type'].count().reset_index().sort_values(by='status',ascending=False))\n",
    "claim_status['persentase'] = round(claim_status['claim_type'] / claim_status['claim_type'].sum() *100,2)\n",
    "claim_status"
   ]
  },
  {
   "cell_type": "code",
   "execution_count": 136,
   "metadata": {},
   "outputs": [
    {
     "data": {
      "image/png": "[encoded data removed]",
      "text/plain": [
       "<Figure size 640x480 with 1 Axes>"
      ]
     },
     "metadata": {},
     "output_type": "display_data"
    }
   ],
   "source": [
    "sns.barplot(data = claim_status, x= 'status', y='claim_type', color = 'blue')\n",
    "\n",
    "plt.title('Number of Claims Based on Status')\n",
    "plt.xlabel('Status')\n",
    "plt.ylabel('No. of Claims')\n",
    "plt.xticks(rotation=70)\n",
    "plt.tight_layout()"
   ]
  },
  {
   "attachments": {},
   "cell_type": "markdown",
   "metadata": {},
   "source": [
    "Berdasarkan grafik diatas, kita bisa simpulkan:\n",
    "* Kebanyakan klaim yang dilayangkan oleh penumpang mendapatkan status *denied* oleh TSA, hal ini bisa disebabkan oleh beberapa sebab:\n",
    "> * Kurangnya dokumen atau bukti kepemilikan barang tersebut.\n",
    "> * Setelah investigasi dari TSA tidak ditemukan bukti yang cukup untuk menerima klaim tersebut.\n",
    "> * Kerusakan atau kehilangan barang bukan merupakan tanggung jawab TSA.\n"
   ]
  },
  {
   "attachments": {},
   "cell_type": "markdown",
   "metadata": {},
   "source": [
    "## H. Approved Claim Type"
   ]
  },
  {
   "cell_type": "code",
   "execution_count": 137,
   "metadata": {},
   "outputs": [
    {
     "data": {
      "text/html": [
       "<div>\n",
       "<style scoped>\n",
       "    .dataframe tbody tr th:only-of-type {\n",
       "        vertical-align: middle;\n",
       "    }\n",
       "\n",
       "    .dataframe tbody tr th {\n",
       "        vertical-align: top;\n",
       "    }\n",
       "\n",
       "    .dataframe thead th {\n",
       "        text-align: right;\n",
       "    }\n",
       "</style>\n",
       "<table border=\"1\" class=\"dataframe\">\n",
       "  <thead>\n",
       "    <tr style=\"text-align: right;\">\n",
       "      <th></th>\n",
       "      <th>claim_type</th>\n",
       "      <th>status</th>\n",
       "    </tr>\n",
       "  </thead>\n",
       "  <tbody>\n",
       "    <tr>\n",
       "      <th>5</th>\n",
       "      <td>Passenger Property Loss</td>\n",
       "      <td>43022</td>\n",
       "    </tr>\n",
       "    <tr>\n",
       "      <th>8</th>\n",
       "      <td>Property Damage</td>\n",
       "      <td>36423</td>\n",
       "    </tr>\n",
       "    <tr>\n",
       "      <th>2</th>\n",
       "      <td>Employee Loss (MPCECA)</td>\n",
       "      <td>275</td>\n",
       "    </tr>\n",
       "    <tr>\n",
       "      <th>6</th>\n",
       "      <td>Passenger Theft</td>\n",
       "      <td>253</td>\n",
       "    </tr>\n",
       "    <tr>\n",
       "      <th>7</th>\n",
       "      <td>Personal Injury</td>\n",
       "      <td>245</td>\n",
       "    </tr>\n",
       "  </tbody>\n",
       "</table>\n",
       "</div>"
      ],
      "text/plain": [
       "                claim_type  status\n",
       "5  Passenger Property Loss   43022\n",
       "8          Property Damage   36423\n",
       "2   Employee Loss (MPCECA)     275\n",
       "6          Passenger Theft     253\n",
       "7          Personal Injury     245"
      ]
     },
     "execution_count": 137,
     "metadata": {},
     "output_type": "execute_result"
    }
   ],
   "source": [
    "approved_claim = df2.loc[(df2['status']=='Approved') | (df2['status']=='Settled')]\n",
    "approved_claim = pd.DataFrame((approved_claim.groupby(approved_claim.claim_type))['status'].count().reset_index().sort_values(by='status',ascending=False).head())\n",
    "approved_claim"
   ]
  },
  {
   "cell_type": "code",
   "execution_count": 138,
   "metadata": {},
   "outputs": [
    {
     "data": {
      "image/png": "[encoded data removed]",
      "text/plain": [
       "<Figure size 640x480 with 1 Axes>"
      ]
     },
     "metadata": {},
     "output_type": "display_data"
    }
   ],
   "source": [
    "sns.barplot(data = approved_claim , y= 'status', x='claim_type', color = 'blue')\n",
    "\n",
    "plt.title('Number of Approved Claims Based on Claim Type')\n",
    "plt.xlabel('Claim Type')\n",
    "plt.ylabel('No. of Claims')\n",
    "plt.xticks(rotation=70)\n",
    "plt.tight_layout()"
   ]
  },
  {
   "attachments": {},
   "cell_type": "markdown",
   "metadata": {},
   "source": [
    "Berdasarkan grafik diatas, kita bisa simpulkan:\n",
    "* Klaim yang disetujui oleh TSA didominasi oleh property loss dan property damage\n"
   ]
  },
  {
   "attachments": {},
   "cell_type": "markdown",
   "metadata": {},
   "source": [
    "## H. Reimbursed Claim"
   ]
  },
  {
   "cell_type": "code",
   "execution_count": 139,
   "metadata": {},
   "outputs": [],
   "source": [
    "approved_claim = df2.loc[(df2['status']=='Approved') | (df2['status']=='Settled')]"
   ]
  },
  {
   "cell_type": "code",
   "execution_count": 149,
   "metadata": {},
   "outputs": [],
   "source": [
    "close = approved_claim.groupby('claim_type')['close_amount'].sum()"
   ]
  },
  {
   "cell_type": "code",
   "execution_count": 150,
   "metadata": {},
   "outputs": [],
   "source": [
    "claim = round(approved_claim.groupby('claim_type')['claim_amount'].sum(),2)"
   ]
  },
  {
   "cell_type": "code",
   "execution_count": 165,
   "metadata": {},
   "outputs": [],
   "source": [
    "withold_payment= claim - close"
   ]
  },
  {
   "cell_type": "code",
   "execution_count": 179,
   "metadata": {},
   "outputs": [
    {
     "data": {
      "text/html": [
       "<div>\n",
       "<style scoped>\n",
       "    .dataframe tbody tr th:only-of-type {\n",
       "        vertical-align: middle;\n",
       "    }\n",
       "\n",
       "    .dataframe tbody tr th {\n",
       "        vertical-align: top;\n",
       "    }\n",
       "\n",
       "    .dataframe thead th {\n",
       "        text-align: right;\n",
       "    }\n",
       "</style>\n",
       "<table border=\"1\" class=\"dataframe\">\n",
       "  <thead>\n",
       "    <tr style=\"text-align: right;\">\n",
       "      <th></th>\n",
       "      <th>Reimbursed</th>\n",
       "      <th>Withold Payment</th>\n",
       "    </tr>\n",
       "    <tr>\n",
       "      <th>claim_type</th>\n",
       "      <th></th>\n",
       "      <th></th>\n",
       "    </tr>\n",
       "  </thead>\n",
       "  <tbody>\n",
       "    <tr>\n",
       "      <th>Passenger Property Loss</th>\n",
       "      <td>7330532.47</td>\n",
       "      <td>4915727.49</td>\n",
       "    </tr>\n",
       "    <tr>\n",
       "      <th>Property Damage</th>\n",
       "      <td>6390903.94</td>\n",
       "      <td>3111664.76</td>\n",
       "    </tr>\n",
       "    <tr>\n",
       "      <th>Personal Injury</th>\n",
       "      <td>815795.09</td>\n",
       "      <td>8347141.72</td>\n",
       "    </tr>\n",
       "    <tr>\n",
       "      <th>Motor Vehicle</th>\n",
       "      <td>302017.40</td>\n",
       "      <td>43491.30</td>\n",
       "    </tr>\n",
       "    <tr>\n",
       "      <th>Passenger Theft</th>\n",
       "      <td>59641.10</td>\n",
       "      <td>32346.16</td>\n",
       "    </tr>\n",
       "    <tr>\n",
       "      <th>Employee Loss (MPCECA)</th>\n",
       "      <td>46399.07</td>\n",
       "      <td>19689.87</td>\n",
       "    </tr>\n",
       "    <tr>\n",
       "      <th>Others</th>\n",
       "      <td>14049.42</td>\n",
       "      <td>4946.41</td>\n",
       "    </tr>\n",
       "    <tr>\n",
       "      <th>Complaint</th>\n",
       "      <td>348.35</td>\n",
       "      <td>0.00</td>\n",
       "    </tr>\n",
       "    <tr>\n",
       "      <th>Bus Terminal</th>\n",
       "      <td>63.00</td>\n",
       "      <td>77.00</td>\n",
       "    </tr>\n",
       "  </tbody>\n",
       "</table>\n",
       "</div>"
      ],
      "text/plain": [
       "                         Reimbursed  Withold Payment\n",
       "claim_type                                          \n",
       "Passenger Property Loss  7330532.47       4915727.49\n",
       "Property Damage          6390903.94       3111664.76\n",
       "Personal Injury           815795.09       8347141.72\n",
       "Motor Vehicle             302017.40         43491.30\n",
       "Passenger Theft            59641.10         32346.16\n",
       "Employee Loss (MPCECA)     46399.07         19689.87\n",
       "Others                     14049.42          4946.41\n",
       "Complaint                    348.35             0.00\n",
       "Bus Terminal                  63.00            77.00"
      ]
     },
     "execution_count": 179,
     "metadata": {},
     "output_type": "execute_result"
    }
   ],
   "source": [
    "claim_reimbursed = pd.DataFrame({'Reimbursed' : close, 'Withold Payment' : claim-close})\n",
    "                                \n",
    "claim_reimbursed = claim_reimbursed.sort_values(by='Reimbursed', ascending=False)\n",
    "\n",
    "claim_reimbursed"
   ]
  },
  {
   "cell_type": "code",
   "execution_count": 180,
   "metadata": {},
   "outputs": [
    {
     "data": {
      "image/png": "[encoded data removed]",
      "text/plain": [
       "<Figure size 640x480 with 1 Axes>"
      ]
     },
     "metadata": {},
     "output_type": "display_data"
    }
   ],
   "source": [
    "claim_reimbursed.plot(kind='bar', stacked=True, color=['red', 'skyblue'])\n",
    "\n",
    "\n",
    "plt.title('Reimbursed Claim vs Not-Reimbursed Claim')\n",
    "plt.xlabel('Claim')\n",
    "plt.ylabel('Claim values')\n",
    "\n",
    "plt.show()"
   ]
  },
  {
   "cell_type": "code",
   "execution_count": 183,
   "metadata": {},
   "outputs": [
    {
     "data": {
      "text/html": [
       "<div>\n",
       "<style scoped>\n",
       "    .dataframe tbody tr th:only-of-type {\n",
       "        vertical-align: middle;\n",
       "    }\n",
       "\n",
       "    .dataframe tbody tr th {\n",
       "        vertical-align: top;\n",
       "    }\n",
       "\n",
       "    .dataframe thead th {\n",
       "        text-align: right;\n",
       "    }\n",
       "</style>\n",
       "<table border=\"1\" class=\"dataframe\">\n",
       "  <thead>\n",
       "    <tr style=\"text-align: right;\">\n",
       "      <th></th>\n",
       "      <th>Reimbursed</th>\n",
       "      <th>Withold Payment</th>\n",
       "      <th>persentase</th>\n",
       "    </tr>\n",
       "    <tr>\n",
       "      <th>claim_type</th>\n",
       "      <th></th>\n",
       "      <th></th>\n",
       "      <th></th>\n",
       "    </tr>\n",
       "  </thead>\n",
       "  <tbody>\n",
       "    <tr>\n",
       "      <th>Passenger Property Loss</th>\n",
       "      <td>7330532.47</td>\n",
       "      <td>4915727.49</td>\n",
       "      <td>59.859357</td>\n",
       "    </tr>\n",
       "    <tr>\n",
       "      <th>Property Damage</th>\n",
       "      <td>6390903.94</td>\n",
       "      <td>3111664.76</td>\n",
       "      <td>67.254488</td>\n",
       "    </tr>\n",
       "    <tr>\n",
       "      <th>Personal Injury</th>\n",
       "      <td>815795.09</td>\n",
       "      <td>8347141.72</td>\n",
       "      <td>8.903205</td>\n",
       "    </tr>\n",
       "    <tr>\n",
       "      <th>Motor Vehicle</th>\n",
       "      <td>302017.40</td>\n",
       "      <td>43491.30</td>\n",
       "      <td>87.412386</td>\n",
       "    </tr>\n",
       "    <tr>\n",
       "      <th>Passenger Theft</th>\n",
       "      <td>59641.10</td>\n",
       "      <td>32346.16</td>\n",
       "      <td>64.836261</td>\n",
       "    </tr>\n",
       "    <tr>\n",
       "      <th>Employee Loss (MPCECA)</th>\n",
       "      <td>46399.07</td>\n",
       "      <td>19689.87</td>\n",
       "      <td>70.207012</td>\n",
       "    </tr>\n",
       "    <tr>\n",
       "      <th>Others</th>\n",
       "      <td>14049.42</td>\n",
       "      <td>4946.41</td>\n",
       "      <td>73.960548</td>\n",
       "    </tr>\n",
       "    <tr>\n",
       "      <th>Complaint</th>\n",
       "      <td>348.35</td>\n",
       "      <td>0.00</td>\n",
       "      <td>100.000000</td>\n",
       "    </tr>\n",
       "    <tr>\n",
       "      <th>Bus Terminal</th>\n",
       "      <td>63.00</td>\n",
       "      <td>77.00</td>\n",
       "      <td>45.000000</td>\n",
       "    </tr>\n",
       "  </tbody>\n",
       "</table>\n",
       "</div>"
      ],
      "text/plain": [
       "                         Reimbursed  Withold Payment  persentase\n",
       "claim_type                                                      \n",
       "Passenger Property Loss  7330532.47       4915727.49   59.859357\n",
       "Property Damage          6390903.94       3111664.76   67.254488\n",
       "Personal Injury           815795.09       8347141.72    8.903205\n",
       "Motor Vehicle             302017.40         43491.30   87.412386\n",
       "Passenger Theft            59641.10         32346.16   64.836261\n",
       "Employee Loss (MPCECA)     46399.07         19689.87   70.207012\n",
       "Others                     14049.42          4946.41   73.960548\n",
       "Complaint                    348.35             0.00  100.000000\n",
       "Bus Terminal                  63.00            77.00   45.000000"
      ]
     },
     "execution_count": 183,
     "metadata": {},
     "output_type": "execute_result"
    }
   ],
   "source": [
    "claim_reimbursed['persentase'] = claim_reimbursed['Reimbursed'] / (claim_reimbursed['Reimbursed'] + claim_reimbursed['Withold Payment']) *100\n",
    "\n",
    "claim_reimbursed"
   ]
  },
  {
   "attachments": {},
   "cell_type": "markdown",
   "metadata": {},
   "source": [
    "* 59.85 % dari nilai klaim property Loss berhasil di klaim oleh penumpang\n",
    "* 67.25 % dari nilai klaim property damage berhasil di klaim oleh penumpang "
   ]
  },
  {
   "cell_type": "code",
   "execution_count": 186,
   "metadata": {},
   "outputs": [
    {
     "name": "stdout",
     "output_type": "stream",
     "text": [
      "Dari keseluruhan claim yang diajukan TSA hanya membayar 47.59% nilai klaim\n"
     ]
    }
   ],
   "source": [
    "#\n",
    "\n",
    "all_type_reimbursed = round(claim_reimbursed['Reimbursed'].sum() / (claim_reimbursed['Reimbursed'].sum() + claim_reimbursed['Withold Payment'].sum()) *100,2)\n",
    "\n",
    "print(f'Dari keseluruhan claim yang diajukan TSA hanya membayar {all_type_reimbursed}% nilai klaim')"
   ]
  },
  {
   "attachments": {},
   "cell_type": "markdown",
   "metadata": {},
   "source": [
    "# Kesimpulan"
   ]
  },
  {
   "attachments": {},
   "cell_type": "markdown",
   "metadata": {},
   "source": [
    "Dari Analisis yang sudah kita lakukan diatas dapat disimpulkan bahwa:\n",
    "* Jumlah pengajuan klaim paling tinggi pada tahun 2004, akan tetapi setelah 2004 jumlah laporan klaim mengalami penurunan.\n",
    "\n",
    "* Jumlah klaim meningkat pada bulan musim liburan seperti Desember, Januari, Juli, dan Agustus. Yang mana bulan tersebut bertepatan dengan Christmas & New Year, & Summer Break.\n",
    "\n",
    "* Tipe klaim yang paling banyak diajukan adalah *property loss* dan *property damage* dengan persentase masing-masing 61.06% dan 37.75% dari total keseluruhan klaim.\n",
    "\n",
    "* Bandara dengan jumlah pengajuan klaim terbanyak adalah Los Angeles International Airport (LAX), dengan total 9543 klaim sepanjang tahun 2002 sampai 2015.\n",
    "\n",
    "* Airline yang memiliki laporan klaim tertinggi adalah Delta Air Lines, dengan total jumlah laporan sebesar 28632 klaim sepanjang tahun 2002 sampai 2015.\n",
    "\n",
    "* Lokasi yang paling sering dilaporkan dalam klaim adalah *Checked Baggage* dengan persentase 78.96% dari total klaim, diikuti dengan *Checkpoint* sebesar 19.83%.\n",
    "\n",
    "* Status klaim sebanyak 50.82% di *Denied* oleh TSA, sementara klaim yang *Approved* dan *Settled* masing-masing sebesar 23.33 % dan 16.59%.\n",
    "\n",
    "* Dari klaim yang di *Approved* dan *Settled* tersebut hanya 47.59% dari total *claim amount* yang dikembalikan kepada penumpang. Dimana property damage, property loss, dan personal injury menjadi penyumbang terbesar.\n",
    "\n"
   ]
  },
  {
   "attachments": {},
   "cell_type": "markdown",
   "metadata": {},
   "source": [
    "# Rekomendasi"
   ]
  },
  {
   "attachments": {},
   "cell_type": "markdown",
   "metadata": {},
   "source": [
    "Rekomendasi\n",
    "\n",
    "1. Stakeholder terkait agar lebih waspada dan teliti pada saat musim liburan tiba. Bisa dilihat dari grafik sebelumnya jumlah klaim cenderung meningkat pada musim liburan. Terutama bulan Desember, Januari, Juli, dan Agustus\n",
    "\n",
    "2. Lokasi tempat insiden klaim terjadi kebanyakan di Area Checked Baggage. Yang dimana merupakan tanggung jawab Airline. Airline bisa bekerja sama dengan pihak Airport dan TSA untuk meningkatkan keamanan di wilayah checked baggage mereka. Terutama Airline yang memiliki jumlah klaim yang cukup tinggi seperti Delta Air Lines, Southwest Airlines, dan American Airlines.\n",
    "\n",
    "3. Pihak Airport dan TSA bisa meningatkan keamanan di Airport yang memiliki laporan klaim yang cukup tinggi seperti LAX, dan JFK.\n",
    "\n",
    "4. Dilihat dari klaim yang sudah di Reimbursed oleh penumpang, TSA bisa berupaya untuk mengurangi terjadinya Property Loss, Property Damage, dan Personal Injury untuk mengurangi uang yang harus dikeluarkan TSA sebagai bentuk ganti rugi. "
   ]
  },
  {
   "cell_type": "code",
   "execution_count": 146,
   "metadata": {},
   "outputs": [],
   "source": [
    "df2.to_excel(excel_writer=r'D:\\Dokumen\\Kerja\\File Capstone 2\\tsaclaims.xlsx',index=False)"
   ]
  }
 ],
 "metadata": {
  "kernelspec": {
   "display_name": "Python 3",
   "language": "python",
   "name": "python3"
  },
  "language_info": {
   "codemirror_mode": {
    "name": "ipython",
    "version": 3
   },
   "file_extension": ".py",
   "mimetype": "text/x-python",
   "name": "python",
   "nbconvert_exporter": "python",
   "pygments_lexer": "ipython3",
   "version": "3.11.1"
  },
  "orig_nbformat": 4,
  "vscode": {
   "interpreter": {
    "hash": "5721050f28f98171bd93f6849e77cc845a47e49de42db6da41bbc9a203117e25"
   }
  }
 },
 "nbformat": 4,
 "nbformat_minor": 2
}
